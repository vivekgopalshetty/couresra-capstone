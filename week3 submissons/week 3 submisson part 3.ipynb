{
 "cells": [
  {
   "cell_type": "code",
   "execution_count": 1,
   "metadata": {},
   "outputs": [],
   "source": [
    "import numpy as np\n",
    "import pandas as pd\n",
    "import requests\n",
    "import lxml\n",
    "from bs4 import BeautifulSoup"
   ]
  },
  {
   "cell_type": "code",
   "execution_count": 2,
   "metadata": {},
   "outputs": [],
   "source": [
    "source=requests.get(\"https://en.wikipedia.org/wiki/List_of_postal_codes_of_Canada:_M\").text"
   ]
  },
  {
   "cell_type": "code",
   "execution_count": 3,
   "metadata": {},
   "outputs": [],
   "source": [
    "soup=BeautifulSoup(source,'lxml')"
   ]
  },
  {
   "cell_type": "code",
   "execution_count": 4,
   "metadata": {},
   "outputs": [
    {
     "name": "stdout",
     "output_type": "stream",
     "text": [
      "found all\n"
     ]
    }
   ],
   "source": [
    "soup.find_all('td')\n",
    "print('found all')"
   ]
  },
  {
   "cell_type": "code",
   "execution_count": 5,
   "metadata": {},
   "outputs": [],
   "source": [
    "cnt=0\n",
    "dic={}\n",
    "postcode=[]\n",
    "borough=[]\n",
    "neighbourhood=[]"
   ]
  },
  {
   "cell_type": "code",
   "execution_count": 6,
   "metadata": {},
   "outputs": [],
   "source": [
    "for trow in soup.find_all(\"td\"):\n",
    "    try:\n",
    "        if(cnt==0):\n",
    "            pst_code=trow.text\n",
    "            cnt=cnt+1\n",
    "            if(pst_code[0]!='M'):\n",
    "                break\n",
    "        elif(cnt==1):\n",
    "            bor=trow.text\n",
    "            cnt=cnt+1\n",
    "        elif(cnt==2):\n",
    "            neigh=trow.text\n",
    "            cnt=0\n",
    "            postcode.append(pst_code)\n",
    "            borough.append(bor)\n",
    "            neighbourhood.append(neigh)\n",
    "    \n",
    "    except:\n",
    "        pass"
   ]
  },
  {
   "cell_type": "code",
   "execution_count": 7,
   "metadata": {},
   "outputs": [
    {
     "data": {
      "text/html": [
       "<div>\n",
       "<style scoped>\n",
       "    .dataframe tbody tr th:only-of-type {\n",
       "        vertical-align: middle;\n",
       "    }\n",
       "\n",
       "    .dataframe tbody tr th {\n",
       "        vertical-align: top;\n",
       "    }\n",
       "\n",
       "    .dataframe thead th {\n",
       "        text-align: right;\n",
       "    }\n",
       "</style>\n",
       "<table border=\"1\" class=\"dataframe\">\n",
       "  <thead>\n",
       "    <tr style=\"text-align: right;\">\n",
       "      <th></th>\n",
       "      <th>post_code</th>\n",
       "      <th>borough</th>\n",
       "      <th>neighbourhood</th>\n",
       "    </tr>\n",
       "  </thead>\n",
       "  <tbody>\n",
       "  </tbody>\n",
       "</table>\n",
       "</div>"
      ],
      "text/plain": [
       "Empty DataFrame\n",
       "Columns: [post_code, borough, neighbourhood]\n",
       "Index: []"
      ]
     },
     "execution_count": 7,
     "metadata": {},
     "output_type": "execute_result"
    }
   ],
   "source": [
    "df=pd.DataFrame(columns=['post_code','borough','neighbourhood'])\n",
    "df.head()"
   ]
  },
  {
   "cell_type": "code",
   "execution_count": 8,
   "metadata": {},
   "outputs": [],
   "source": [
    "li=[]\n",
    "for i in (neighbourhood):\n",
    "    i=i[0:len(i)-1]\n",
    "    li.append(i)\n"
   ]
  },
  {
   "cell_type": "code",
   "execution_count": 9,
   "metadata": {},
   "outputs": [
    {
     "data": {
      "text/plain": [
       "289"
      ]
     },
     "execution_count": 9,
     "metadata": {},
     "output_type": "execute_result"
    }
   ],
   "source": [
    "df['post_code']=postcode\n",
    "df['borough']=borough\n",
    "df['neighbourhood']=li\n",
    "df.shape[0]"
   ]
  },
  {
   "cell_type": "code",
   "execution_count": 10,
   "metadata": {},
   "outputs": [],
   "source": [
    "condition=df['borough']!=\"Not assigned\"\n",
    "df=df[condition]"
   ]
  },
  {
   "cell_type": "code",
   "execution_count": 11,
   "metadata": {},
   "outputs": [
    {
     "data": {
      "text/html": [
       "<div>\n",
       "<style scoped>\n",
       "    .dataframe tbody tr th:only-of-type {\n",
       "        vertical-align: middle;\n",
       "    }\n",
       "\n",
       "    .dataframe tbody tr th {\n",
       "        vertical-align: top;\n",
       "    }\n",
       "\n",
       "    .dataframe thead th {\n",
       "        text-align: right;\n",
       "    }\n",
       "</style>\n",
       "<table border=\"1\" class=\"dataframe\">\n",
       "  <thead>\n",
       "    <tr style=\"text-align: right;\">\n",
       "      <th></th>\n",
       "      <th>post_code</th>\n",
       "      <th>borough</th>\n",
       "      <th>neighbourhood</th>\n",
       "    </tr>\n",
       "  </thead>\n",
       "  <tbody>\n",
       "    <tr>\n",
       "      <th>2</th>\n",
       "      <td>M3A</td>\n",
       "      <td>North York</td>\n",
       "      <td>Parkwoods</td>\n",
       "    </tr>\n",
       "    <tr>\n",
       "      <th>3</th>\n",
       "      <td>M4A</td>\n",
       "      <td>North York</td>\n",
       "      <td>Victoria Village</td>\n",
       "    </tr>\n",
       "    <tr>\n",
       "      <th>4</th>\n",
       "      <td>M5A</td>\n",
       "      <td>Downtown Toronto</td>\n",
       "      <td>Harbourfront</td>\n",
       "    </tr>\n",
       "    <tr>\n",
       "      <th>5</th>\n",
       "      <td>M5A</td>\n",
       "      <td>Downtown Toronto</td>\n",
       "      <td>Regent Park</td>\n",
       "    </tr>\n",
       "    <tr>\n",
       "      <th>6</th>\n",
       "      <td>M6A</td>\n",
       "      <td>North York</td>\n",
       "      <td>Lawrence Heights</td>\n",
       "    </tr>\n",
       "  </tbody>\n",
       "</table>\n",
       "</div>"
      ],
      "text/plain": [
       "  post_code           borough     neighbourhood\n",
       "2       M3A        North York         Parkwoods\n",
       "3       M4A        North York  Victoria Village\n",
       "4       M5A  Downtown Toronto      Harbourfront\n",
       "5       M5A  Downtown Toronto       Regent Park\n",
       "6       M6A        North York  Lawrence Heights"
      ]
     },
     "execution_count": 11,
     "metadata": {},
     "output_type": "execute_result"
    }
   ],
   "source": [
    "df.head()"
   ]
  },
  {
   "cell_type": "code",
   "execution_count": 12,
   "metadata": {},
   "outputs": [],
   "source": [
    "li1=[]\n",
    "for row in df.itertuples():\n",
    "    li=[]\n",
    "    for j in df.itertuples():\n",
    "        if (row.post_code==j.post_code):\n",
    "            li.append(j.neighbourhood)\n",
    "    li1.append(li)  "
   ]
  },
  {
   "cell_type": "code",
   "execution_count": 13,
   "metadata": {},
   "outputs": [],
   "source": [
    "li2=[]\n",
    "for i in li1:\n",
    "    st=\",\".join(i)\n",
    "    li2.append(st)\n"
   ]
  },
  {
   "cell_type": "code",
   "execution_count": 14,
   "metadata": {},
   "outputs": [],
   "source": [
    "df=df.drop(columns=['neighbourhood'])"
   ]
  },
  {
   "cell_type": "code",
   "execution_count": 15,
   "metadata": {},
   "outputs": [
    {
     "data": {
      "text/html": [
       "<div>\n",
       "<style scoped>\n",
       "    .dataframe tbody tr th:only-of-type {\n",
       "        vertical-align: middle;\n",
       "    }\n",
       "\n",
       "    .dataframe tbody tr th {\n",
       "        vertical-align: top;\n",
       "    }\n",
       "\n",
       "    .dataframe thead th {\n",
       "        text-align: right;\n",
       "    }\n",
       "</style>\n",
       "<table border=\"1\" class=\"dataframe\">\n",
       "  <thead>\n",
       "    <tr style=\"text-align: right;\">\n",
       "      <th></th>\n",
       "      <th>post_code</th>\n",
       "      <th>borough</th>\n",
       "      <th>neighbouthood</th>\n",
       "    </tr>\n",
       "  </thead>\n",
       "  <tbody>\n",
       "    <tr>\n",
       "      <th>2</th>\n",
       "      <td>M3A</td>\n",
       "      <td>North York</td>\n",
       "      <td>Parkwoods</td>\n",
       "    </tr>\n",
       "    <tr>\n",
       "      <th>3</th>\n",
       "      <td>M4A</td>\n",
       "      <td>North York</td>\n",
       "      <td>Victoria Village</td>\n",
       "    </tr>\n",
       "    <tr>\n",
       "      <th>4</th>\n",
       "      <td>M5A</td>\n",
       "      <td>Downtown Toronto</td>\n",
       "      <td>Harbourfront,Regent Park</td>\n",
       "    </tr>\n",
       "    <tr>\n",
       "      <th>5</th>\n",
       "      <td>M5A</td>\n",
       "      <td>Downtown Toronto</td>\n",
       "      <td>Harbourfront,Regent Park</td>\n",
       "    </tr>\n",
       "    <tr>\n",
       "      <th>6</th>\n",
       "      <td>M6A</td>\n",
       "      <td>North York</td>\n",
       "      <td>Lawrence Heights,Lawrence Manor</td>\n",
       "    </tr>\n",
       "  </tbody>\n",
       "</table>\n",
       "</div>"
      ],
      "text/plain": [
       "  post_code           borough                    neighbouthood\n",
       "2       M3A        North York                        Parkwoods\n",
       "3       M4A        North York                 Victoria Village\n",
       "4       M5A  Downtown Toronto         Harbourfront,Regent Park\n",
       "5       M5A  Downtown Toronto         Harbourfront,Regent Park\n",
       "6       M6A        North York  Lawrence Heights,Lawrence Manor"
      ]
     },
     "execution_count": 15,
     "metadata": {},
     "output_type": "execute_result"
    }
   ],
   "source": [
    "df['neighbouthood']=li2\n",
    "df.head()"
   ]
  },
  {
   "cell_type": "code",
   "execution_count": 16,
   "metadata": {},
   "outputs": [],
   "source": [
    "df.drop_duplicates(inplace=True)"
   ]
  },
  {
   "cell_type": "code",
   "execution_count": 17,
   "metadata": {},
   "outputs": [
    {
     "data": {
      "text/html": [
       "<div>\n",
       "<style scoped>\n",
       "    .dataframe tbody tr th:only-of-type {\n",
       "        vertical-align: middle;\n",
       "    }\n",
       "\n",
       "    .dataframe tbody tr th {\n",
       "        vertical-align: top;\n",
       "    }\n",
       "\n",
       "    .dataframe thead th {\n",
       "        text-align: right;\n",
       "    }\n",
       "</style>\n",
       "<table border=\"1\" class=\"dataframe\">\n",
       "  <thead>\n",
       "    <tr style=\"text-align: right;\">\n",
       "      <th></th>\n",
       "      <th>post_code</th>\n",
       "      <th>borough</th>\n",
       "      <th>neighbouthood</th>\n",
       "    </tr>\n",
       "  </thead>\n",
       "  <tbody>\n",
       "    <tr>\n",
       "      <th>2</th>\n",
       "      <td>M3A</td>\n",
       "      <td>North York</td>\n",
       "      <td>Parkwoods</td>\n",
       "    </tr>\n",
       "    <tr>\n",
       "      <th>3</th>\n",
       "      <td>M4A</td>\n",
       "      <td>North York</td>\n",
       "      <td>Victoria Village</td>\n",
       "    </tr>\n",
       "    <tr>\n",
       "      <th>4</th>\n",
       "      <td>M5A</td>\n",
       "      <td>Downtown Toronto</td>\n",
       "      <td>Harbourfront,Regent Park</td>\n",
       "    </tr>\n",
       "    <tr>\n",
       "      <th>6</th>\n",
       "      <td>M6A</td>\n",
       "      <td>North York</td>\n",
       "      <td>Lawrence Heights,Lawrence Manor</td>\n",
       "    </tr>\n",
       "    <tr>\n",
       "      <th>8</th>\n",
       "      <td>M7A</td>\n",
       "      <td>Queen's Park</td>\n",
       "      <td>Not assigned</td>\n",
       "    </tr>\n",
       "    <tr>\n",
       "      <th>10</th>\n",
       "      <td>M9A</td>\n",
       "      <td>Etobicoke</td>\n",
       "      <td>Islington Avenue</td>\n",
       "    </tr>\n",
       "    <tr>\n",
       "      <th>11</th>\n",
       "      <td>M1B</td>\n",
       "      <td>Scarborough</td>\n",
       "      <td>Rouge,Malvern</td>\n",
       "    </tr>\n",
       "    <tr>\n",
       "      <th>14</th>\n",
       "      <td>M3B</td>\n",
       "      <td>North York</td>\n",
       "      <td>Don Mills North</td>\n",
       "    </tr>\n",
       "    <tr>\n",
       "      <th>15</th>\n",
       "      <td>M4B</td>\n",
       "      <td>East York</td>\n",
       "      <td>Woodbine Gardens,Parkview Hill</td>\n",
       "    </tr>\n",
       "    <tr>\n",
       "      <th>17</th>\n",
       "      <td>M5B</td>\n",
       "      <td>Downtown Toronto</td>\n",
       "      <td>Ryerson,Garden District</td>\n",
       "    </tr>\n",
       "  </tbody>\n",
       "</table>\n",
       "</div>"
      ],
      "text/plain": [
       "   post_code           borough                    neighbouthood\n",
       "2        M3A        North York                        Parkwoods\n",
       "3        M4A        North York                 Victoria Village\n",
       "4        M5A  Downtown Toronto         Harbourfront,Regent Park\n",
       "6        M6A        North York  Lawrence Heights,Lawrence Manor\n",
       "8        M7A      Queen's Park                     Not assigned\n",
       "10       M9A         Etobicoke                 Islington Avenue\n",
       "11       M1B       Scarborough                    Rouge,Malvern\n",
       "14       M3B        North York                  Don Mills North\n",
       "15       M4B         East York   Woodbine Gardens,Parkview Hill\n",
       "17       M5B  Downtown Toronto          Ryerson,Garden District"
      ]
     },
     "execution_count": 17,
     "metadata": {},
     "output_type": "execute_result"
    }
   ],
   "source": [
    "df.head(10)"
   ]
  },
  {
   "cell_type": "code",
   "execution_count": 18,
   "metadata": {},
   "outputs": [],
   "source": [
    "df.loc[8,'post_code']='M7A'"
   ]
  },
  {
   "cell_type": "code",
   "execution_count": 19,
   "metadata": {},
   "outputs": [
    {
     "data": {
      "text/html": [
       "<div>\n",
       "<style scoped>\n",
       "    .dataframe tbody tr th:only-of-type {\n",
       "        vertical-align: middle;\n",
       "    }\n",
       "\n",
       "    .dataframe tbody tr th {\n",
       "        vertical-align: top;\n",
       "    }\n",
       "\n",
       "    .dataframe thead th {\n",
       "        text-align: right;\n",
       "    }\n",
       "</style>\n",
       "<table border=\"1\" class=\"dataframe\">\n",
       "  <thead>\n",
       "    <tr style=\"text-align: right;\">\n",
       "      <th></th>\n",
       "      <th>post_code</th>\n",
       "      <th>borough</th>\n",
       "      <th>neighbouthood</th>\n",
       "    </tr>\n",
       "  </thead>\n",
       "  <tbody>\n",
       "    <tr>\n",
       "      <th>2</th>\n",
       "      <td>M3A</td>\n",
       "      <td>North York</td>\n",
       "      <td>Parkwoods</td>\n",
       "    </tr>\n",
       "    <tr>\n",
       "      <th>3</th>\n",
       "      <td>M4A</td>\n",
       "      <td>North York</td>\n",
       "      <td>Victoria Village</td>\n",
       "    </tr>\n",
       "    <tr>\n",
       "      <th>4</th>\n",
       "      <td>M5A</td>\n",
       "      <td>Downtown Toronto</td>\n",
       "      <td>Harbourfront,Regent Park</td>\n",
       "    </tr>\n",
       "    <tr>\n",
       "      <th>6</th>\n",
       "      <td>M6A</td>\n",
       "      <td>North York</td>\n",
       "      <td>Lawrence Heights,Lawrence Manor</td>\n",
       "    </tr>\n",
       "    <tr>\n",
       "      <th>8</th>\n",
       "      <td>M7A</td>\n",
       "      <td>Queen's Park</td>\n",
       "      <td>Not assigned</td>\n",
       "    </tr>\n",
       "    <tr>\n",
       "      <th>10</th>\n",
       "      <td>M9A</td>\n",
       "      <td>Etobicoke</td>\n",
       "      <td>Islington Avenue</td>\n",
       "    </tr>\n",
       "    <tr>\n",
       "      <th>11</th>\n",
       "      <td>M1B</td>\n",
       "      <td>Scarborough</td>\n",
       "      <td>Rouge,Malvern</td>\n",
       "    </tr>\n",
       "    <tr>\n",
       "      <th>14</th>\n",
       "      <td>M3B</td>\n",
       "      <td>North York</td>\n",
       "      <td>Don Mills North</td>\n",
       "    </tr>\n",
       "    <tr>\n",
       "      <th>15</th>\n",
       "      <td>M4B</td>\n",
       "      <td>East York</td>\n",
       "      <td>Woodbine Gardens,Parkview Hill</td>\n",
       "    </tr>\n",
       "    <tr>\n",
       "      <th>17</th>\n",
       "      <td>M5B</td>\n",
       "      <td>Downtown Toronto</td>\n",
       "      <td>Ryerson,Garden District</td>\n",
       "    </tr>\n",
       "  </tbody>\n",
       "</table>\n",
       "</div>"
      ],
      "text/plain": [
       "   post_code           borough                    neighbouthood\n",
       "2        M3A        North York                        Parkwoods\n",
       "3        M4A        North York                 Victoria Village\n",
       "4        M5A  Downtown Toronto         Harbourfront,Regent Park\n",
       "6        M6A        North York  Lawrence Heights,Lawrence Manor\n",
       "8        M7A      Queen's Park                     Not assigned\n",
       "10       M9A         Etobicoke                 Islington Avenue\n",
       "11       M1B       Scarborough                    Rouge,Malvern\n",
       "14       M3B        North York                  Don Mills North\n",
       "15       M4B         East York   Woodbine Gardens,Parkview Hill\n",
       "17       M5B  Downtown Toronto          Ryerson,Garden District"
      ]
     },
     "execution_count": 19,
     "metadata": {},
     "output_type": "execute_result"
    }
   ],
   "source": [
    "df.head(10)"
   ]
  },
  {
   "cell_type": "code",
   "execution_count": 20,
   "metadata": {},
   "outputs": [
    {
     "data": {
      "text/html": [
       "<div>\n",
       "<style scoped>\n",
       "    .dataframe tbody tr th:only-of-type {\n",
       "        vertical-align: middle;\n",
       "    }\n",
       "\n",
       "    .dataframe tbody tr th {\n",
       "        vertical-align: top;\n",
       "    }\n",
       "\n",
       "    .dataframe thead th {\n",
       "        text-align: right;\n",
       "    }\n",
       "</style>\n",
       "<table border=\"1\" class=\"dataframe\">\n",
       "  <thead>\n",
       "    <tr style=\"text-align: right;\">\n",
       "      <th></th>\n",
       "      <th>post_code</th>\n",
       "      <th>borough</th>\n",
       "      <th>neighbouthood</th>\n",
       "    </tr>\n",
       "  </thead>\n",
       "  <tbody>\n",
       "    <tr>\n",
       "      <th>2</th>\n",
       "      <td>M3A</td>\n",
       "      <td>North York</td>\n",
       "      <td>Parkwoods</td>\n",
       "    </tr>\n",
       "    <tr>\n",
       "      <th>3</th>\n",
       "      <td>M4A</td>\n",
       "      <td>North York</td>\n",
       "      <td>Victoria Village</td>\n",
       "    </tr>\n",
       "    <tr>\n",
       "      <th>4</th>\n",
       "      <td>M5A</td>\n",
       "      <td>Downtown Toronto</td>\n",
       "      <td>Harbourfront,Regent Park</td>\n",
       "    </tr>\n",
       "    <tr>\n",
       "      <th>6</th>\n",
       "      <td>M6A</td>\n",
       "      <td>North York</td>\n",
       "      <td>Lawrence Heights,Lawrence Manor</td>\n",
       "    </tr>\n",
       "    <tr>\n",
       "      <th>8</th>\n",
       "      <td>M7A</td>\n",
       "      <td>Queen's Park</td>\n",
       "      <td>Not assigned</td>\n",
       "    </tr>\n",
       "  </tbody>\n",
       "</table>\n",
       "</div>"
      ],
      "text/plain": [
       "  post_code           borough                    neighbouthood\n",
       "2       M3A        North York                        Parkwoods\n",
       "3       M4A        North York                 Victoria Village\n",
       "4       M5A  Downtown Toronto         Harbourfront,Regent Park\n",
       "6       M6A        North York  Lawrence Heights,Lawrence Manor\n",
       "8       M7A      Queen's Park                     Not assigned"
      ]
     },
     "execution_count": 20,
     "metadata": {},
     "output_type": "execute_result"
    }
   ],
   "source": [
    "df=df[:-1]\n",
    "df.head()"
   ]
  },
  {
   "cell_type": "code",
   "execution_count": 21,
   "metadata": {},
   "outputs": [
    {
     "data": {
      "text/plain": [
       "(103, 3)"
      ]
     },
     "execution_count": 21,
     "metadata": {},
     "output_type": "execute_result"
    }
   ],
   "source": [
    "df.shape"
   ]
  },
  {
   "cell_type": "code",
   "execution_count": 22,
   "metadata": {},
   "outputs": [
    {
     "name": "stdout",
     "output_type": "stream",
     "text": [
      "Requirement already satisfied: geocoder in c:\\users\\vivek\\appdata\\local\\continuum\\anaconda3\\lib\\site-packages (1.38.1)\n",
      "Requirement already satisfied: six in c:\\users\\vivek\\appdata\\local\\continuum\\anaconda3\\lib\\site-packages (from geocoder) (1.12.0)\n",
      "Requirement already satisfied: ratelim in c:\\users\\vivek\\appdata\\local\\continuum\\anaconda3\\lib\\site-packages (from geocoder) (0.1.6)\n",
      "Requirement already satisfied: click in c:\\users\\vivek\\appdata\\local\\continuum\\anaconda3\\lib\\site-packages (from geocoder) (7.0)\n",
      "Requirement already satisfied: future in c:\\users\\vivek\\appdata\\local\\continuum\\anaconda3\\lib\\site-packages (from geocoder) (0.17.1)\n",
      "Requirement already satisfied: requests in c:\\users\\vivek\\appdata\\local\\continuum\\anaconda3\\lib\\site-packages (from geocoder) (2.21.0)\n",
      "Requirement already satisfied: decorator in c:\\users\\vivek\\appdata\\local\\continuum\\anaconda3\\lib\\site-packages (from ratelim->geocoder) (4.4.0)\n",
      "Requirement already satisfied: certifi>=2017.4.17 in c:\\users\\vivek\\appdata\\local\\continuum\\anaconda3\\lib\\site-packages (from requests->geocoder) (2019.3.9)\n",
      "Requirement already satisfied: chardet<3.1.0,>=3.0.2 in c:\\users\\vivek\\appdata\\local\\continuum\\anaconda3\\lib\\site-packages (from requests->geocoder) (3.0.4)\n",
      "Requirement already satisfied: idna<2.9,>=2.5 in c:\\users\\vivek\\appdata\\local\\continuum\\anaconda3\\lib\\site-packages (from requests->geocoder) (2.8)\n",
      "Requirement already satisfied: urllib3<1.25,>=1.21.1 in c:\\users\\vivek\\appdata\\local\\continuum\\anaconda3\\lib\\site-packages (from requests->geocoder) (1.24.1)\n"
     ]
    }
   ],
   "source": [
    "!pip install geocoder"
   ]
  },
  {
   "cell_type": "code",
   "execution_count": 23,
   "metadata": {},
   "outputs": [
    {
     "data": {
      "text/html": [
       "<div>\n",
       "<style scoped>\n",
       "    .dataframe tbody tr th:only-of-type {\n",
       "        vertical-align: middle;\n",
       "    }\n",
       "\n",
       "    .dataframe tbody tr th {\n",
       "        vertical-align: top;\n",
       "    }\n",
       "\n",
       "    .dataframe thead th {\n",
       "        text-align: right;\n",
       "    }\n",
       "</style>\n",
       "<table border=\"1\" class=\"dataframe\">\n",
       "  <thead>\n",
       "    <tr style=\"text-align: right;\">\n",
       "      <th></th>\n",
       "      <th>Postal Code</th>\n",
       "      <th>Latitude</th>\n",
       "      <th>Longitude</th>\n",
       "    </tr>\n",
       "  </thead>\n",
       "  <tbody>\n",
       "    <tr>\n",
       "      <th>0</th>\n",
       "      <td>M1B</td>\n",
       "      <td>43.806686</td>\n",
       "      <td>-79.194353</td>\n",
       "    </tr>\n",
       "    <tr>\n",
       "      <th>1</th>\n",
       "      <td>M1C</td>\n",
       "      <td>43.784535</td>\n",
       "      <td>-79.160497</td>\n",
       "    </tr>\n",
       "    <tr>\n",
       "      <th>2</th>\n",
       "      <td>M1E</td>\n",
       "      <td>43.763573</td>\n",
       "      <td>-79.188711</td>\n",
       "    </tr>\n",
       "    <tr>\n",
       "      <th>3</th>\n",
       "      <td>M1G</td>\n",
       "      <td>43.770992</td>\n",
       "      <td>-79.216917</td>\n",
       "    </tr>\n",
       "    <tr>\n",
       "      <th>4</th>\n",
       "      <td>M1H</td>\n",
       "      <td>43.773136</td>\n",
       "      <td>-79.239476</td>\n",
       "    </tr>\n",
       "  </tbody>\n",
       "</table>\n",
       "</div>"
      ],
      "text/plain": [
       "  Postal Code   Latitude  Longitude\n",
       "0         M1B  43.806686 -79.194353\n",
       "1         M1C  43.784535 -79.160497\n",
       "2         M1E  43.763573 -79.188711\n",
       "3         M1G  43.770992 -79.216917\n",
       "4         M1H  43.773136 -79.239476"
      ]
     },
     "execution_count": 23,
     "metadata": {},
     "output_type": "execute_result"
    }
   ],
   "source": [
    "df1=pd.read_csv('data.csv')\n",
    "df1.head()"
   ]
  },
  {
   "cell_type": "code",
   "execution_count": 24,
   "metadata": {},
   "outputs": [
    {
     "data": {
      "text/html": [
       "<div>\n",
       "<style scoped>\n",
       "    .dataframe tbody tr th:only-of-type {\n",
       "        vertical-align: middle;\n",
       "    }\n",
       "\n",
       "    .dataframe tbody tr th {\n",
       "        vertical-align: top;\n",
       "    }\n",
       "\n",
       "    .dataframe thead th {\n",
       "        text-align: right;\n",
       "    }\n",
       "</style>\n",
       "<table border=\"1\" class=\"dataframe\">\n",
       "  <thead>\n",
       "    <tr style=\"text-align: right;\">\n",
       "      <th></th>\n",
       "      <th>borough</th>\n",
       "      <th>neighbouthood</th>\n",
       "    </tr>\n",
       "    <tr>\n",
       "      <th>post_code</th>\n",
       "      <th></th>\n",
       "      <th></th>\n",
       "    </tr>\n",
       "  </thead>\n",
       "  <tbody>\n",
       "    <tr>\n",
       "      <th>M3A</th>\n",
       "      <td>North York</td>\n",
       "      <td>Parkwoods</td>\n",
       "    </tr>\n",
       "    <tr>\n",
       "      <th>M4A</th>\n",
       "      <td>North York</td>\n",
       "      <td>Victoria Village</td>\n",
       "    </tr>\n",
       "    <tr>\n",
       "      <th>M5A</th>\n",
       "      <td>Downtown Toronto</td>\n",
       "      <td>Harbourfront,Regent Park</td>\n",
       "    </tr>\n",
       "    <tr>\n",
       "      <th>M6A</th>\n",
       "      <td>North York</td>\n",
       "      <td>Lawrence Heights,Lawrence Manor</td>\n",
       "    </tr>\n",
       "    <tr>\n",
       "      <th>M7A</th>\n",
       "      <td>Queen's Park</td>\n",
       "      <td>Not assigned</td>\n",
       "    </tr>\n",
       "  </tbody>\n",
       "</table>\n",
       "</div>"
      ],
      "text/plain": [
       "                    borough                    neighbouthood\n",
       "post_code                                                   \n",
       "M3A              North York                        Parkwoods\n",
       "M4A              North York                 Victoria Village\n",
       "M5A        Downtown Toronto         Harbourfront,Regent Park\n",
       "M6A              North York  Lawrence Heights,Lawrence Manor\n",
       "M7A            Queen's Park                     Not assigned"
      ]
     },
     "execution_count": 24,
     "metadata": {},
     "output_type": "execute_result"
    }
   ],
   "source": [
    "df=df.set_index('post_code')\n",
    "df.head()"
   ]
  },
  {
   "cell_type": "code",
   "execution_count": 25,
   "metadata": {},
   "outputs": [
    {
     "data": {
      "text/html": [
       "<div>\n",
       "<style scoped>\n",
       "    .dataframe tbody tr th:only-of-type {\n",
       "        vertical-align: middle;\n",
       "    }\n",
       "\n",
       "    .dataframe tbody tr th {\n",
       "        vertical-align: top;\n",
       "    }\n",
       "\n",
       "    .dataframe thead th {\n",
       "        text-align: right;\n",
       "    }\n",
       "</style>\n",
       "<table border=\"1\" class=\"dataframe\">\n",
       "  <thead>\n",
       "    <tr style=\"text-align: right;\">\n",
       "      <th></th>\n",
       "      <th>Latitude</th>\n",
       "      <th>Longitude</th>\n",
       "    </tr>\n",
       "    <tr>\n",
       "      <th>Postal Code</th>\n",
       "      <th></th>\n",
       "      <th></th>\n",
       "    </tr>\n",
       "  </thead>\n",
       "  <tbody>\n",
       "    <tr>\n",
       "      <th>M1B</th>\n",
       "      <td>43.806686</td>\n",
       "      <td>-79.194353</td>\n",
       "    </tr>\n",
       "    <tr>\n",
       "      <th>M1C</th>\n",
       "      <td>43.784535</td>\n",
       "      <td>-79.160497</td>\n",
       "    </tr>\n",
       "    <tr>\n",
       "      <th>M1E</th>\n",
       "      <td>43.763573</td>\n",
       "      <td>-79.188711</td>\n",
       "    </tr>\n",
       "    <tr>\n",
       "      <th>M1G</th>\n",
       "      <td>43.770992</td>\n",
       "      <td>-79.216917</td>\n",
       "    </tr>\n",
       "    <tr>\n",
       "      <th>M1H</th>\n",
       "      <td>43.773136</td>\n",
       "      <td>-79.239476</td>\n",
       "    </tr>\n",
       "  </tbody>\n",
       "</table>\n",
       "</div>"
      ],
      "text/plain": [
       "              Latitude  Longitude\n",
       "Postal Code                      \n",
       "M1B          43.806686 -79.194353\n",
       "M1C          43.784535 -79.160497\n",
       "M1E          43.763573 -79.188711\n",
       "M1G          43.770992 -79.216917\n",
       "M1H          43.773136 -79.239476"
      ]
     },
     "execution_count": 25,
     "metadata": {},
     "output_type": "execute_result"
    }
   ],
   "source": [
    "df1=df1.set_index('Postal Code')\n",
    "df1.head()"
   ]
  },
  {
   "cell_type": "code",
   "execution_count": 26,
   "metadata": {},
   "outputs": [],
   "source": [
    "df=df.join(df1)"
   ]
  },
  {
   "cell_type": "code",
   "execution_count": 27,
   "metadata": {},
   "outputs": [
    {
     "data": {
      "text/html": [
       "<div>\n",
       "<style scoped>\n",
       "    .dataframe tbody tr th:only-of-type {\n",
       "        vertical-align: middle;\n",
       "    }\n",
       "\n",
       "    .dataframe tbody tr th {\n",
       "        vertical-align: top;\n",
       "    }\n",
       "\n",
       "    .dataframe thead th {\n",
       "        text-align: right;\n",
       "    }\n",
       "</style>\n",
       "<table border=\"1\" class=\"dataframe\">\n",
       "  <thead>\n",
       "    <tr style=\"text-align: right;\">\n",
       "      <th></th>\n",
       "      <th>borough</th>\n",
       "      <th>neighbouthood</th>\n",
       "      <th>Latitude</th>\n",
       "      <th>Longitude</th>\n",
       "    </tr>\n",
       "    <tr>\n",
       "      <th>post_code</th>\n",
       "      <th></th>\n",
       "      <th></th>\n",
       "      <th></th>\n",
       "      <th></th>\n",
       "    </tr>\n",
       "  </thead>\n",
       "  <tbody>\n",
       "    <tr>\n",
       "      <th>M3A</th>\n",
       "      <td>North York</td>\n",
       "      <td>Parkwoods</td>\n",
       "      <td>43.753259</td>\n",
       "      <td>-79.329656</td>\n",
       "    </tr>\n",
       "    <tr>\n",
       "      <th>M4A</th>\n",
       "      <td>North York</td>\n",
       "      <td>Victoria Village</td>\n",
       "      <td>43.725882</td>\n",
       "      <td>-79.315572</td>\n",
       "    </tr>\n",
       "    <tr>\n",
       "      <th>M5A</th>\n",
       "      <td>Downtown Toronto</td>\n",
       "      <td>Harbourfront,Regent Park</td>\n",
       "      <td>43.654260</td>\n",
       "      <td>-79.360636</td>\n",
       "    </tr>\n",
       "    <tr>\n",
       "      <th>M6A</th>\n",
       "      <td>North York</td>\n",
       "      <td>Lawrence Heights,Lawrence Manor</td>\n",
       "      <td>43.718518</td>\n",
       "      <td>-79.464763</td>\n",
       "    </tr>\n",
       "    <tr>\n",
       "      <th>M7A</th>\n",
       "      <td>Queen's Park</td>\n",
       "      <td>Not assigned</td>\n",
       "      <td>43.662301</td>\n",
       "      <td>-79.389494</td>\n",
       "    </tr>\n",
       "  </tbody>\n",
       "</table>\n",
       "</div>"
      ],
      "text/plain": [
       "                    borough                    neighbouthood   Latitude  \\\n",
       "post_code                                                                 \n",
       "M3A              North York                        Parkwoods  43.753259   \n",
       "M4A              North York                 Victoria Village  43.725882   \n",
       "M5A        Downtown Toronto         Harbourfront,Regent Park  43.654260   \n",
       "M6A              North York  Lawrence Heights,Lawrence Manor  43.718518   \n",
       "M7A            Queen's Park                     Not assigned  43.662301   \n",
       "\n",
       "           Longitude  \n",
       "post_code             \n",
       "M3A       -79.329656  \n",
       "M4A       -79.315572  \n",
       "M5A       -79.360636  \n",
       "M6A       -79.464763  \n",
       "M7A       -79.389494  "
      ]
     },
     "execution_count": 27,
     "metadata": {},
     "output_type": "execute_result"
    }
   ],
   "source": [
    "df.head()"
   ]
  },
  {
   "cell_type": "code",
   "execution_count": 28,
   "metadata": {},
   "outputs": [
    {
     "name": "stdout",
     "output_type": "stream",
     "text": [
      "Requirement already satisfied: folium in c:\\users\\vivek\\appdata\\local\\continuum\\anaconda3\\lib\\site-packages (0.8.3)\n",
      "Requirement already satisfied: jinja2 in c:\\users\\vivek\\appdata\\local\\continuum\\anaconda3\\lib\\site-packages (from folium) (2.10)\n",
      "Requirement already satisfied: six in c:\\users\\vivek\\appdata\\local\\continuum\\anaconda3\\lib\\site-packages (from folium) (1.12.0)\n",
      "Requirement already satisfied: branca>=0.3.0 in c:\\users\\vivek\\appdata\\local\\continuum\\anaconda3\\lib\\site-packages (from folium) (0.3.1)\n",
      "Requirement already satisfied: requests in c:\\users\\vivek\\appdata\\local\\continuum\\anaconda3\\lib\\site-packages (from folium) (2.21.0)\n",
      "Requirement already satisfied: numpy in c:\\users\\vivek\\appdata\\local\\continuum\\anaconda3\\lib\\site-packages (from folium) (1.16.2)\n",
      "Requirement already satisfied: MarkupSafe>=0.23 in c:\\users\\vivek\\appdata\\local\\continuum\\anaconda3\\lib\\site-packages (from jinja2->folium) (1.1.1)\n",
      "Requirement already satisfied: urllib3<1.25,>=1.21.1 in c:\\users\\vivek\\appdata\\local\\continuum\\anaconda3\\lib\\site-packages (from requests->folium) (1.24.1)\n",
      "Requirement already satisfied: chardet<3.1.0,>=3.0.2 in c:\\users\\vivek\\appdata\\local\\continuum\\anaconda3\\lib\\site-packages (from requests->folium) (3.0.4)\n",
      "Requirement already satisfied: idna<2.9,>=2.5 in c:\\users\\vivek\\appdata\\local\\continuum\\anaconda3\\lib\\site-packages (from requests->folium) (2.8)\n",
      "Requirement already satisfied: certifi>=2017.4.17 in c:\\users\\vivek\\appdata\\local\\continuum\\anaconda3\\lib\\site-packages (from requests->folium) (2019.3.9)\n"
     ]
    }
   ],
   "source": [
    "!pip install folium"
   ]
  },
  {
   "cell_type": "code",
   "execution_count": 29,
   "metadata": {},
   "outputs": [
    {
     "data": {
      "text/html": [
       "<div style=\"width:100%;\"><div style=\"position:relative;width:100%;height:0;padding-bottom:60%;\"><iframe src=\"data:text/html;charset=utf-8;base64,PCFET0NUWVBFIGh0bWw+CjxoZWFkPiAgICAKICAgIDxtZXRhIGh0dHAtZXF1aXY9ImNvbnRlbnQtdHlwZSIgY29udGVudD0idGV4dC9odG1sOyBjaGFyc2V0PVVURi04IiAvPgogICAgPHNjcmlwdD5MX1BSRUZFUl9DQU5WQVM9ZmFsc2U7IExfTk9fVE9VQ0g9ZmFsc2U7IExfRElTQUJMRV8zRD1mYWxzZTs8L3NjcmlwdD4KICAgIDxzY3JpcHQgc3JjPSJodHRwczovL2Nkbi5qc2RlbGl2ci5uZXQvbnBtL2xlYWZsZXRAMS40LjAvZGlzdC9sZWFmbGV0LmpzIj48L3NjcmlwdD4KICAgIDxzY3JpcHQgc3JjPSJodHRwczovL2NvZGUuanF1ZXJ5LmNvbS9qcXVlcnktMS4xMi40Lm1pbi5qcyI+PC9zY3JpcHQ+CiAgICA8c2NyaXB0IHNyYz0iaHR0cHM6Ly9tYXhjZG4uYm9vdHN0cmFwY2RuLmNvbS9ib290c3RyYXAvMy4yLjAvanMvYm9vdHN0cmFwLm1pbi5qcyI+PC9zY3JpcHQ+CiAgICA8c2NyaXB0IHNyYz0iaHR0cHM6Ly9jZG5qcy5jbG91ZGZsYXJlLmNvbS9hamF4L2xpYnMvTGVhZmxldC5hd2Vzb21lLW1hcmtlcnMvMi4wLjIvbGVhZmxldC5hd2Vzb21lLW1hcmtlcnMuanMiPjwvc2NyaXB0PgogICAgPGxpbmsgcmVsPSJzdHlsZXNoZWV0IiBocmVmPSJodHRwczovL2Nkbi5qc2RlbGl2ci5uZXQvbnBtL2xlYWZsZXRAMS40LjAvZGlzdC9sZWFmbGV0LmNzcyIvPgogICAgPGxpbmsgcmVsPSJzdHlsZXNoZWV0IiBocmVmPSJodHRwczovL21heGNkbi5ib290c3RyYXBjZG4uY29tL2Jvb3RzdHJhcC8zLjIuMC9jc3MvYm9vdHN0cmFwLm1pbi5jc3MiLz4KICAgIDxsaW5rIHJlbD0ic3R5bGVzaGVldCIgaHJlZj0iaHR0cHM6Ly9tYXhjZG4uYm9vdHN0cmFwY2RuLmNvbS9ib290c3RyYXAvMy4yLjAvY3NzL2Jvb3RzdHJhcC10aGVtZS5taW4uY3NzIi8+CiAgICA8bGluayByZWw9InN0eWxlc2hlZXQiIGhyZWY9Imh0dHBzOi8vbWF4Y2RuLmJvb3RzdHJhcGNkbi5jb20vZm9udC1hd2Vzb21lLzQuNi4zL2Nzcy9mb250LWF3ZXNvbWUubWluLmNzcyIvPgogICAgPGxpbmsgcmVsPSJzdHlsZXNoZWV0IiBocmVmPSJodHRwczovL2NkbmpzLmNsb3VkZmxhcmUuY29tL2FqYXgvbGlicy9MZWFmbGV0LmF3ZXNvbWUtbWFya2Vycy8yLjAuMi9sZWFmbGV0LmF3ZXNvbWUtbWFya2Vycy5jc3MiLz4KICAgIDxsaW5rIHJlbD0ic3R5bGVzaGVldCIgaHJlZj0iaHR0cHM6Ly9yYXdjZG4uZ2l0aGFjay5jb20vcHl0aG9uLXZpc3VhbGl6YXRpb24vZm9saXVtL21hc3Rlci9mb2xpdW0vdGVtcGxhdGVzL2xlYWZsZXQuYXdlc29tZS5yb3RhdGUuY3NzIi8+CiAgICA8c3R5bGU+aHRtbCwgYm9keSB7d2lkdGg6IDEwMCU7aGVpZ2h0OiAxMDAlO21hcmdpbjogMDtwYWRkaW5nOiAwO308L3N0eWxlPgogICAgPHN0eWxlPiNtYXAge3Bvc2l0aW9uOmFic29sdXRlO3RvcDowO2JvdHRvbTowO3JpZ2h0OjA7bGVmdDowO308L3N0eWxlPgogICAgCiAgICA8bWV0YSBuYW1lPSJ2aWV3cG9ydCIgY29udGVudD0id2lkdGg9ZGV2aWNlLXdpZHRoLAogICAgICAgIGluaXRpYWwtc2NhbGU9MS4wLCBtYXhpbXVtLXNjYWxlPTEuMCwgdXNlci1zY2FsYWJsZT1ubyIgLz4KICAgIDxzdHlsZT4jbWFwX2IxMGE3OTM1ZjAxYTQxZDg5ZTBiMDAzNzAxMDU3MjZiIHsKICAgICAgICBwb3NpdGlvbjogcmVsYXRpdmU7CiAgICAgICAgd2lkdGg6IDEwMC4wJTsKICAgICAgICBoZWlnaHQ6IDEwMC4wJTsKICAgICAgICBsZWZ0OiAwLjAlOwogICAgICAgIHRvcDogMC4wJTsKICAgICAgICB9CiAgICA8L3N0eWxlPgo8L2hlYWQ+Cjxib2R5PiAgICAKICAgIAogICAgPGRpdiBjbGFzcz0iZm9saXVtLW1hcCIgaWQ9Im1hcF9iMTBhNzkzNWYwMWE0MWQ4OWUwYjAwMzcwMTA1NzI2YiIgPjwvZGl2Pgo8L2JvZHk+CjxzY3JpcHQ+ICAgIAogICAgCiAgICAKICAgICAgICB2YXIgYm91bmRzID0gbnVsbDsKICAgIAoKICAgIHZhciBtYXBfYjEwYTc5MzVmMDFhNDFkODllMGIwMDM3MDEwNTcyNmIgPSBMLm1hcCgKICAgICAgICAnbWFwX2IxMGE3OTM1ZjAxYTQxZDg5ZTBiMDAzNzAxMDU3MjZiJywgewogICAgICAgIGNlbnRlcjogWzQzLjY1MzIsIC03OS4zODMyXSwKICAgICAgICB6b29tOiAxMCwKICAgICAgICBtYXhCb3VuZHM6IGJvdW5kcywKICAgICAgICBsYXllcnM6IFtdLAogICAgICAgIHdvcmxkQ29weUp1bXA6IGZhbHNlLAogICAgICAgIGNyczogTC5DUlMuRVBTRzM4NTcsCiAgICAgICAgem9vbUNvbnRyb2w6IHRydWUsCiAgICAgICAgfSk7CgoKICAgIAogICAgdmFyIHRpbGVfbGF5ZXJfYTQyYTFkOTgyZTY2NGI1Mjk4M2Y1MjcwNDVjNjRjZjAgPSBMLnRpbGVMYXllcigKICAgICAgICAnaHR0cHM6Ly97c30udGlsZXMubWFwYm94LmNvbS92My9tYXBib3gud29ybGQtYnJpZ2h0L3t6fS97eH0ve3l9LnBuZycsCiAgICAgICAgewogICAgICAgICJhdHRyaWJ1dGlvbiI6IG51bGwsCiAgICAgICAgImRldGVjdFJldGluYSI6IGZhbHNlLAogICAgICAgICJtYXhOYXRpdmVab29tIjogMTgsCiAgICAgICAgIm1heFpvb20iOiAxOCwKICAgICAgICAibWluWm9vbSI6IDAsCiAgICAgICAgIm5vV3JhcCI6IGZhbHNlLAogICAgICAgICJvcGFjaXR5IjogMSwKICAgICAgICAic3ViZG9tYWlucyI6ICJhYmMiLAogICAgICAgICJ0bXMiOiBmYWxzZQp9KS5hZGRUbyhtYXBfYjEwYTc5MzVmMDFhNDFkODllMGIwMDM3MDEwNTcyNmIpOwogICAgCiAgICAgICAgICAgIHZhciBmZWF0dXJlX2dyb3VwXzYxMzkyZTFhMzM5MjQ4N2NhMTA0MDc1MGEwODkxM2ZhID0gTC5mZWF0dXJlR3JvdXAoCiAgICAgICAgICAgICAgICApLmFkZFRvKG1hcF9iMTBhNzkzNWYwMWE0MWQ4OWUwYjAwMzcwMTA1NzI2Yik7CiAgICAgICAgCiAgICAKICAgICAgICB2YXIgbWFya2VyX2FiZDAwODFhNjgyMzRmYTBiMjA4Njc1Y2NmYzU4NDAxID0gTC5tYXJrZXIoCiAgICAgICAgICAgIFs0My43NTMyNTg2LCAtNzkuMzI5NjU2NV0sCiAgICAgICAgICAgIHsKICAgICAgICAgICAgICAgIGljb246IG5ldyBMLkljb24uRGVmYXVsdCgpLAogICAgICAgICAgICAgICAgfQogICAgICAgICAgICApLmFkZFRvKGZlYXR1cmVfZ3JvdXBfNjEzOTJlMWEzMzkyNDg3Y2ExMDQwNzUwYTA4OTEzZmEpOwogICAgICAgIAogICAgCiAgICAgICAgICAgIHZhciBwb3B1cF80YjhiNTI2M2YwODY0NjIwOTIwMzJjYzUxNjgzODBjMyA9IEwucG9wdXAoe21heFdpZHRoOiAnMTAwJScKICAgICAgICAgICAgCiAgICAgICAgICAgIH0pOwoKICAgICAgICAgICAgCiAgICAgICAgICAgICAgICB2YXIgaHRtbF8xY2YwZDliMjliNmU0YzhjYTVjNTg0OGRlZDVkNmM4NCA9ICQoYDxkaXYgaWQ9Imh0bWxfMWNmMGQ5YjI5YjZlNGM4Y2E1YzU4NDhkZWQ1ZDZjODQiIHN0eWxlPSJ3aWR0aDogMTAwLjAlOyBoZWlnaHQ6IDEwMC4wJTsiPk5vcnRoIFlvcms8L2Rpdj5gKVswXTsKICAgICAgICAgICAgICAgIHBvcHVwXzRiOGI1MjYzZjA4NjQ2MjA5MjAzMmNjNTE2ODM4MGMzLnNldENvbnRlbnQoaHRtbF8xY2YwZDliMjliNmU0YzhjYTVjNTg0OGRlZDVkNmM4NCk7CiAgICAgICAgICAgIAoKICAgICAgICAgICAgbWFya2VyX2FiZDAwODFhNjgyMzRmYTBiMjA4Njc1Y2NmYzU4NDAxLmJpbmRQb3B1cChwb3B1cF80YjhiNTI2M2YwODY0NjIwOTIwMzJjYzUxNjgzODBjMykKICAgICAgICAgICAgOwoKICAgICAgICAgICAgCiAgICAgICAgCiAgICAKICAgICAgICB2YXIgbWFya2VyXzE0ZjZlY2MzNWNiMDQ0N2JhN2ExZmZkOWJlOWIzMDYxID0gTC5tYXJrZXIoCiAgICAgICAgICAgIFs0My43MjU4ODIyOTk5OTk5OTUsIC03OS4zMTU1NzE1OTk5OTk5OF0sCiAgICAgICAgICAgIHsKICAgICAgICAgICAgICAgIGljb246IG5ldyBMLkljb24uRGVmYXVsdCgpLAogICAgICAgICAgICAgICAgfQogICAgICAgICAgICApLmFkZFRvKGZlYXR1cmVfZ3JvdXBfNjEzOTJlMWEzMzkyNDg3Y2ExMDQwNzUwYTA4OTEzZmEpOwogICAgICAgIAogICAgCiAgICAgICAgICAgIHZhciBwb3B1cF85YTk0MThiOWMxOWU0NTc0YWRjNjBhZDNlNmYxMjYxMiA9IEwucG9wdXAoe21heFdpZHRoOiAnMTAwJScKICAgICAgICAgICAgCiAgICAgICAgICAgIH0pOwoKICAgICAgICAgICAgCiAgICAgICAgICAgICAgICB2YXIgaHRtbF9iNWJhNTM2YzRlZmI0ZTgyODEyMDM5N2UxODBjMWFhMiA9ICQoYDxkaXYgaWQ9Imh0bWxfYjViYTUzNmM0ZWZiNGU4MjgxMjAzOTdlMTgwYzFhYTIiIHN0eWxlPSJ3aWR0aDogMTAwLjAlOyBoZWlnaHQ6IDEwMC4wJTsiPk5vcnRoIFlvcms8L2Rpdj5gKVswXTsKICAgICAgICAgICAgICAgIHBvcHVwXzlhOTQxOGI5YzE5ZTQ1NzRhZGM2MGFkM2U2ZjEyNjEyLnNldENvbnRlbnQoaHRtbF9iNWJhNTM2YzRlZmI0ZTgyODEyMDM5N2UxODBjMWFhMik7CiAgICAgICAgICAgIAoKICAgICAgICAgICAgbWFya2VyXzE0ZjZlY2MzNWNiMDQ0N2JhN2ExZmZkOWJlOWIzMDYxLmJpbmRQb3B1cChwb3B1cF85YTk0MThiOWMxOWU0NTc0YWRjNjBhZDNlNmYxMjYxMikKICAgICAgICAgICAgOwoKICAgICAgICAgICAgCiAgICAgICAgCiAgICAKICAgICAgICB2YXIgbWFya2VyX2JhOTkyYTg0MzljMzRmMmU4NmM1YTg4YzEwMTdjMWYwID0gTC5tYXJrZXIoCiAgICAgICAgICAgIFs0My42NTQyNTk5LCAtNzkuMzYwNjM1OV0sCiAgICAgICAgICAgIHsKICAgICAgICAgICAgICAgIGljb246IG5ldyBMLkljb24uRGVmYXVsdCgpLAogICAgICAgICAgICAgICAgfQogICAgICAgICAgICApLmFkZFRvKGZlYXR1cmVfZ3JvdXBfNjEzOTJlMWEzMzkyNDg3Y2ExMDQwNzUwYTA4OTEzZmEpOwogICAgICAgIAogICAgCiAgICAgICAgICAgIHZhciBwb3B1cF8zMDk5ZWQ1MmRmZTE0M2Y5YjFhN2YxMTBhZjMwM2IzZSA9IEwucG9wdXAoe21heFdpZHRoOiAnMTAwJScKICAgICAgICAgICAgCiAgICAgICAgICAgIH0pOwoKICAgICAgICAgICAgCiAgICAgICAgICAgICAgICB2YXIgaHRtbF80MGQ4NzBiYjVhNGY0MmY5ODczNDhkYzU0M2VjNjVjZCA9ICQoYDxkaXYgaWQ9Imh0bWxfNDBkODcwYmI1YTRmNDJmOTg3MzQ4ZGM1NDNlYzY1Y2QiIHN0eWxlPSJ3aWR0aDogMTAwLjAlOyBoZWlnaHQ6IDEwMC4wJTsiPkRvd250b3duIFRvcm9udG88L2Rpdj5gKVswXTsKICAgICAgICAgICAgICAgIHBvcHVwXzMwOTllZDUyZGZlMTQzZjliMWE3ZjExMGFmMzAzYjNlLnNldENvbnRlbnQoaHRtbF80MGQ4NzBiYjVhNGY0MmY5ODczNDhkYzU0M2VjNjVjZCk7CiAgICAgICAgICAgIAoKICAgICAgICAgICAgbWFya2VyX2JhOTkyYTg0MzljMzRmMmU4NmM1YTg4YzEwMTdjMWYwLmJpbmRQb3B1cChwb3B1cF8zMDk5ZWQ1MmRmZTE0M2Y5YjFhN2YxMTBhZjMwM2IzZSkKICAgICAgICAgICAgOwoKICAgICAgICAgICAgCiAgICAgICAgCiAgICAKICAgICAgICB2YXIgbWFya2VyXzU4ZjUxMGZjZmNmMjRhZTA5NmUxNDQ4ZTBkZjQwZDA0ID0gTC5tYXJrZXIoCiAgICAgICAgICAgIFs0My43MTg1MTc5OTk5OTk5OTYsIC03OS40NjQ3NjMyOTk5OTk5OV0sCiAgICAgICAgICAgIHsKICAgICAgICAgICAgICAgIGljb246IG5ldyBMLkljb24uRGVmYXVsdCgpLAogICAgICAgICAgICAgICAgfQogICAgICAgICAgICApLmFkZFRvKGZlYXR1cmVfZ3JvdXBfNjEzOTJlMWEzMzkyNDg3Y2ExMDQwNzUwYTA4OTEzZmEpOwogICAgICAgIAogICAgCiAgICAgICAgICAgIHZhciBwb3B1cF83YWRiY2IxY2ZjMjM0OGJkOGNiMmQxMDcyYjAxYmIwZSA9IEwucG9wdXAoe21heFdpZHRoOiAnMTAwJScKICAgICAgICAgICAgCiAgICAgICAgICAgIH0pOwoKICAgICAgICAgICAgCiAgICAgICAgICAgICAgICB2YXIgaHRtbF8wZGUyM2MyYTRmMDE0ODNhOGY3ZTdlZjI2MGMwMWM4MiA9ICQoYDxkaXYgaWQ9Imh0bWxfMGRlMjNjMmE0ZjAxNDgzYThmN2U3ZWYyNjBjMDFjODIiIHN0eWxlPSJ3aWR0aDogMTAwLjAlOyBoZWlnaHQ6IDEwMC4wJTsiPk5vcnRoIFlvcms8L2Rpdj5gKVswXTsKICAgICAgICAgICAgICAgIHBvcHVwXzdhZGJjYjFjZmMyMzQ4YmQ4Y2IyZDEwNzJiMDFiYjBlLnNldENvbnRlbnQoaHRtbF8wZGUyM2MyYTRmMDE0ODNhOGY3ZTdlZjI2MGMwMWM4Mik7CiAgICAgICAgICAgIAoKICAgICAgICAgICAgbWFya2VyXzU4ZjUxMGZjZmNmMjRhZTA5NmUxNDQ4ZTBkZjQwZDA0LmJpbmRQb3B1cChwb3B1cF83YWRiY2IxY2ZjMjM0OGJkOGNiMmQxMDcyYjAxYmIwZSkKICAgICAgICAgICAgOwoKICAgICAgICAgICAgCiAgICAgICAgCiAgICAKICAgICAgICB2YXIgbWFya2VyXzZlNjczODY0MTRkMjQ0ZGE4YThhMTdhYzMwNmE4MDM2ID0gTC5tYXJrZXIoCiAgICAgICAgICAgIFs0My42NjIzMDE1LCAtNzkuMzg5NDkzOF0sCiAgICAgICAgICAgIHsKICAgICAgICAgICAgICAgIGljb246IG5ldyBMLkljb24uRGVmYXVsdCgpLAogICAgICAgICAgICAgICAgfQogICAgICAgICAgICApLmFkZFRvKGZlYXR1cmVfZ3JvdXBfNjEzOTJlMWEzMzkyNDg3Y2ExMDQwNzUwYTA4OTEzZmEpOwogICAgICAgIAogICAgCiAgICAgICAgICAgIHZhciBwb3B1cF85YzMzODBmYjNmM2E0NjJjYjNiZTA3NGZhNWE4NTU2OCA9IEwucG9wdXAoe21heFdpZHRoOiAnMTAwJScKICAgICAgICAgICAgCiAgICAgICAgICAgIH0pOwoKICAgICAgICAgICAgCiAgICAgICAgICAgICAgICB2YXIgaHRtbF9lZmM0MWQzODc5ZmI0NzA4OWQzMjM1ZWY1NjZlM2MyZiA9ICQoYDxkaXYgaWQ9Imh0bWxfZWZjNDFkMzg3OWZiNDcwODlkMzIzNWVmNTY2ZTNjMmYiIHN0eWxlPSJ3aWR0aDogMTAwLjAlOyBoZWlnaHQ6IDEwMC4wJTsiPlF1ZWVuJ3MgUGFyazwvZGl2PmApWzBdOwogICAgICAgICAgICAgICAgcG9wdXBfOWMzMzgwZmIzZjNhNDYyY2IzYmUwNzRmYTVhODU1Njguc2V0Q29udGVudChodG1sX2VmYzQxZDM4NzlmYjQ3MDg5ZDMyMzVlZjU2NmUzYzJmKTsKICAgICAgICAgICAgCgogICAgICAgICAgICBtYXJrZXJfNmU2NzM4NjQxNGQyNDRkYThhOGExN2FjMzA2YTgwMzYuYmluZFBvcHVwKHBvcHVwXzljMzM4MGZiM2YzYTQ2MmNiM2JlMDc0ZmE1YTg1NTY4KQogICAgICAgICAgICA7CgogICAgICAgICAgICAKICAgICAgICAKICAgIAogICAgICAgIHZhciBtYXJrZXJfZDVmMWE1ZTg2NjZmNDA4YTljZDcwZDI2MGJmZWFlMWEgPSBMLm1hcmtlcigKICAgICAgICAgICAgWzQzLjY2Nzg1NTYsIC03OS41MzIyNDI0MDAwMDAwMl0sCiAgICAgICAgICAgIHsKICAgICAgICAgICAgICAgIGljb246IG5ldyBMLkljb24uRGVmYXVsdCgpLAogICAgICAgICAgICAgICAgfQogICAgICAgICAgICApLmFkZFRvKGZlYXR1cmVfZ3JvdXBfNjEzOTJlMWEzMzkyNDg3Y2ExMDQwNzUwYTA4OTEzZmEpOwogICAgICAgIAogICAgCiAgICAgICAgICAgIHZhciBwb3B1cF9hYzUzYTY4NmZjNWE0ZDY1OTk4NjIwY2RkMmYzMjcyNiA9IEwucG9wdXAoe21heFdpZHRoOiAnMTAwJScKICAgICAgICAgICAgCiAgICAgICAgICAgIH0pOwoKICAgICAgICAgICAgCiAgICAgICAgICAgICAgICB2YXIgaHRtbF83YjhjZGJmZDZkOGQ0ODgyYjM3Y2I2ZWZmZDhlODgzZCA9ICQoYDxkaXYgaWQ9Imh0bWxfN2I4Y2RiZmQ2ZDhkNDg4MmIzN2NiNmVmZmQ4ZTg4M2QiIHN0eWxlPSJ3aWR0aDogMTAwLjAlOyBoZWlnaHQ6IDEwMC4wJTsiPkV0b2JpY29rZTwvZGl2PmApWzBdOwogICAgICAgICAgICAgICAgcG9wdXBfYWM1M2E2ODZmYzVhNGQ2NTk5ODYyMGNkZDJmMzI3MjYuc2V0Q29udGVudChodG1sXzdiOGNkYmZkNmQ4ZDQ4ODJiMzdjYjZlZmZkOGU4ODNkKTsKICAgICAgICAgICAgCgogICAgICAgICAgICBtYXJrZXJfZDVmMWE1ZTg2NjZmNDA4YTljZDcwZDI2MGJmZWFlMWEuYmluZFBvcHVwKHBvcHVwX2FjNTNhNjg2ZmM1YTRkNjU5OTg2MjBjZGQyZjMyNzI2KQogICAgICAgICAgICA7CgogICAgICAgICAgICAKICAgICAgICAKICAgIAogICAgICAgIHZhciBtYXJrZXJfMTEzNDcwNmM3OTQzNGY4ZWE1ODQxMWFkNGJhZjZiM2UgPSBMLm1hcmtlcigKICAgICAgICAgICAgWzQzLjgwNjY4NjI5OTk5OTk5NiwgLTc5LjE5NDM1MzQwMDAwMDAxXSwKICAgICAgICAgICAgewogICAgICAgICAgICAgICAgaWNvbjogbmV3IEwuSWNvbi5EZWZhdWx0KCksCiAgICAgICAgICAgICAgICB9CiAgICAgICAgICAgICkuYWRkVG8oZmVhdHVyZV9ncm91cF82MTM5MmUxYTMzOTI0ODdjYTEwNDA3NTBhMDg5MTNmYSk7CiAgICAgICAgCiAgICAKICAgICAgICAgICAgdmFyIHBvcHVwX2U2MzY0MTJkMGE5MzRlN2E4MTM4OGU0MGRhM2ZlMmM0ID0gTC5wb3B1cCh7bWF4V2lkdGg6ICcxMDAlJwogICAgICAgICAgICAKICAgICAgICAgICAgfSk7CgogICAgICAgICAgICAKICAgICAgICAgICAgICAgIHZhciBodG1sXzhmYTY4ZDc5Nzg0NjQyYjE4NTZhNzExZmNlOTI0ZDgzID0gJChgPGRpdiBpZD0iaHRtbF84ZmE2OGQ3OTc4NDY0MmIxODU2YTcxMWZjZTkyNGQ4MyIgc3R5bGU9IndpZHRoOiAxMDAuMCU7IGhlaWdodDogMTAwLjAlOyI+U2NhcmJvcm91Z2g8L2Rpdj5gKVswXTsKICAgICAgICAgICAgICAgIHBvcHVwX2U2MzY0MTJkMGE5MzRlN2E4MTM4OGU0MGRhM2ZlMmM0LnNldENvbnRlbnQoaHRtbF84ZmE2OGQ3OTc4NDY0MmIxODU2YTcxMWZjZTkyNGQ4Myk7CiAgICAgICAgICAgIAoKICAgICAgICAgICAgbWFya2VyXzExMzQ3MDZjNzk0MzRmOGVhNTg0MTFhZDRiYWY2YjNlLmJpbmRQb3B1cChwb3B1cF9lNjM2NDEyZDBhOTM0ZTdhODEzODhlNDBkYTNmZTJjNCkKICAgICAgICAgICAgOwoKICAgICAgICAgICAgCiAgICAgICAgCiAgICAKICAgICAgICB2YXIgbWFya2VyXzE5YWY1YjI5MWI1NjRkYjZhODRhZDZhNDU5YWI2OTVlID0gTC5tYXJrZXIoCiAgICAgICAgICAgIFs0My43NDU5MDU3OTk5OTk5OTYsIC03OS4zNTIxODhdLAogICAgICAgICAgICB7CiAgICAgICAgICAgICAgICBpY29uOiBuZXcgTC5JY29uLkRlZmF1bHQoKSwKICAgICAgICAgICAgICAgIH0KICAgICAgICAgICAgKS5hZGRUbyhmZWF0dXJlX2dyb3VwXzYxMzkyZTFhMzM5MjQ4N2NhMTA0MDc1MGEwODkxM2ZhKTsKICAgICAgICAKICAgIAogICAgICAgICAgICB2YXIgcG9wdXBfYWJkNzhhODE2ZDU3NDRiZmI5ZTBiYWRjMzIxZTUyNzMgPSBMLnBvcHVwKHttYXhXaWR0aDogJzEwMCUnCiAgICAgICAgICAgIAogICAgICAgICAgICB9KTsKCiAgICAgICAgICAgIAogICAgICAgICAgICAgICAgdmFyIGh0bWxfMzdkMzU3ZDhmZTZlNGVkM2E4YTA5ZDMwMWU2N2ZlZTIgPSAkKGA8ZGl2IGlkPSJodG1sXzM3ZDM1N2Q4ZmU2ZTRlZDNhOGEwOWQzMDFlNjdmZWUyIiBzdHlsZT0id2lkdGg6IDEwMC4wJTsgaGVpZ2h0OiAxMDAuMCU7Ij5Ob3J0aCBZb3JrPC9kaXY+YClbMF07CiAgICAgICAgICAgICAgICBwb3B1cF9hYmQ3OGE4MTZkNTc0NGJmYjllMGJhZGMzMjFlNTI3My5zZXRDb250ZW50KGh0bWxfMzdkMzU3ZDhmZTZlNGVkM2E4YTA5ZDMwMWU2N2ZlZTIpOwogICAgICAgICAgICAKCiAgICAgICAgICAgIG1hcmtlcl8xOWFmNWIyOTFiNTY0ZGI2YTg0YWQ2YTQ1OWFiNjk1ZS5iaW5kUG9wdXAocG9wdXBfYWJkNzhhODE2ZDU3NDRiZmI5ZTBiYWRjMzIxZTUyNzMpCiAgICAgICAgICAgIDsKCiAgICAgICAgICAgIAogICAgICAgIAogICAgCiAgICAgICAgdmFyIG1hcmtlcl84MjQ3MjQxNGE0Y2E0MmYwOGZjMjcxMTU4ODkzN2JkNSA9IEwubWFya2VyKAogICAgICAgICAgICBbNDMuNzA2Mzk3MiwgLTc5LjMwOTkzN10sCiAgICAgICAgICAgIHsKICAgICAgICAgICAgICAgIGljb246IG5ldyBMLkljb24uRGVmYXVsdCgpLAogICAgICAgICAgICAgICAgfQogICAgICAgICAgICApLmFkZFRvKGZlYXR1cmVfZ3JvdXBfNjEzOTJlMWEzMzkyNDg3Y2ExMDQwNzUwYTA4OTEzZmEpOwogICAgICAgIAogICAgCiAgICAgICAgICAgIHZhciBwb3B1cF8zZDI1Y2YzZWNjNTA0MTc3YTExNzBlMmJkZTAzMmQ1MCA9IEwucG9wdXAoe21heFdpZHRoOiAnMTAwJScKICAgICAgICAgICAgCiAgICAgICAgICAgIH0pOwoKICAgICAgICAgICAgCiAgICAgICAgICAgICAgICB2YXIgaHRtbF81NmFhNGNiM2U4NjA0ZTQ0YjFlMmEyNjg0YzQyZWE4YiA9ICQoYDxkaXYgaWQ9Imh0bWxfNTZhYTRjYjNlODYwNGU0NGIxZTJhMjY4NGM0MmVhOGIiIHN0eWxlPSJ3aWR0aDogMTAwLjAlOyBoZWlnaHQ6IDEwMC4wJTsiPkVhc3QgWW9yazwvZGl2PmApWzBdOwogICAgICAgICAgICAgICAgcG9wdXBfM2QyNWNmM2VjYzUwNDE3N2ExMTcwZTJiZGUwMzJkNTAuc2V0Q29udGVudChodG1sXzU2YWE0Y2IzZTg2MDRlNDRiMWUyYTI2ODRjNDJlYThiKTsKICAgICAgICAgICAgCgogICAgICAgICAgICBtYXJrZXJfODI0NzI0MTRhNGNhNDJmMDhmYzI3MTE1ODg5MzdiZDUuYmluZFBvcHVwKHBvcHVwXzNkMjVjZjNlY2M1MDQxNzdhMTE3MGUyYmRlMDMyZDUwKQogICAgICAgICAgICA7CgogICAgICAgICAgICAKICAgICAgICAKICAgIAogICAgICAgIHZhciBtYXJrZXJfYTdlYmNmYjE5MzZiNDRiOTlkMTM5MmU1OWEwNmUxOTAgPSBMLm1hcmtlcigKICAgICAgICAgICAgWzQzLjY1NzE2MTgsIC03OS4zNzg5MzcwOTk5OTk5OV0sCiAgICAgICAgICAgIHsKICAgICAgICAgICAgICAgIGljb246IG5ldyBMLkljb24uRGVmYXVsdCgpLAogICAgICAgICAgICAgICAgfQogICAgICAgICAgICApLmFkZFRvKGZlYXR1cmVfZ3JvdXBfNjEzOTJlMWEzMzkyNDg3Y2ExMDQwNzUwYTA4OTEzZmEpOwogICAgICAgIAogICAgCiAgICAgICAgICAgIHZhciBwb3B1cF9iNjcwYjM1ODU4NmI0MTdlYTczZTE0MDQ4NmQ0NDNhNyA9IEwucG9wdXAoe21heFdpZHRoOiAnMTAwJScKICAgICAgICAgICAgCiAgICAgICAgICAgIH0pOwoKICAgICAgICAgICAgCiAgICAgICAgICAgICAgICB2YXIgaHRtbF80Y2VkYmNmMjY1YzY0NDIwYTY5NjBjNTM4MWNkY2VjOSA9ICQoYDxkaXYgaWQ9Imh0bWxfNGNlZGJjZjI2NWM2NDQyMGE2OTYwYzUzODFjZGNlYzkiIHN0eWxlPSJ3aWR0aDogMTAwLjAlOyBoZWlnaHQ6IDEwMC4wJTsiPkRvd250b3duIFRvcm9udG88L2Rpdj5gKVswXTsKICAgICAgICAgICAgICAgIHBvcHVwX2I2NzBiMzU4NTg2YjQxN2VhNzNlMTQwNDg2ZDQ0M2E3LnNldENvbnRlbnQoaHRtbF80Y2VkYmNmMjY1YzY0NDIwYTY5NjBjNTM4MWNkY2VjOSk7CiAgICAgICAgICAgIAoKICAgICAgICAgICAgbWFya2VyX2E3ZWJjZmIxOTM2YjQ0Yjk5ZDEzOTJlNTlhMDZlMTkwLmJpbmRQb3B1cChwb3B1cF9iNjcwYjM1ODU4NmI0MTdlYTczZTE0MDQ4NmQ0NDNhNykKICAgICAgICAgICAgOwoKICAgICAgICAgICAgCiAgICAgICAgCiAgICAKICAgICAgICB2YXIgbWFya2VyX2M3YWQ2N2NmMTdiNDQ5OGY5NjI0NGM5NTVlODg4M2UyID0gTC5tYXJrZXIoCiAgICAgICAgICAgIFs0My43MDk1NzcsIC03OS40NDUwNzI1OTk5OTk5OV0sCiAgICAgICAgICAgIHsKICAgICAgICAgICAgICAgIGljb246IG5ldyBMLkljb24uRGVmYXVsdCgpLAogICAgICAgICAgICAgICAgfQogICAgICAgICAgICApLmFkZFRvKGZlYXR1cmVfZ3JvdXBfNjEzOTJlMWEzMzkyNDg3Y2ExMDQwNzUwYTA4OTEzZmEpOwogICAgICAgIAogICAgCiAgICAgICAgICAgIHZhciBwb3B1cF83YjA2Mzc1MWY2MmY0N2M3YjU3OTZhNmE0YWNiYzczNSA9IEwucG9wdXAoe21heFdpZHRoOiAnMTAwJScKICAgICAgICAgICAgCiAgICAgICAgICAgIH0pOwoKICAgICAgICAgICAgCiAgICAgICAgICAgICAgICB2YXIgaHRtbF9lOTRlM2QzYTliMzE0NjMyODk5ZGI0YjVkNDcxZWYwYyA9ICQoYDxkaXYgaWQ9Imh0bWxfZTk0ZTNkM2E5YjMxNDYzMjg5OWRiNGI1ZDQ3MWVmMGMiIHN0eWxlPSJ3aWR0aDogMTAwLjAlOyBoZWlnaHQ6IDEwMC4wJTsiPk5vcnRoIFlvcms8L2Rpdj5gKVswXTsKICAgICAgICAgICAgICAgIHBvcHVwXzdiMDYzNzUxZjYyZjQ3YzdiNTc5NmE2YTRhY2JjNzM1LnNldENvbnRlbnQoaHRtbF9lOTRlM2QzYTliMzE0NjMyODk5ZGI0YjVkNDcxZWYwYyk7CiAgICAgICAgICAgIAoKICAgICAgICAgICAgbWFya2VyX2M3YWQ2N2NmMTdiNDQ5OGY5NjI0NGM5NTVlODg4M2UyLmJpbmRQb3B1cChwb3B1cF83YjA2Mzc1MWY2MmY0N2M3YjU3OTZhNmE0YWNiYzczNSkKICAgICAgICAgICAgOwoKICAgICAgICAgICAgCiAgICAgICAgCiAgICAKICAgICAgICB2YXIgbWFya2VyX2YyMTA3YmQ5NmI3NTRiYTViZDlmMDY0YTcxODk0NzlkID0gTC5tYXJrZXIoCiAgICAgICAgICAgIFs0My42NTA5NDMyLCAtNzkuNTU0NzI0NDAwMDAwMDFdLAogICAgICAgICAgICB7CiAgICAgICAgICAgICAgICBpY29uOiBuZXcgTC5JY29uLkRlZmF1bHQoKSwKICAgICAgICAgICAgICAgIH0KICAgICAgICAgICAgKS5hZGRUbyhmZWF0dXJlX2dyb3VwXzYxMzkyZTFhMzM5MjQ4N2NhMTA0MDc1MGEwODkxM2ZhKTsKICAgICAgICAKICAgIAogICAgICAgICAgICB2YXIgcG9wdXBfY2Y3ZWIyZjUwMDk4NGJkNzk0NjUwY2FlZGE4YzM3NDYgPSBMLnBvcHVwKHttYXhXaWR0aDogJzEwMCUnCiAgICAgICAgICAgIAogICAgICAgICAgICB9KTsKCiAgICAgICAgICAgIAogICAgICAgICAgICAgICAgdmFyIGh0bWxfMzk3MGZiMzVmZTFhNDkxMTg2YjFjMTY2MTc2NmMxYjMgPSAkKGA8ZGl2IGlkPSJodG1sXzM5NzBmYjM1ZmUxYTQ5MTE4NmIxYzE2NjE3NjZjMWIzIiBzdHlsZT0id2lkdGg6IDEwMC4wJTsgaGVpZ2h0OiAxMDAuMCU7Ij5FdG9iaWNva2U8L2Rpdj5gKVswXTsKICAgICAgICAgICAgICAgIHBvcHVwX2NmN2ViMmY1MDA5ODRiZDc5NDY1MGNhZWRhOGMzNzQ2LnNldENvbnRlbnQoaHRtbF8zOTcwZmIzNWZlMWE0OTExODZiMWMxNjYxNzY2YzFiMyk7CiAgICAgICAgICAgIAoKICAgICAgICAgICAgbWFya2VyX2YyMTA3YmQ5NmI3NTRiYTViZDlmMDY0YTcxODk0NzlkLmJpbmRQb3B1cChwb3B1cF9jZjdlYjJmNTAwOTg0YmQ3OTQ2NTBjYWVkYThjMzc0NikKICAgICAgICAgICAgOwoKICAgICAgICAgICAgCiAgICAgICAgCiAgICAKICAgICAgICB2YXIgbWFya2VyX2ZjMjEzOGVkYWYxMzQzMDE5ZjZiMDQzNGFkNGExMjViID0gTC5tYXJrZXIoCiAgICAgICAgICAgIFs0My43ODQ1MzUxLCAtNzkuMTYwNDk3MDk5OTk5OTldLAogICAgICAgICAgICB7CiAgICAgICAgICAgICAgICBpY29uOiBuZXcgTC5JY29uLkRlZmF1bHQoKSwKICAgICAgICAgICAgICAgIH0KICAgICAgICAgICAgKS5hZGRUbyhmZWF0dXJlX2dyb3VwXzYxMzkyZTFhMzM5MjQ4N2NhMTA0MDc1MGEwODkxM2ZhKTsKICAgICAgICAKICAgIAogICAgICAgICAgICB2YXIgcG9wdXBfNDNkMDRhODMxNTAyNDg3NmI0N2YwNGQzNDRjYzZkNTIgPSBMLnBvcHVwKHttYXhXaWR0aDogJzEwMCUnCiAgICAgICAgICAgIAogICAgICAgICAgICB9KTsKCiAgICAgICAgICAgIAogICAgICAgICAgICAgICAgdmFyIGh0bWxfZmUyYWE0MTU0N2Q3NDRlZjk2MjhmZWVkNjZkNzFlODIgPSAkKGA8ZGl2IGlkPSJodG1sX2ZlMmFhNDE1NDdkNzQ0ZWY5NjI4ZmVlZDY2ZDcxZTgyIiBzdHlsZT0id2lkdGg6IDEwMC4wJTsgaGVpZ2h0OiAxMDAuMCU7Ij5TY2FyYm9yb3VnaDwvZGl2PmApWzBdOwogICAgICAgICAgICAgICAgcG9wdXBfNDNkMDRhODMxNTAyNDg3NmI0N2YwNGQzNDRjYzZkNTIuc2V0Q29udGVudChodG1sX2ZlMmFhNDE1NDdkNzQ0ZWY5NjI4ZmVlZDY2ZDcxZTgyKTsKICAgICAgICAgICAgCgogICAgICAgICAgICBtYXJrZXJfZmMyMTM4ZWRhZjEzNDMwMTlmNmIwNDM0YWQ0YTEyNWIuYmluZFBvcHVwKHBvcHVwXzQzZDA0YTgzMTUwMjQ4NzZiNDdmMDRkMzQ0Y2M2ZDUyKQogICAgICAgICAgICA7CgogICAgICAgICAgICAKICAgICAgICAKICAgIAogICAgICAgIHZhciBtYXJrZXJfM2M4MTc2YjUxZDJkNDI0MDk5NjQwYTYwOTQ2ZGJiNjcgPSBMLm1hcmtlcigKICAgICAgICAgICAgWzQzLjcyNTg5OTcwMDAwMDAxLCAtNzkuMzQwOTIzXSwKICAgICAgICAgICAgewogICAgICAgICAgICAgICAgaWNvbjogbmV3IEwuSWNvbi5EZWZhdWx0KCksCiAgICAgICAgICAgICAgICB9CiAgICAgICAgICAgICkuYWRkVG8oZmVhdHVyZV9ncm91cF82MTM5MmUxYTMzOTI0ODdjYTEwNDA3NTBhMDg5MTNmYSk7CiAgICAgICAgCiAgICAKICAgICAgICAgICAgdmFyIHBvcHVwX2VkNmJjZWRjYzA1MTQxYjQ5YzJiNjdlMzM4YWY2NDI5ID0gTC5wb3B1cCh7bWF4V2lkdGg6ICcxMDAlJwogICAgICAgICAgICAKICAgICAgICAgICAgfSk7CgogICAgICAgICAgICAKICAgICAgICAgICAgICAgIHZhciBodG1sX2M4NzcyNTkwZjcxYjQxNGJiZmU2YzI0YWQxMmI0Mjg1ID0gJChgPGRpdiBpZD0iaHRtbF9jODc3MjU5MGY3MWI0MTRiYmZlNmMyNGFkMTJiNDI4NSIgc3R5bGU9IndpZHRoOiAxMDAuMCU7IGhlaWdodDogMTAwLjAlOyI+Tm9ydGggWW9yazwvZGl2PmApWzBdOwogICAgICAgICAgICAgICAgcG9wdXBfZWQ2YmNlZGNjMDUxNDFiNDljMmI2N2UzMzhhZjY0Mjkuc2V0Q29udGVudChodG1sX2M4NzcyNTkwZjcxYjQxNGJiZmU2YzI0YWQxMmI0Mjg1KTsKICAgICAgICAgICAgCgogICAgICAgICAgICBtYXJrZXJfM2M4MTc2YjUxZDJkNDI0MDk5NjQwYTYwOTQ2ZGJiNjcuYmluZFBvcHVwKHBvcHVwX2VkNmJjZWRjYzA1MTQxYjQ5YzJiNjdlMzM4YWY2NDI5KQogICAgICAgICAgICA7CgogICAgICAgICAgICAKICAgICAgICAKICAgIAogICAgICAgIHZhciBtYXJrZXJfNWY1ZGFkOTQwZjgzNGI1NThmMzg3MTZhNjM0YzhlODEgPSBMLm1hcmtlcigKICAgICAgICAgICAgWzQzLjY5NTM0MzkwMDAwMDAwNSwgLTc5LjMxODM4ODddLAogICAgICAgICAgICB7CiAgICAgICAgICAgICAgICBpY29uOiBuZXcgTC5JY29uLkRlZmF1bHQoKSwKICAgICAgICAgICAgICAgIH0KICAgICAgICAgICAgKS5hZGRUbyhmZWF0dXJlX2dyb3VwXzYxMzkyZTFhMzM5MjQ4N2NhMTA0MDc1MGEwODkxM2ZhKTsKICAgICAgICAKICAgIAogICAgICAgICAgICB2YXIgcG9wdXBfZTZjZjk4MmQ4NzMwNGQyZWFiNTkxMmI4NGJhY2VjMmUgPSBMLnBvcHVwKHttYXhXaWR0aDogJzEwMCUnCiAgICAgICAgICAgIAogICAgICAgICAgICB9KTsKCiAgICAgICAgICAgIAogICAgICAgICAgICAgICAgdmFyIGh0bWxfZGNmOGE2YTkwMDgyNGRkZTg4ZmU3YzZhNjBkNTE4MmIgPSAkKGA8ZGl2IGlkPSJodG1sX2RjZjhhNmE5MDA4MjRkZGU4OGZlN2M2YTYwZDUxODJiIiBzdHlsZT0id2lkdGg6IDEwMC4wJTsgaGVpZ2h0OiAxMDAuMCU7Ij5FYXN0IFlvcms8L2Rpdj5gKVswXTsKICAgICAgICAgICAgICAgIHBvcHVwX2U2Y2Y5ODJkODczMDRkMmVhYjU5MTJiODRiYWNlYzJlLnNldENvbnRlbnQoaHRtbF9kY2Y4YTZhOTAwODI0ZGRlODhmZTdjNmE2MGQ1MTgyYik7CiAgICAgICAgICAgIAoKICAgICAgICAgICAgbWFya2VyXzVmNWRhZDk0MGY4MzRiNTU4ZjM4NzE2YTYzNGM4ZTgxLmJpbmRQb3B1cChwb3B1cF9lNmNmOTgyZDg3MzA0ZDJlYWI1OTEyYjg0YmFjZWMyZSkKICAgICAgICAgICAgOwoKICAgICAgICAgICAgCiAgICAgICAgCiAgICAKICAgICAgICB2YXIgbWFya2VyX2Q3ZmU1MTE4NzY1MTQ0ZTU4ZTczNDE1NDA5N2QyNGY3ID0gTC5tYXJrZXIoCiAgICAgICAgICAgIFs0My42NTE0OTM5LCAtNzkuMzc1NDE3OV0sCiAgICAgICAgICAgIHsKICAgICAgICAgICAgICAgIGljb246IG5ldyBMLkljb24uRGVmYXVsdCgpLAogICAgICAgICAgICAgICAgfQogICAgICAgICAgICApLmFkZFRvKGZlYXR1cmVfZ3JvdXBfNjEzOTJlMWEzMzkyNDg3Y2ExMDQwNzUwYTA4OTEzZmEpOwogICAgICAgIAogICAgCiAgICAgICAgICAgIHZhciBwb3B1cF9jNTYwNzIxZWY5YWQ0N2I4OWYzMzY1MDc3NWMyMmJjYSA9IEwucG9wdXAoe21heFdpZHRoOiAnMTAwJScKICAgICAgICAgICAgCiAgICAgICAgICAgIH0pOwoKICAgICAgICAgICAgCiAgICAgICAgICAgICAgICB2YXIgaHRtbF9kNjJhYzMxZjg2MTQ0ZGUzOGQzODI2ODNlNDc0YzdkNSA9ICQoYDxkaXYgaWQ9Imh0bWxfZDYyYWMzMWY4NjE0NGRlMzhkMzgyNjgzZTQ3NGM3ZDUiIHN0eWxlPSJ3aWR0aDogMTAwLjAlOyBoZWlnaHQ6IDEwMC4wJTsiPkRvd250b3duIFRvcm9udG88L2Rpdj5gKVswXTsKICAgICAgICAgICAgICAgIHBvcHVwX2M1NjA3MjFlZjlhZDQ3Yjg5ZjMzNjUwNzc1YzIyYmNhLnNldENvbnRlbnQoaHRtbF9kNjJhYzMxZjg2MTQ0ZGUzOGQzODI2ODNlNDc0YzdkNSk7CiAgICAgICAgICAgIAoKICAgICAgICAgICAgbWFya2VyX2Q3ZmU1MTE4NzY1MTQ0ZTU4ZTczNDE1NDA5N2QyNGY3LmJpbmRQb3B1cChwb3B1cF9jNTYwNzIxZWY5YWQ0N2I4OWYzMzY1MDc3NWMyMmJjYSkKICAgICAgICAgICAgOwoKICAgICAgICAgICAgCiAgICAgICAgCiAgICAKICAgICAgICB2YXIgbWFya2VyX2QwNWQxMjhlNDlmYTQyMDJhNmY2YmFlZjlkZGY1YjY5ID0gTC5tYXJrZXIoCiAgICAgICAgICAgIFs0My42OTM3ODEzLCAtNzkuNDI4MTkxNDAwMDAwMDJdLAogICAgICAgICAgICB7CiAgICAgICAgICAgICAgICBpY29uOiBuZXcgTC5JY29uLkRlZmF1bHQoKSwKICAgICAgICAgICAgICAgIH0KICAgICAgICAgICAgKS5hZGRUbyhmZWF0dXJlX2dyb3VwXzYxMzkyZTFhMzM5MjQ4N2NhMTA0MDc1MGEwODkxM2ZhKTsKICAgICAgICAKICAgIAogICAgICAgICAgICB2YXIgcG9wdXBfZTAwZjhlZWQ5M2JhNGJiYmE5N2NhNDBlNTIwZjhhNWMgPSBMLnBvcHVwKHttYXhXaWR0aDogJzEwMCUnCiAgICAgICAgICAgIAogICAgICAgICAgICB9KTsKCiAgICAgICAgICAgIAogICAgICAgICAgICAgICAgdmFyIGh0bWxfMzMwMDg2MmUwYzA5NDEwNWFkOGU0YTc0NjkwZDZiYmEgPSAkKGA8ZGl2IGlkPSJodG1sXzMzMDA4NjJlMGMwOTQxMDVhZDhlNGE3NDY5MGQ2YmJhIiBzdHlsZT0id2lkdGg6IDEwMC4wJTsgaGVpZ2h0OiAxMDAuMCU7Ij5Zb3JrPC9kaXY+YClbMF07CiAgICAgICAgICAgICAgICBwb3B1cF9lMDBmOGVlZDkzYmE0YmJiYTk3Y2E0MGU1MjBmOGE1Yy5zZXRDb250ZW50KGh0bWxfMzMwMDg2MmUwYzA5NDEwNWFkOGU0YTc0NjkwZDZiYmEpOwogICAgICAgICAgICAKCiAgICAgICAgICAgIG1hcmtlcl9kMDVkMTI4ZTQ5ZmE0MjAyYTZmNmJhZWY5ZGRmNWI2OS5iaW5kUG9wdXAocG9wdXBfZTAwZjhlZWQ5M2JhNGJiYmE5N2NhNDBlNTIwZjhhNWMpCiAgICAgICAgICAgIDsKCiAgICAgICAgICAgIAogICAgICAgIAogICAgCiAgICAgICAgdmFyIG1hcmtlcl8xYzJhMjczN2ZmZDA0ZjNlOTVjNGMzNTMyNWM1ZTdmMSA9IEwubWFya2VyKAogICAgICAgICAgICBbNDMuNjQzNTE1MiwgLTc5LjU3NzIwMDc5OTk5OTk5XSwKICAgICAgICAgICAgewogICAgICAgICAgICAgICAgaWNvbjogbmV3IEwuSWNvbi5EZWZhdWx0KCksCiAgICAgICAgICAgICAgICB9CiAgICAgICAgICAgICkuYWRkVG8oZmVhdHVyZV9ncm91cF82MTM5MmUxYTMzOTI0ODdjYTEwNDA3NTBhMDg5MTNmYSk7CiAgICAgICAgCiAgICAKICAgICAgICAgICAgdmFyIHBvcHVwXzc5MTM4MDU2YjJjMzRlOWE4Y2QzYzAzYjJkYTU0NjlmID0gTC5wb3B1cCh7bWF4V2lkdGg6ICcxMDAlJwogICAgICAgICAgICAKICAgICAgICAgICAgfSk7CgogICAgICAgICAgICAKICAgICAgICAgICAgICAgIHZhciBodG1sX2UzMTE4MTU2MzJiYTQyMTdiNGFjMTE5Zjk2MzZmZjRkID0gJChgPGRpdiBpZD0iaHRtbF9lMzExODE1NjMyYmE0MjE3YjRhYzExOWY5NjM2ZmY0ZCIgc3R5bGU9IndpZHRoOiAxMDAuMCU7IGhlaWdodDogMTAwLjAlOyI+RXRvYmljb2tlPC9kaXY+YClbMF07CiAgICAgICAgICAgICAgICBwb3B1cF83OTEzODA1NmIyYzM0ZTlhOGNkM2MwM2IyZGE1NDY5Zi5zZXRDb250ZW50KGh0bWxfZTMxMTgxNTYzMmJhNDIxN2I0YWMxMTlmOTYzNmZmNGQpOwogICAgICAgICAgICAKCiAgICAgICAgICAgIG1hcmtlcl8xYzJhMjczN2ZmZDA0ZjNlOTVjNGMzNTMyNWM1ZTdmMS5iaW5kUG9wdXAocG9wdXBfNzkxMzgwNTZiMmMzNGU5YThjZDNjMDNiMmRhNTQ2OWYpCiAgICAgICAgICAgIDsKCiAgICAgICAgICAgIAogICAgICAgIAogICAgCiAgICAgICAgdmFyIG1hcmtlcl83ZTJkOTY3ZGNiMWE0YTFkYTgxOTAyM2FjYzk5ZjE0MiA9IEwubWFya2VyKAogICAgICAgICAgICBbNDMuNzYzNTcyNiwgLTc5LjE4ODcxMTVdLAogICAgICAgICAgICB7CiAgICAgICAgICAgICAgICBpY29uOiBuZXcgTC5JY29uLkRlZmF1bHQoKSwKICAgICAgICAgICAgICAgIH0KICAgICAgICAgICAgKS5hZGRUbyhmZWF0dXJlX2dyb3VwXzYxMzkyZTFhMzM5MjQ4N2NhMTA0MDc1MGEwODkxM2ZhKTsKICAgICAgICAKICAgIAogICAgICAgICAgICB2YXIgcG9wdXBfMGYxZjA3MzA4ZmI1NGJmNzlhMjdlZjdkYzIyYzc0ZDggPSBMLnBvcHVwKHttYXhXaWR0aDogJzEwMCUnCiAgICAgICAgICAgIAogICAgICAgICAgICB9KTsKCiAgICAgICAgICAgIAogICAgICAgICAgICAgICAgdmFyIGh0bWxfZGQ4YjdjYTYwNGQ1NGI3MGE2M2YwYjBiMDM1MzlmMTEgPSAkKGA8ZGl2IGlkPSJodG1sX2RkOGI3Y2E2MDRkNTRiNzBhNjNmMGIwYjAzNTM5ZjExIiBzdHlsZT0id2lkdGg6IDEwMC4wJTsgaGVpZ2h0OiAxMDAuMCU7Ij5TY2FyYm9yb3VnaDwvZGl2PmApWzBdOwogICAgICAgICAgICAgICAgcG9wdXBfMGYxZjA3MzA4ZmI1NGJmNzlhMjdlZjdkYzIyYzc0ZDguc2V0Q29udGVudChodG1sX2RkOGI3Y2E2MDRkNTRiNzBhNjNmMGIwYjAzNTM5ZjExKTsKICAgICAgICAgICAgCgogICAgICAgICAgICBtYXJrZXJfN2UyZDk2N2RjYjFhNGExZGE4MTkwMjNhY2M5OWYxNDIuYmluZFBvcHVwKHBvcHVwXzBmMWYwNzMwOGZiNTRiZjc5YTI3ZWY3ZGMyMmM3NGQ4KQogICAgICAgICAgICA7CgogICAgICAgICAgICAKICAgICAgICAKICAgIAogICAgICAgIHZhciBtYXJrZXJfODczNWNjYmEwODJkNGZkMzg3YWNhMTFkZWJlM2IwNGIgPSBMLm1hcmtlcigKICAgICAgICAgICAgWzQzLjY3NjM1NzM5OTk5OTk5LCAtNzkuMjkzMDMxMl0sCiAgICAgICAgICAgIHsKICAgICAgICAgICAgICAgIGljb246IG5ldyBMLkljb24uRGVmYXVsdCgpLAogICAgICAgICAgICAgICAgfQogICAgICAgICAgICApLmFkZFRvKGZlYXR1cmVfZ3JvdXBfNjEzOTJlMWEzMzkyNDg3Y2ExMDQwNzUwYTA4OTEzZmEpOwogICAgICAgIAogICAgCiAgICAgICAgICAgIHZhciBwb3B1cF9mYWU4MTgwMGZmYjI0YjVmOTlkMjdmZmRjYTg2YWE5OSA9IEwucG9wdXAoe21heFdpZHRoOiAnMTAwJScKICAgICAgICAgICAgCiAgICAgICAgICAgIH0pOwoKICAgICAgICAgICAgCiAgICAgICAgICAgICAgICB2YXIgaHRtbF8yM2YzZTA2ODgzNzk0MDFiODg4MmQ2NDA2M2YxNDJjYiA9ICQoYDxkaXYgaWQ9Imh0bWxfMjNmM2UwNjg4Mzc5NDAxYjg4ODJkNjQwNjNmMTQyY2IiIHN0eWxlPSJ3aWR0aDogMTAwLjAlOyBoZWlnaHQ6IDEwMC4wJTsiPkVhc3QgVG9yb250bzwvZGl2PmApWzBdOwogICAgICAgICAgICAgICAgcG9wdXBfZmFlODE4MDBmZmIyNGI1Zjk5ZDI3ZmZkY2E4NmFhOTkuc2V0Q29udGVudChodG1sXzIzZjNlMDY4ODM3OTQwMWI4ODgyZDY0MDYzZjE0MmNiKTsKICAgICAgICAgICAgCgogICAgICAgICAgICBtYXJrZXJfODczNWNjYmEwODJkNGZkMzg3YWNhMTFkZWJlM2IwNGIuYmluZFBvcHVwKHBvcHVwX2ZhZTgxODAwZmZiMjRiNWY5OWQyN2ZmZGNhODZhYTk5KQogICAgICAgICAgICA7CgogICAgICAgICAgICAKICAgICAgICAKICAgIAogICAgICAgIHZhciBtYXJrZXJfMzA4NDNhMmI3Y2U1NDI2OWFlNmY4ODkxMjc3NTc0ZGIgPSBMLm1hcmtlcigKICAgICAgICAgICAgWzQzLjY0NDc3MDc5OTk5OTk5NiwgLTc5LjM3MzMwNjRdLAogICAgICAgICAgICB7CiAgICAgICAgICAgICAgICBpY29uOiBuZXcgTC5JY29uLkRlZmF1bHQoKSwKICAgICAgICAgICAgICAgIH0KICAgICAgICAgICAgKS5hZGRUbyhmZWF0dXJlX2dyb3VwXzYxMzkyZTFhMzM5MjQ4N2NhMTA0MDc1MGEwODkxM2ZhKTsKICAgICAgICAKICAgIAogICAgICAgICAgICB2YXIgcG9wdXBfOWFmMjg5OTc1N2Y3NGUwYTg4YTJkYmY3MDA2ZTFlYTYgPSBMLnBvcHVwKHttYXhXaWR0aDogJzEwMCUnCiAgICAgICAgICAgIAogICAgICAgICAgICB9KTsKCiAgICAgICAgICAgIAogICAgICAgICAgICAgICAgdmFyIGh0bWxfYjA4Y2E5NDY4ZjE2NGUxMzhjMmJhZTkxNWRiY2RmMGQgPSAkKGA8ZGl2IGlkPSJodG1sX2IwOGNhOTQ2OGYxNjRlMTM4YzJiYWU5MTVkYmNkZjBkIiBzdHlsZT0id2lkdGg6IDEwMC4wJTsgaGVpZ2h0OiAxMDAuMCU7Ij5Eb3dudG93biBUb3JvbnRvPC9kaXY+YClbMF07CiAgICAgICAgICAgICAgICBwb3B1cF85YWYyODk5NzU3Zjc0ZTBhODhhMmRiZjcwMDZlMWVhNi5zZXRDb250ZW50KGh0bWxfYjA4Y2E5NDY4ZjE2NGUxMzhjMmJhZTkxNWRiY2RmMGQpOwogICAgICAgICAgICAKCiAgICAgICAgICAgIG1hcmtlcl8zMDg0M2EyYjdjZTU0MjY5YWU2Zjg4OTEyNzc1NzRkYi5iaW5kUG9wdXAocG9wdXBfOWFmMjg5OTc1N2Y3NGUwYTg4YTJkYmY3MDA2ZTFlYTYpCiAgICAgICAgICAgIDsKCiAgICAgICAgICAgIAogICAgICAgIAogICAgCiAgICAgICAgdmFyIG1hcmtlcl9kMjhmYmM4NTA5M2Q0MTM3OTllMzM5OTEwZDY2MmY2NiA9IEwubWFya2VyKAogICAgICAgICAgICBbNDMuNjg5MDI1NiwgLTc5LjQ1MzUxMl0sCiAgICAgICAgICAgIHsKICAgICAgICAgICAgICAgIGljb246IG5ldyBMLkljb24uRGVmYXVsdCgpLAogICAgICAgICAgICAgICAgfQogICAgICAgICAgICApLmFkZFRvKGZlYXR1cmVfZ3JvdXBfNjEzOTJlMWEzMzkyNDg3Y2ExMDQwNzUwYTA4OTEzZmEpOwogICAgICAgIAogICAgCiAgICAgICAgICAgIHZhciBwb3B1cF9lYjU2ZDljZGVjZjI0YjhmYWRhYzMzNzNkY2I1NjEyMyA9IEwucG9wdXAoe21heFdpZHRoOiAnMTAwJScKICAgICAgICAgICAgCiAgICAgICAgICAgIH0pOwoKICAgICAgICAgICAgCiAgICAgICAgICAgICAgICB2YXIgaHRtbF9lNjhlMzEyZWI2YWY0MWEwYWRlOWNhZDUwMDZjYzZjNCA9ICQoYDxkaXYgaWQ9Imh0bWxfZTY4ZTMxMmViNmFmNDFhMGFkZTljYWQ1MDA2Y2M2YzQiIHN0eWxlPSJ3aWR0aDogMTAwLjAlOyBoZWlnaHQ6IDEwMC4wJTsiPllvcms8L2Rpdj5gKVswXTsKICAgICAgICAgICAgICAgIHBvcHVwX2ViNTZkOWNkZWNmMjRiOGZhZGFjMzM3M2RjYjU2MTIzLnNldENvbnRlbnQoaHRtbF9lNjhlMzEyZWI2YWY0MWEwYWRlOWNhZDUwMDZjYzZjNCk7CiAgICAgICAgICAgIAoKICAgICAgICAgICAgbWFya2VyX2QyOGZiYzg1MDkzZDQxMzc5OWUzMzk5MTBkNjYyZjY2LmJpbmRQb3B1cChwb3B1cF9lYjU2ZDljZGVjZjI0YjhmYWRhYzMzNzNkY2I1NjEyMykKICAgICAgICAgICAgOwoKICAgICAgICAgICAgCiAgICAgICAgCiAgICAKICAgICAgICB2YXIgbWFya2VyX2I5ODkzMTA4NDIwOTRmM2E4MTM3ODIzMTg5MWM1OWIyID0gTC5tYXJrZXIoCiAgICAgICAgICAgIFs0My43NzA5OTIxLCAtNzkuMjE2OTE3NDAwMDAwMDFdLAogICAgICAgICAgICB7CiAgICAgICAgICAgICAgICBpY29uOiBuZXcgTC5JY29uLkRlZmF1bHQoKSwKICAgICAgICAgICAgICAgIH0KICAgICAgICAgICAgKS5hZGRUbyhmZWF0dXJlX2dyb3VwXzYxMzkyZTFhMzM5MjQ4N2NhMTA0MDc1MGEwODkxM2ZhKTsKICAgICAgICAKICAgIAogICAgICAgICAgICB2YXIgcG9wdXBfZDViNTA2YTU4MjJjNDk4M2JiNmY3MWQ1M2JlYzczOGIgPSBMLnBvcHVwKHttYXhXaWR0aDogJzEwMCUnCiAgICAgICAgICAgIAogICAgICAgICAgICB9KTsKCiAgICAgICAgICAgIAogICAgICAgICAgICAgICAgdmFyIGh0bWxfMWJiZWUyOTQ3NWQ2NDJlOTllYWUyMjdjNDAyYTZmMDEgPSAkKGA8ZGl2IGlkPSJodG1sXzFiYmVlMjk0NzVkNjQyZTk5ZWFlMjI3YzQwMmE2ZjAxIiBzdHlsZT0id2lkdGg6IDEwMC4wJTsgaGVpZ2h0OiAxMDAuMCU7Ij5TY2FyYm9yb3VnaDwvZGl2PmApWzBdOwogICAgICAgICAgICAgICAgcG9wdXBfZDViNTA2YTU4MjJjNDk4M2JiNmY3MWQ1M2JlYzczOGIuc2V0Q29udGVudChodG1sXzFiYmVlMjk0NzVkNjQyZTk5ZWFlMjI3YzQwMmE2ZjAxKTsKICAgICAgICAgICAgCgogICAgICAgICAgICBtYXJrZXJfYjk4OTMxMDg0MjA5NGYzYTgxMzc4MjMxODkxYzU5YjIuYmluZFBvcHVwKHBvcHVwX2Q1YjUwNmE1ODIyYzQ5ODNiYjZmNzFkNTNiZWM3MzhiKQogICAgICAgICAgICA7CgogICAgICAgICAgICAKICAgICAgICAKICAgIAogICAgICAgIHZhciBtYXJrZXJfNDlkMDJjOWQ3MmZhNDg0NmIyY2M0YjE4MjE4YTYyYTYgPSBMLm1hcmtlcigKICAgICAgICAgICAgWzQzLjcwOTA2MDQsIC03OS4zNjM0NTE3XSwKICAgICAgICAgICAgewogICAgICAgICAgICAgICAgaWNvbjogbmV3IEwuSWNvbi5EZWZhdWx0KCksCiAgICAgICAgICAgICAgICB9CiAgICAgICAgICAgICkuYWRkVG8oZmVhdHVyZV9ncm91cF82MTM5MmUxYTMzOTI0ODdjYTEwNDA3NTBhMDg5MTNmYSk7CiAgICAgICAgCiAgICAKICAgICAgICAgICAgdmFyIHBvcHVwX2IyMDU3NjA4ZWU4ZDQ2MmZhNWFmZTgwN2RlMzNiMDVlID0gTC5wb3B1cCh7bWF4V2lkdGg6ICcxMDAlJwogICAgICAgICAgICAKICAgICAgICAgICAgfSk7CgogICAgICAgICAgICAKICAgICAgICAgICAgICAgIHZhciBodG1sXzcxNTJkZjZiNmQ3OTQ2ODZhNWVlY2Q0Yzg1ZDQ2ZDFjID0gJChgPGRpdiBpZD0iaHRtbF83MTUyZGY2YjZkNzk0Njg2YTVlZWNkNGM4NWQ0NmQxYyIgc3R5bGU9IndpZHRoOiAxMDAuMCU7IGhlaWdodDogMTAwLjAlOyI+RWFzdCBZb3JrPC9kaXY+YClbMF07CiAgICAgICAgICAgICAgICBwb3B1cF9iMjA1NzYwOGVlOGQ0NjJmYTVhZmU4MDdkZTMzYjA1ZS5zZXRDb250ZW50KGh0bWxfNzE1MmRmNmI2ZDc5NDY4NmE1ZWVjZDRjODVkNDZkMWMpOwogICAgICAgICAgICAKCiAgICAgICAgICAgIG1hcmtlcl80OWQwMmM5ZDcyZmE0ODQ2YjJjYzRiMTgyMThhNjJhNi5iaW5kUG9wdXAocG9wdXBfYjIwNTc2MDhlZThkNDYyZmE1YWZlODA3ZGUzM2IwNWUpCiAgICAgICAgICAgIDsKCiAgICAgICAgICAgIAogICAgICAgIAogICAgCiAgICAgICAgdmFyIG1hcmtlcl8yYzc3ZTQzYjBmOWE0Y2Y1YTUyNmE4YmRlNTU5ZmExMiA9IEwubWFya2VyKAogICAgICAgICAgICBbNDMuNjU3OTUyNCwgLTc5LjM4NzM4MjZdLAogICAgICAgICAgICB7CiAgICAgICAgICAgICAgICBpY29uOiBuZXcgTC5JY29uLkRlZmF1bHQoKSwKICAgICAgICAgICAgICAgIH0KICAgICAgICAgICAgKS5hZGRUbyhmZWF0dXJlX2dyb3VwXzYxMzkyZTFhMzM5MjQ4N2NhMTA0MDc1MGEwODkxM2ZhKTsKICAgICAgICAKICAgIAogICAgICAgICAgICB2YXIgcG9wdXBfNTAxOWI3MWQyMzkzNDQ0ZWFkYTZiNzcwNDA1M2JmNjAgPSBMLnBvcHVwKHttYXhXaWR0aDogJzEwMCUnCiAgICAgICAgICAgIAogICAgICAgICAgICB9KTsKCiAgICAgICAgICAgIAogICAgICAgICAgICAgICAgdmFyIGh0bWxfOThiNGI0MjYyZTdhNDMzZmExNDY4ODkxZTk1NjBlNGYgPSAkKGA8ZGl2IGlkPSJodG1sXzk4YjRiNDI2MmU3YTQzM2ZhMTQ2ODg5MWU5NTYwZTRmIiBzdHlsZT0id2lkdGg6IDEwMC4wJTsgaGVpZ2h0OiAxMDAuMCU7Ij5Eb3dudG93biBUb3JvbnRvPC9kaXY+YClbMF07CiAgICAgICAgICAgICAgICBwb3B1cF81MDE5YjcxZDIzOTM0NDRlYWRhNmI3NzA0MDUzYmY2MC5zZXRDb250ZW50KGh0bWxfOThiNGI0MjYyZTdhNDMzZmExNDY4ODkxZTk1NjBlNGYpOwogICAgICAgICAgICAKCiAgICAgICAgICAgIG1hcmtlcl8yYzc3ZTQzYjBmOWE0Y2Y1YTUyNmE4YmRlNTU5ZmExMi5iaW5kUG9wdXAocG9wdXBfNTAxOWI3MWQyMzkzNDQ0ZWFkYTZiNzcwNDA1M2JmNjApCiAgICAgICAgICAgIDsKCiAgICAgICAgICAgIAogICAgICAgIAogICAgCiAgICAgICAgdmFyIG1hcmtlcl9hYzk5MjA4ZjQ3NDQ0NGFlYjA2MDY5ZGFiNTU0NTZhZSA9IEwubWFya2VyKAogICAgICAgICAgICBbNDMuNjY5NTQyLCAtNzkuNDIyNTYzN10sCiAgICAgICAgICAgIHsKICAgICAgICAgICAgICAgIGljb246IG5ldyBMLkljb24uRGVmYXVsdCgpLAogICAgICAgICAgICAgICAgfQogICAgICAgICAgICApLmFkZFRvKGZlYXR1cmVfZ3JvdXBfNjEzOTJlMWEzMzkyNDg3Y2ExMDQwNzUwYTA4OTEzZmEpOwogICAgICAgIAogICAgCiAgICAgICAgICAgIHZhciBwb3B1cF9hYTg1NDE5YmViNGM0NWRiOWY0OGNkYmY5ZmQ1YjhiNCA9IEwucG9wdXAoe21heFdpZHRoOiAnMTAwJScKICAgICAgICAgICAgCiAgICAgICAgICAgIH0pOwoKICAgICAgICAgICAgCiAgICAgICAgICAgICAgICB2YXIgaHRtbF85MzkyMDdjZDRkMjE0ZjBlYThiNmU5MTQ0Y2YwZjcyYiA9ICQoYDxkaXYgaWQ9Imh0bWxfOTM5MjA3Y2Q0ZDIxNGYwZWE4YjZlOTE0NGNmMGY3MmIiIHN0eWxlPSJ3aWR0aDogMTAwLjAlOyBoZWlnaHQ6IDEwMC4wJTsiPkRvd250b3duIFRvcm9udG88L2Rpdj5gKVswXTsKICAgICAgICAgICAgICAgIHBvcHVwX2FhODU0MTliZWI0YzQ1ZGI5ZjQ4Y2RiZjlmZDViOGI0LnNldENvbnRlbnQoaHRtbF85MzkyMDdjZDRkMjE0ZjBlYThiNmU5MTQ0Y2YwZjcyYik7CiAgICAgICAgICAgIAoKICAgICAgICAgICAgbWFya2VyX2FjOTkyMDhmNDc0NDQ0YWViMDYwNjlkYWI1NTQ1NmFlLmJpbmRQb3B1cChwb3B1cF9hYTg1NDE5YmViNGM0NWRiOWY0OGNkYmY5ZmQ1YjhiNCkKICAgICAgICAgICAgOwoKICAgICAgICAgICAgCiAgICAgICAgCiAgICAKICAgICAgICB2YXIgbWFya2VyXzY5YjBiNTJjZmFlZjQ3NzRiNzc4MjhlZGI3MzM5MWM5ID0gTC5tYXJrZXIoCiAgICAgICAgICAgIFs0My43NzMxMzYsIC03OS4yMzk0NzYwOTk5OTk5OV0sCiAgICAgICAgICAgIHsKICAgICAgICAgICAgICAgIGljb246IG5ldyBMLkljb24uRGVmYXVsdCgpLAogICAgICAgICAgICAgICAgfQogICAgICAgICAgICApLmFkZFRvKGZlYXR1cmVfZ3JvdXBfNjEzOTJlMWEzMzkyNDg3Y2ExMDQwNzUwYTA4OTEzZmEpOwogICAgICAgIAogICAgCiAgICAgICAgICAgIHZhciBwb3B1cF81NTRiOWZiM2MxZjI0MmI3OTdmOTljYWI3NWYzNTlhYiA9IEwucG9wdXAoe21heFdpZHRoOiAnMTAwJScKICAgICAgICAgICAgCiAgICAgICAgICAgIH0pOwoKICAgICAgICAgICAgCiAgICAgICAgICAgICAgICB2YXIgaHRtbF9jZmY5ODMzOGY0NGU0YWZjYTM1ZDU2YTc1NWMyZWM1NiA9ICQoYDxkaXYgaWQ9Imh0bWxfY2ZmOTgzMzhmNDRlNGFmY2EzNWQ1NmE3NTVjMmVjNTYiIHN0eWxlPSJ3aWR0aDogMTAwLjAlOyBoZWlnaHQ6IDEwMC4wJTsiPlNjYXJib3JvdWdoPC9kaXY+YClbMF07CiAgICAgICAgICAgICAgICBwb3B1cF81NTRiOWZiM2MxZjI0MmI3OTdmOTljYWI3NWYzNTlhYi5zZXRDb250ZW50KGh0bWxfY2ZmOTgzMzhmNDRlNGFmY2EzNWQ1NmE3NTVjMmVjNTYpOwogICAgICAgICAgICAKCiAgICAgICAgICAgIG1hcmtlcl82OWIwYjUyY2ZhZWY0Nzc0Yjc3ODI4ZWRiNzMzOTFjOS5iaW5kUG9wdXAocG9wdXBfNTU0YjlmYjNjMWYyNDJiNzk3Zjk5Y2FiNzVmMzU5YWIpCiAgICAgICAgICAgIDsKCiAgICAgICAgICAgIAogICAgICAgIAogICAgCiAgICAgICAgdmFyIG1hcmtlcl81ODg0MTc1OWExNGY0Yzg3OWJkZjgyZjk3NDY4MTJjMCA9IEwubWFya2VyKAogICAgICAgICAgICBbNDMuODAzNzYyMiwgLTc5LjM2MzQ1MTddLAogICAgICAgICAgICB7CiAgICAgICAgICAgICAgICBpY29uOiBuZXcgTC5JY29uLkRlZmF1bHQoKSwKICAgICAgICAgICAgICAgIH0KICAgICAgICAgICAgKS5hZGRUbyhmZWF0dXJlX2dyb3VwXzYxMzkyZTFhMzM5MjQ4N2NhMTA0MDc1MGEwODkxM2ZhKTsKICAgICAgICAKICAgIAogICAgICAgICAgICB2YXIgcG9wdXBfY2MxZTViYTY2MDRjNGIwY2I4NjliOGZiZDM1ZWVkOTAgPSBMLnBvcHVwKHttYXhXaWR0aDogJzEwMCUnCiAgICAgICAgICAgIAogICAgICAgICAgICB9KTsKCiAgICAgICAgICAgIAogICAgICAgICAgICAgICAgdmFyIGh0bWxfMTM2MzYwOWYxNTdlNDE1Zjg2ZDNhNGZiMzY1ZTVmOWUgPSAkKGA8ZGl2IGlkPSJodG1sXzEzNjM2MDlmMTU3ZTQxNWY4NmQzYTRmYjM2NWU1ZjllIiBzdHlsZT0id2lkdGg6IDEwMC4wJTsgaGVpZ2h0OiAxMDAuMCU7Ij5Ob3J0aCBZb3JrPC9kaXY+YClbMF07CiAgICAgICAgICAgICAgICBwb3B1cF9jYzFlNWJhNjYwNGM0YjBjYjg2OWI4ZmJkMzVlZWQ5MC5zZXRDb250ZW50KGh0bWxfMTM2MzYwOWYxNTdlNDE1Zjg2ZDNhNGZiMzY1ZTVmOWUpOwogICAgICAgICAgICAKCiAgICAgICAgICAgIG1hcmtlcl81ODg0MTc1OWExNGY0Yzg3OWJkZjgyZjk3NDY4MTJjMC5iaW5kUG9wdXAocG9wdXBfY2MxZTViYTY2MDRjNGIwY2I4NjliOGZiZDM1ZWVkOTApCiAgICAgICAgICAgIDsKCiAgICAgICAgICAgIAogICAgICAgIAogICAgCiAgICAgICAgdmFyIG1hcmtlcl9kZGI5MTVkMGU2Mjk0ODM5ODhiZmIwMDlmMjFjMGEzNCA9IEwubWFya2VyKAogICAgICAgICAgICBbNDMuNzU0MzI4MywgLTc5LjQ0MjI1OTNdLAogICAgICAgICAgICB7CiAgICAgICAgICAgICAgICBpY29uOiBuZXcgTC5JY29uLkRlZmF1bHQoKSwKICAgICAgICAgICAgICAgIH0KICAgICAgICAgICAgKS5hZGRUbyhmZWF0dXJlX2dyb3VwXzYxMzkyZTFhMzM5MjQ4N2NhMTA0MDc1MGEwODkxM2ZhKTsKICAgICAgICAKICAgIAogICAgICAgICAgICB2YXIgcG9wdXBfMGFiMDVlZmQ1YzYzNDMwOGExOWE4YTAyMmE5YjhkZDkgPSBMLnBvcHVwKHttYXhXaWR0aDogJzEwMCUnCiAgICAgICAgICAgIAogICAgICAgICAgICB9KTsKCiAgICAgICAgICAgIAogICAgICAgICAgICAgICAgdmFyIGh0bWxfMTkyMWRiOWJhNzFmNDQ4YmI2YjJlYmFkMWE5ZTkxNGUgPSAkKGA8ZGl2IGlkPSJodG1sXzE5MjFkYjliYTcxZjQ0OGJiNmIyZWJhZDFhOWU5MTRlIiBzdHlsZT0id2lkdGg6IDEwMC4wJTsgaGVpZ2h0OiAxMDAuMCU7Ij5Ob3J0aCBZb3JrPC9kaXY+YClbMF07CiAgICAgICAgICAgICAgICBwb3B1cF8wYWIwNWVmZDVjNjM0MzA4YTE5YThhMDIyYTliOGRkOS5zZXRDb250ZW50KGh0bWxfMTkyMWRiOWJhNzFmNDQ4YmI2YjJlYmFkMWE5ZTkxNGUpOwogICAgICAgICAgICAKCiAgICAgICAgICAgIG1hcmtlcl9kZGI5MTVkMGU2Mjk0ODM5ODhiZmIwMDlmMjFjMGEzNC5iaW5kUG9wdXAocG9wdXBfMGFiMDVlZmQ1YzYzNDMwOGExOWE4YTAyMmE5YjhkZDkpCiAgICAgICAgICAgIDsKCiAgICAgICAgICAgIAogICAgICAgIAogICAgCiAgICAgICAgdmFyIG1hcmtlcl81NjRiY2MwNDVlNjE0MjQ1OWUzYzI0YmY2NWFiZjMzMyA9IEwubWFya2VyKAogICAgICAgICAgICBbNDMuNzA1MzY4OSwgLTc5LjM0OTM3MTkwMDAwMDAxXSwKICAgICAgICAgICAgewogICAgICAgICAgICAgICAgaWNvbjogbmV3IEwuSWNvbi5EZWZhdWx0KCksCiAgICAgICAgICAgICAgICB9CiAgICAgICAgICAgICkuYWRkVG8oZmVhdHVyZV9ncm91cF82MTM5MmUxYTMzOTI0ODdjYTEwNDA3NTBhMDg5MTNmYSk7CiAgICAgICAgCiAgICAKICAgICAgICAgICAgdmFyIHBvcHVwXzUyNzY1MjVjZjE3NTQ1MGJhM2U4ZGZiMmI0YWE4M2U0ID0gTC5wb3B1cCh7bWF4V2lkdGg6ICcxMDAlJwogICAgICAgICAgICAKICAgICAgICAgICAgfSk7CgogICAgICAgICAgICAKICAgICAgICAgICAgICAgIHZhciBodG1sXzJiMmFkZGI2ZmNmMDQ0M2ViMDRmODZmNzA3MjEzZmU5ID0gJChgPGRpdiBpZD0iaHRtbF8yYjJhZGRiNmZjZjA0NDNlYjA0Zjg2ZjcwNzIxM2ZlOSIgc3R5bGU9IndpZHRoOiAxMDAuMCU7IGhlaWdodDogMTAwLjAlOyI+RWFzdCBZb3JrPC9kaXY+YClbMF07CiAgICAgICAgICAgICAgICBwb3B1cF81Mjc2NTI1Y2YxNzU0NTBiYTNlOGRmYjJiNGFhODNlNC5zZXRDb250ZW50KGh0bWxfMmIyYWRkYjZmY2YwNDQzZWIwNGY4NmY3MDcyMTNmZTkpOwogICAgICAgICAgICAKCiAgICAgICAgICAgIG1hcmtlcl81NjRiY2MwNDVlNjE0MjQ1OWUzYzI0YmY2NWFiZjMzMy5iaW5kUG9wdXAocG9wdXBfNTI3NjUyNWNmMTc1NDUwYmEzZThkZmIyYjRhYTgzZTQpCiAgICAgICAgICAgIDsKCiAgICAgICAgICAgIAogICAgICAgIAogICAgCiAgICAgICAgdmFyIG1hcmtlcl8wOWUzY2VjNWRkMDA0ZDgzOGE3YWFiMDZjMjNmNjFkYyA9IEwubWFya2VyKAogICAgICAgICAgICBbNDMuNjUwNTcxMjAwMDAwMDEsIC03OS4zODQ1Njc1XSwKICAgICAgICAgICAgewogICAgICAgICAgICAgICAgaWNvbjogbmV3IEwuSWNvbi5EZWZhdWx0KCksCiAgICAgICAgICAgICAgICB9CiAgICAgICAgICAgICkuYWRkVG8oZmVhdHVyZV9ncm91cF82MTM5MmUxYTMzOTI0ODdjYTEwNDA3NTBhMDg5MTNmYSk7CiAgICAgICAgCiAgICAKICAgICAgICAgICAgdmFyIHBvcHVwXzY4Yjc1NzVlYjU0NDQ2ODY4YmM0N2Q4MjE2YmE1YTUyID0gTC5wb3B1cCh7bWF4V2lkdGg6ICcxMDAlJwogICAgICAgICAgICAKICAgICAgICAgICAgfSk7CgogICAgICAgICAgICAKICAgICAgICAgICAgICAgIHZhciBodG1sX2YzYTBiNmVkMDMyYzQ1MmFhYjI1ZTU1MThhMjZkNTA3ID0gJChgPGRpdiBpZD0iaHRtbF9mM2EwYjZlZDAzMmM0NTJhYWIyNWU1NTE4YTI2ZDUwNyIgc3R5bGU9IndpZHRoOiAxMDAuMCU7IGhlaWdodDogMTAwLjAlOyI+RG93bnRvd24gVG9yb250bzwvZGl2PmApWzBdOwogICAgICAgICAgICAgICAgcG9wdXBfNjhiNzU3NWViNTQ0NDY4NjhiYzQ3ZDgyMTZiYTVhNTIuc2V0Q29udGVudChodG1sX2YzYTBiNmVkMDMyYzQ1MmFhYjI1ZTU1MThhMjZkNTA3KTsKICAgICAgICAgICAgCgogICAgICAgICAgICBtYXJrZXJfMDllM2NlYzVkZDAwNGQ4MzhhN2FhYjA2YzIzZjYxZGMuYmluZFBvcHVwKHBvcHVwXzY4Yjc1NzVlYjU0NDQ2ODY4YmM0N2Q4MjE2YmE1YTUyKQogICAgICAgICAgICA7CgogICAgICAgICAgICAKICAgICAgICAKICAgIAogICAgICAgIHZhciBtYXJrZXJfODRmMTBhY2M3NTUwNGMwYWEzMTE2NWNiYmJjZGY4ZWYgPSBMLm1hcmtlcigKICAgICAgICAgICAgWzQzLjY2OTAwNTEwMDAwMDAxLCAtNzkuNDQyMjU5M10sCiAgICAgICAgICAgIHsKICAgICAgICAgICAgICAgIGljb246IG5ldyBMLkljb24uRGVmYXVsdCgpLAogICAgICAgICAgICAgICAgfQogICAgICAgICAgICApLmFkZFRvKGZlYXR1cmVfZ3JvdXBfNjEzOTJlMWEzMzkyNDg3Y2ExMDQwNzUwYTA4OTEzZmEpOwogICAgICAgIAogICAgCiAgICAgICAgICAgIHZhciBwb3B1cF81YjkyY2NkOTFkM2Q0MjQzYmEzNDI2MWM0Mjg1MjM0ZCA9IEwucG9wdXAoe21heFdpZHRoOiAnMTAwJScKICAgICAgICAgICAgCiAgICAgICAgICAgIH0pOwoKICAgICAgICAgICAgCiAgICAgICAgICAgICAgICB2YXIgaHRtbF8wNTAyYjQwMjgwODA0YTkyYjhmYzk5YWM5MzMwNDUyYSA9ICQoYDxkaXYgaWQ9Imh0bWxfMDUwMmI0MDI4MDgwNGE5MmI4ZmM5OWFjOTMzMDQ1MmEiIHN0eWxlPSJ3aWR0aDogMTAwLjAlOyBoZWlnaHQ6IDEwMC4wJTsiPldlc3QgVG9yb250bzwvZGl2PmApWzBdOwogICAgICAgICAgICAgICAgcG9wdXBfNWI5MmNjZDkxZDNkNDI0M2JhMzQyNjFjNDI4NTIzNGQuc2V0Q29udGVudChodG1sXzA1MDJiNDAyODA4MDRhOTJiOGZjOTlhYzkzMzA0NTJhKTsKICAgICAgICAgICAgCgogICAgICAgICAgICBtYXJrZXJfODRmMTBhY2M3NTUwNGMwYWEzMTE2NWNiYmJjZGY4ZWYuYmluZFBvcHVwKHBvcHVwXzViOTJjY2Q5MWQzZDQyNDNiYTM0MjYxYzQyODUyMzRkKQogICAgICAgICAgICA7CgogICAgICAgICAgICAKICAgICAgICAKICAgIAogICAgICAgIHZhciBtYXJrZXJfYjVjMGRmNGI2MWQyNDI1NGJiNjRlMzFkODNmZDE3OTcgPSBMLm1hcmtlcigKICAgICAgICAgICAgWzQzLjc0NDczNDIsIC03OS4yMzk0NzYwOTk5OTk5OV0sCiAgICAgICAgICAgIHsKICAgICAgICAgICAgICAgIGljb246IG5ldyBMLkljb24uRGVmYXVsdCgpLAogICAgICAgICAgICAgICAgfQogICAgICAgICAgICApLmFkZFRvKGZlYXR1cmVfZ3JvdXBfNjEzOTJlMWEzMzkyNDg3Y2ExMDQwNzUwYTA4OTEzZmEpOwogICAgICAgIAogICAgCiAgICAgICAgICAgIHZhciBwb3B1cF9hOGM2YmQyM2JlNjg0NjQ4OTNmMWNjMmViYzliNWExMSA9IEwucG9wdXAoe21heFdpZHRoOiAnMTAwJScKICAgICAgICAgICAgCiAgICAgICAgICAgIH0pOwoKICAgICAgICAgICAgCiAgICAgICAgICAgICAgICB2YXIgaHRtbF9mODI5MTNjN2RiZGY0NTU4OTY1NmY5MmVlZmI5NmQyYSA9ICQoYDxkaXYgaWQ9Imh0bWxfZjgyOTEzYzdkYmRmNDU1ODk2NTZmOTJlZWZiOTZkMmEiIHN0eWxlPSJ3aWR0aDogMTAwLjAlOyBoZWlnaHQ6IDEwMC4wJTsiPlNjYXJib3JvdWdoPC9kaXY+YClbMF07CiAgICAgICAgICAgICAgICBwb3B1cF9hOGM2YmQyM2JlNjg0NjQ4OTNmMWNjMmViYzliNWExMS5zZXRDb250ZW50KGh0bWxfZjgyOTEzYzdkYmRmNDU1ODk2NTZmOTJlZWZiOTZkMmEpOwogICAgICAgICAgICAKCiAgICAgICAgICAgIG1hcmtlcl9iNWMwZGY0YjYxZDI0MjU0YmI2NGUzMWQ4M2ZkMTc5Ny5iaW5kUG9wdXAocG9wdXBfYThjNmJkMjNiZTY4NDY0ODkzZjFjYzJlYmM5YjVhMTEpCiAgICAgICAgICAgIDsKCiAgICAgICAgICAgIAogICAgICAgIAogICAgCiAgICAgICAgdmFyIG1hcmtlcl9lOWQyMjgyNzAxNzM0Mjk1YThmZjY1YWZlZDc0YjEwNSA9IEwubWFya2VyKAogICAgICAgICAgICBbNDMuNzc4NTE3NSwgLTc5LjM0NjU1NTddLAogICAgICAgICAgICB7CiAgICAgICAgICAgICAgICBpY29uOiBuZXcgTC5JY29uLkRlZmF1bHQoKSwKICAgICAgICAgICAgICAgIH0KICAgICAgICAgICAgKS5hZGRUbyhmZWF0dXJlX2dyb3VwXzYxMzkyZTFhMzM5MjQ4N2NhMTA0MDc1MGEwODkxM2ZhKTsKICAgICAgICAKICAgIAogICAgICAgICAgICB2YXIgcG9wdXBfYjllNDI3ZGJhMDExNGUzNGIyZTAwNzI5YTY4ZmQyMWQgPSBMLnBvcHVwKHttYXhXaWR0aDogJzEwMCUnCiAgICAgICAgICAgIAogICAgICAgICAgICB9KTsKCiAgICAgICAgICAgIAogICAgICAgICAgICAgICAgdmFyIGh0bWxfYWVjN2YwNDBhNjBmNGM5NzlkM2IwYTc1MTM3ZDhlZGQgPSAkKGA8ZGl2IGlkPSJodG1sX2FlYzdmMDQwYTYwZjRjOTc5ZDNiMGE3NTEzN2Q4ZWRkIiBzdHlsZT0id2lkdGg6IDEwMC4wJTsgaGVpZ2h0OiAxMDAuMCU7Ij5Ob3J0aCBZb3JrPC9kaXY+YClbMF07CiAgICAgICAgICAgICAgICBwb3B1cF9iOWU0MjdkYmEwMTE0ZTM0YjJlMDA3MjlhNjhmZDIxZC5zZXRDb250ZW50KGh0bWxfYWVjN2YwNDBhNjBmNGM5NzlkM2IwYTc1MTM3ZDhlZGQpOwogICAgICAgICAgICAKCiAgICAgICAgICAgIG1hcmtlcl9lOWQyMjgyNzAxNzM0Mjk1YThmZjY1YWZlZDc0YjEwNS5iaW5kUG9wdXAocG9wdXBfYjllNDI3ZGJhMDExNGUzNGIyZTAwNzI5YTY4ZmQyMWQpCiAgICAgICAgICAgIDsKCiAgICAgICAgICAgIAogICAgICAgIAogICAgCiAgICAgICAgdmFyIG1hcmtlcl9lZWY0ZmI1OWQ4OTU0ZjNmYmU3OWZkOWJhMDgzYzczZSA9IEwubWFya2VyKAogICAgICAgICAgICBbNDMuNzY3OTgwMywgLTc5LjQ4NzI2MTkwMDAwMDAxXSwKICAgICAgICAgICAgewogICAgICAgICAgICAgICAgaWNvbjogbmV3IEwuSWNvbi5EZWZhdWx0KCksCiAgICAgICAgICAgICAgICB9CiAgICAgICAgICAgICkuYWRkVG8oZmVhdHVyZV9ncm91cF82MTM5MmUxYTMzOTI0ODdjYTEwNDA3NTBhMDg5MTNmYSk7CiAgICAgICAgCiAgICAKICAgICAgICAgICAgdmFyIHBvcHVwXzY0NTVhYmUwYTBjOTQyNDA5NmNiY2FiNmJmMTc2MTYwID0gTC5wb3B1cCh7bWF4V2lkdGg6ICcxMDAlJwogICAgICAgICAgICAKICAgICAgICAgICAgfSk7CgogICAgICAgICAgICAKICAgICAgICAgICAgICAgIHZhciBodG1sXzc3MDBjNGZmZThkZDQzN2FhOTBkN2U1YWQ3ZWFjMTViID0gJChgPGRpdiBpZD0iaHRtbF83NzAwYzRmZmU4ZGQ0MzdhYTkwZDdlNWFkN2VhYzE1YiIgc3R5bGU9IndpZHRoOiAxMDAuMCU7IGhlaWdodDogMTAwLjAlOyI+Tm9ydGggWW9yazwvZGl2PmApWzBdOwogICAgICAgICAgICAgICAgcG9wdXBfNjQ1NWFiZTBhMGM5NDI0MDk2Y2JjYWI2YmYxNzYxNjAuc2V0Q29udGVudChodG1sXzc3MDBjNGZmZThkZDQzN2FhOTBkN2U1YWQ3ZWFjMTViKTsKICAgICAgICAgICAgCgogICAgICAgICAgICBtYXJrZXJfZWVmNGZiNTlkODk1NGYzZmJlNzlmZDliYTA4M2M3M2UuYmluZFBvcHVwKHBvcHVwXzY0NTVhYmUwYTBjOTQyNDA5NmNiY2FiNmJmMTc2MTYwKQogICAgICAgICAgICA7CgogICAgICAgICAgICAKICAgICAgICAKICAgIAogICAgICAgIHZhciBtYXJrZXJfYmMyNjE2YWU0M2UzNDQxZmI2M2ZkOTZhM2ZmYTRmZWUgPSBMLm1hcmtlcigKICAgICAgICAgICAgWzQzLjY4NTM0NywgLTc5LjMzODEwNjVdLAogICAgICAgICAgICB7CiAgICAgICAgICAgICAgICBpY29uOiBuZXcgTC5JY29uLkRlZmF1bHQoKSwKICAgICAgICAgICAgICAgIH0KICAgICAgICAgICAgKS5hZGRUbyhmZWF0dXJlX2dyb3VwXzYxMzkyZTFhMzM5MjQ4N2NhMTA0MDc1MGEwODkxM2ZhKTsKICAgICAgICAKICAgIAogICAgICAgICAgICB2YXIgcG9wdXBfZjRhNWEwYjM1OGI2NDkxYTg3ZWQyYWI0NGQ0ZTQyOWYgPSBMLnBvcHVwKHttYXhXaWR0aDogJzEwMCUnCiAgICAgICAgICAgIAogICAgICAgICAgICB9KTsKCiAgICAgICAgICAgIAogICAgICAgICAgICAgICAgdmFyIGh0bWxfNzBmNDcxMDIyMGQ5NGYyZmFjMDI4MDRjNzMxNTc1YzcgPSAkKGA8ZGl2IGlkPSJodG1sXzcwZjQ3MTAyMjBkOTRmMmZhYzAyODA0YzczMTU3NWM3IiBzdHlsZT0id2lkdGg6IDEwMC4wJTsgaGVpZ2h0OiAxMDAuMCU7Ij5FYXN0IFlvcms8L2Rpdj5gKVswXTsKICAgICAgICAgICAgICAgIHBvcHVwX2Y0YTVhMGIzNThiNjQ5MWE4N2VkMmFiNDRkNGU0MjlmLnNldENvbnRlbnQoaHRtbF83MGY0NzEwMjIwZDk0ZjJmYWMwMjgwNGM3MzE1NzVjNyk7CiAgICAgICAgICAgIAoKICAgICAgICAgICAgbWFya2VyX2JjMjYxNmFlNDNlMzQ0MWZiNjNmZDk2YTNmZmE0ZmVlLmJpbmRQb3B1cChwb3B1cF9mNGE1YTBiMzU4YjY0OTFhODdlZDJhYjQ0ZDRlNDI5ZikKICAgICAgICAgICAgOwoKICAgICAgICAgICAgCiAgICAgICAgCiAgICAKICAgICAgICB2YXIgbWFya2VyX2FiZDE5OWQwMTRlYjRjYzBiMmJmZjA1MTM2NjBiN2IzID0gTC5tYXJrZXIoCiAgICAgICAgICAgIFs0My42NDA4MTU3LCAtNzkuMzgxNzUyMjk5OTk5OTldLAogICAgICAgICAgICB7CiAgICAgICAgICAgICAgICBpY29uOiBuZXcgTC5JY29uLkRlZmF1bHQoKSwKICAgICAgICAgICAgICAgIH0KICAgICAgICAgICAgKS5hZGRUbyhmZWF0dXJlX2dyb3VwXzYxMzkyZTFhMzM5MjQ4N2NhMTA0MDc1MGEwODkxM2ZhKTsKICAgICAgICAKICAgIAogICAgICAgICAgICB2YXIgcG9wdXBfYmNjODdjZjQwYmY3NGUxYTkyNmE2ODcyMzUyMjMzMDMgPSBMLnBvcHVwKHttYXhXaWR0aDogJzEwMCUnCiAgICAgICAgICAgIAogICAgICAgICAgICB9KTsKCiAgICAgICAgICAgIAogICAgICAgICAgICAgICAgdmFyIGh0bWxfZWMxZWFlMzhlNTFiNDc4YWE4YzE2NWY0ODgwYWZlOGIgPSAkKGA8ZGl2IGlkPSJodG1sX2VjMWVhZTM4ZTUxYjQ3OGFhOGMxNjVmNDg4MGFmZThiIiBzdHlsZT0id2lkdGg6IDEwMC4wJTsgaGVpZ2h0OiAxMDAuMCU7Ij5Eb3dudG93biBUb3JvbnRvPC9kaXY+YClbMF07CiAgICAgICAgICAgICAgICBwb3B1cF9iY2M4N2NmNDBiZjc0ZTFhOTI2YTY4NzIzNTIyMzMwMy5zZXRDb250ZW50KGh0bWxfZWMxZWFlMzhlNTFiNDc4YWE4YzE2NWY0ODgwYWZlOGIpOwogICAgICAgICAgICAKCiAgICAgICAgICAgIG1hcmtlcl9hYmQxOTlkMDE0ZWI0Y2MwYjJiZmYwNTEzNjYwYjdiMy5iaW5kUG9wdXAocG9wdXBfYmNjODdjZjQwYmY3NGUxYTkyNmE2ODcyMzUyMjMzMDMpCiAgICAgICAgICAgIDsKCiAgICAgICAgICAgIAogICAgICAgIAogICAgCiAgICAgICAgdmFyIG1hcmtlcl8wM2FmOWY2MzA3ZjM0NGY3YTRjNGU2ZjE2MjBlN2MzMSA9IEwubWFya2VyKAogICAgICAgICAgICBbNDMuNjQ3OTI2NzAwMDAwMDA2LCAtNzkuNDE5NzQ5N10sCiAgICAgICAgICAgIHsKICAgICAgICAgICAgICAgIGljb246IG5ldyBMLkljb24uRGVmYXVsdCgpLAogICAgICAgICAgICAgICAgfQogICAgICAgICAgICApLmFkZFRvKGZlYXR1cmVfZ3JvdXBfNjEzOTJlMWEzMzkyNDg3Y2ExMDQwNzUwYTA4OTEzZmEpOwogICAgICAgIAogICAgCiAgICAgICAgICAgIHZhciBwb3B1cF8zMGYzNDE5ZDc0M2E0MzdmOGViOTZhNGZjODVhNGIxZSA9IEwucG9wdXAoe21heFdpZHRoOiAnMTAwJScKICAgICAgICAgICAgCiAgICAgICAgICAgIH0pOwoKICAgICAgICAgICAgCiAgICAgICAgICAgICAgICB2YXIgaHRtbF8xM2RkM2QyZThiMzk0ODhjYmQ4ZDkxZGZiMTIzZDIwNiA9ICQoYDxkaXYgaWQ9Imh0bWxfMTNkZDNkMmU4YjM5NDg4Y2JkOGQ5MWRmYjEyM2QyMDYiIHN0eWxlPSJ3aWR0aDogMTAwLjAlOyBoZWlnaHQ6IDEwMC4wJTsiPldlc3QgVG9yb250bzwvZGl2PmApWzBdOwogICAgICAgICAgICAgICAgcG9wdXBfMzBmMzQxOWQ3NDNhNDM3ZjhlYjk2YTRmYzg1YTRiMWUuc2V0Q29udGVudChodG1sXzEzZGQzZDJlOGIzOTQ4OGNiZDhkOTFkZmIxMjNkMjA2KTsKICAgICAgICAgICAgCgogICAgICAgICAgICBtYXJrZXJfMDNhZjlmNjMwN2YzNDRmN2E0YzRlNmYxNjIwZTdjMzEuYmluZFBvcHVwKHBvcHVwXzMwZjM0MTlkNzQzYTQzN2Y4ZWI5NmE0ZmM4NWE0YjFlKQogICAgICAgICAgICA7CgogICAgICAgICAgICAKICAgICAgICAKICAgIAogICAgICAgIHZhciBtYXJrZXJfOWRjMWVlN2FjMGNlNGNkY2I3YTk2YjY4NmZmOWIwNmIgPSBMLm1hcmtlcigKICAgICAgICAgICAgWzQzLjcyNzkyOTIsIC03OS4yNjIwMjk0MDAwMDAwMl0sCiAgICAgICAgICAgIHsKICAgICAgICAgICAgICAgIGljb246IG5ldyBMLkljb24uRGVmYXVsdCgpLAogICAgICAgICAgICAgICAgfQogICAgICAgICAgICApLmFkZFRvKGZlYXR1cmVfZ3JvdXBfNjEzOTJlMWEzMzkyNDg3Y2ExMDQwNzUwYTA4OTEzZmEpOwogICAgICAgIAogICAgCiAgICAgICAgICAgIHZhciBwb3B1cF9lMmEwZGM2YzQzODY0OTFlYmZmMTQ1YzIzMWU0ZTJjOCA9IEwucG9wdXAoe21heFdpZHRoOiAnMTAwJScKICAgICAgICAgICAgCiAgICAgICAgICAgIH0pOwoKICAgICAgICAgICAgCiAgICAgICAgICAgICAgICB2YXIgaHRtbF8xM2QyN2QwMzU1NTg0YzIzYmMxMDJlMzRmNTMyYjU5OSA9ICQoYDxkaXYgaWQ9Imh0bWxfMTNkMjdkMDM1NTU4NGMyM2JjMTAyZTM0ZjUzMmI1OTkiIHN0eWxlPSJ3aWR0aDogMTAwLjAlOyBoZWlnaHQ6IDEwMC4wJTsiPlNjYXJib3JvdWdoPC9kaXY+YClbMF07CiAgICAgICAgICAgICAgICBwb3B1cF9lMmEwZGM2YzQzODY0OTFlYmZmMTQ1YzIzMWU0ZTJjOC5zZXRDb250ZW50KGh0bWxfMTNkMjdkMDM1NTU4NGMyM2JjMTAyZTM0ZjUzMmI1OTkpOwogICAgICAgICAgICAKCiAgICAgICAgICAgIG1hcmtlcl85ZGMxZWU3YWMwY2U0Y2RjYjdhOTZiNjg2ZmY5YjA2Yi5iaW5kUG9wdXAocG9wdXBfZTJhMGRjNmM0Mzg2NDkxZWJmZjE0NWMyMzFlNGUyYzgpCiAgICAgICAgICAgIDsKCiAgICAgICAgICAgIAogICAgICAgIAogICAgCiAgICAgICAgdmFyIG1hcmtlcl8zMjQ0MzkxMzQyZGM0MjM2ODA4M2NmYjgxYTU1NDQyZCA9IEwubWFya2VyKAogICAgICAgICAgICBbNDMuNzg2OTQ3MywgLTc5LjM4NTk3NV0sCiAgICAgICAgICAgIHsKICAgICAgICAgICAgICAgIGljb246IG5ldyBMLkljb24uRGVmYXVsdCgpLAogICAgICAgICAgICAgICAgfQogICAgICAgICAgICApLmFkZFRvKGZlYXR1cmVfZ3JvdXBfNjEzOTJlMWEzMzkyNDg3Y2ExMDQwNzUwYTA4OTEzZmEpOwogICAgICAgIAogICAgCiAgICAgICAgICAgIHZhciBwb3B1cF8yZDE4ZWJhZDY2NjQ0YTBjYjJjODdiNzU2NTYyNmI5MSA9IEwucG9wdXAoe21heFdpZHRoOiAnMTAwJScKICAgICAgICAgICAgCiAgICAgICAgICAgIH0pOwoKICAgICAgICAgICAgCiAgICAgICAgICAgICAgICB2YXIgaHRtbF9lZDIxZGVlYzdmMWE0OTg3YWM5MzM1N2UwOGQ4ODk4OCA9ICQoYDxkaXYgaWQ9Imh0bWxfZWQyMWRlZWM3ZjFhNDk4N2FjOTMzNTdlMDhkODg5ODgiIHN0eWxlPSJ3aWR0aDogMTAwLjAlOyBoZWlnaHQ6IDEwMC4wJTsiPk5vcnRoIFlvcms8L2Rpdj5gKVswXTsKICAgICAgICAgICAgICAgIHBvcHVwXzJkMThlYmFkNjY2NDRhMGNiMmM4N2I3NTY1NjI2YjkxLnNldENvbnRlbnQoaHRtbF9lZDIxZGVlYzdmMWE0OTg3YWM5MzM1N2UwOGQ4ODk4OCk7CiAgICAgICAgICAgIAoKICAgICAgICAgICAgbWFya2VyXzMyNDQzOTEzNDJkYzQyMzY4MDgzY2ZiODFhNTU0NDJkLmJpbmRQb3B1cChwb3B1cF8yZDE4ZWJhZDY2NjQ0YTBjYjJjODdiNzU2NTYyNmI5MSkKICAgICAgICAgICAgOwoKICAgICAgICAgICAgCiAgICAgICAgCiAgICAKICAgICAgICB2YXIgbWFya2VyXzM2MTQ4NGQ5MGJlNTRjYjBhZjJjMDJkZDU3ZGM4NzkzID0gTC5tYXJrZXIoCiAgICAgICAgICAgIFs0My43Mzc0NzMyMDAwMDAwMDQsIC03OS40NjQ3NjMyOTk5OTk5OV0sCiAgICAgICAgICAgIHsKICAgICAgICAgICAgICAgIGljb246IG5ldyBMLkljb24uRGVmYXVsdCgpLAogICAgICAgICAgICAgICAgfQogICAgICAgICAgICApLmFkZFRvKGZlYXR1cmVfZ3JvdXBfNjEzOTJlMWEzMzkyNDg3Y2ExMDQwNzUwYTA4OTEzZmEpOwogICAgICAgIAogICAgCiAgICAgICAgICAgIHZhciBwb3B1cF8zMzJkNWUyYTNjZTM0MzNjOGE4OGExZGVkNWMxZTE4OSA9IEwucG9wdXAoe21heFdpZHRoOiAnMTAwJScKICAgICAgICAgICAgCiAgICAgICAgICAgIH0pOwoKICAgICAgICAgICAgCiAgICAgICAgICAgICAgICB2YXIgaHRtbF9kNjlkZjllNmFmOWQ0NzNkOTI3YmQ1MTYyM2YxMzE0MiA9ICQoYDxkaXYgaWQ9Imh0bWxfZDY5ZGY5ZTZhZjlkNDczZDkyN2JkNTE2MjNmMTMxNDIiIHN0eWxlPSJ3aWR0aDogMTAwLjAlOyBoZWlnaHQ6IDEwMC4wJTsiPk5vcnRoIFlvcms8L2Rpdj5gKVswXTsKICAgICAgICAgICAgICAgIHBvcHVwXzMzMmQ1ZTJhM2NlMzQzM2M4YTg4YTFkZWQ1YzFlMTg5LnNldENvbnRlbnQoaHRtbF9kNjlkZjllNmFmOWQ0NzNkOTI3YmQ1MTYyM2YxMzE0Mik7CiAgICAgICAgICAgIAoKICAgICAgICAgICAgbWFya2VyXzM2MTQ4NGQ5MGJlNTRjYjBhZjJjMDJkZDU3ZGM4NzkzLmJpbmRQb3B1cChwb3B1cF8zMzJkNWUyYTNjZTM0MzNjOGE4OGExZGVkNWMxZTE4OSkKICAgICAgICAgICAgOwoKICAgICAgICAgICAgCiAgICAgICAgCiAgICAKICAgICAgICB2YXIgbWFya2VyX2FhOGNmODc4YTEwZTRjNTk4NGVmMzhiMGQ1YjRmODFjID0gTC5tYXJrZXIoCiAgICAgICAgICAgIFs0My42Nzk1NTcxLCAtNzkuMzUyMTg4XSwKICAgICAgICAgICAgewogICAgICAgICAgICAgICAgaWNvbjogbmV3IEwuSWNvbi5EZWZhdWx0KCksCiAgICAgICAgICAgICAgICB9CiAgICAgICAgICAgICkuYWRkVG8oZmVhdHVyZV9ncm91cF82MTM5MmUxYTMzOTI0ODdjYTEwNDA3NTBhMDg5MTNmYSk7CiAgICAgICAgCiAgICAKICAgICAgICAgICAgdmFyIHBvcHVwX2Y0NWEyYjUzYjk5MjQzYWU5OGRjZmQxZWI2ODhmYWFhID0gTC5wb3B1cCh7bWF4V2lkdGg6ICcxMDAlJwogICAgICAgICAgICAKICAgICAgICAgICAgfSk7CgogICAgICAgICAgICAKICAgICAgICAgICAgICAgIHZhciBodG1sX2RlNzdjNTdjZWFkZTQ0YjZiMTJlYWRlNjg0N2MzNTEyID0gJChgPGRpdiBpZD0iaHRtbF9kZTc3YzU3Y2VhZGU0NGI2YjEyZWFkZTY4NDdjMzUxMiIgc3R5bGU9IndpZHRoOiAxMDAuMCU7IGhlaWdodDogMTAwLjAlOyI+RWFzdCBUb3JvbnRvPC9kaXY+YClbMF07CiAgICAgICAgICAgICAgICBwb3B1cF9mNDVhMmI1M2I5OTI0M2FlOThkY2ZkMWViNjg4ZmFhYS5zZXRDb250ZW50KGh0bWxfZGU3N2M1N2NlYWRlNDRiNmIxMmVhZGU2ODQ3YzM1MTIpOwogICAgICAgICAgICAKCiAgICAgICAgICAgIG1hcmtlcl9hYThjZjg3OGExMGU0YzU5ODRlZjM4YjBkNWI0ZjgxYy5iaW5kUG9wdXAocG9wdXBfZjQ1YTJiNTNiOTkyNDNhZTk4ZGNmZDFlYjY4OGZhYWEpCiAgICAgICAgICAgIDsKCiAgICAgICAgICAgIAogICAgICAgIAogICAgCiAgICAgICAgdmFyIG1hcmtlcl80YzBkZDE3NWE4MjA0OGMxYWRhZTU4OTAxYjI2Y2VmNyA9IEwubWFya2VyKAogICAgICAgICAgICBbNDMuNjQ3MTc2OCwgLTc5LjM4MTU3NjQwMDAwMDAxXSwKICAgICAgICAgICAgewogICAgICAgICAgICAgICAgaWNvbjogbmV3IEwuSWNvbi5EZWZhdWx0KCksCiAgICAgICAgICAgICAgICB9CiAgICAgICAgICAgICkuYWRkVG8oZmVhdHVyZV9ncm91cF82MTM5MmUxYTMzOTI0ODdjYTEwNDA3NTBhMDg5MTNmYSk7CiAgICAgICAgCiAgICAKICAgICAgICAgICAgdmFyIHBvcHVwXzM1NjExYjBkYzIyZTQ5ZmY5YjM2MTQxODc4ZWIyNWFhID0gTC5wb3B1cCh7bWF4V2lkdGg6ICcxMDAlJwogICAgICAgICAgICAKICAgICAgICAgICAgfSk7CgogICAgICAgICAgICAKICAgICAgICAgICAgICAgIHZhciBodG1sX2IxMDBlOTdlZTc1YzRjMWE4YjA1NjBhOGMwZjQxNzdlID0gJChgPGRpdiBpZD0iaHRtbF9iMTAwZTk3ZWU3NWM0YzFhOGIwNTYwYThjMGY0MTc3ZSIgc3R5bGU9IndpZHRoOiAxMDAuMCU7IGhlaWdodDogMTAwLjAlOyI+RG93bnRvd24gVG9yb250bzwvZGl2PmApWzBdOwogICAgICAgICAgICAgICAgcG9wdXBfMzU2MTFiMGRjMjJlNDlmZjliMzYxNDE4NzhlYjI1YWEuc2V0Q29udGVudChodG1sX2IxMDBlOTdlZTc1YzRjMWE4YjA1NjBhOGMwZjQxNzdlKTsKICAgICAgICAgICAgCgogICAgICAgICAgICBtYXJrZXJfNGMwZGQxNzVhODIwNDhjMWFkYWU1ODkwMWIyNmNlZjcuYmluZFBvcHVwKHBvcHVwXzM1NjExYjBkYzIyZTQ5ZmY5YjM2MTQxODc4ZWIyNWFhKQogICAgICAgICAgICA7CgogICAgICAgICAgICAKICAgICAgICAKICAgIAogICAgICAgIHZhciBtYXJrZXJfMDM4OWMxYjRhOWYxNGZiZjhhMWE2MGFmZmE5YjFmNjMgPSBMLm1hcmtlcigKICAgICAgICAgICAgWzQzLjYzNjg0NzIsIC03OS40MjgxOTE0MDAwMDAwMl0sCiAgICAgICAgICAgIHsKICAgICAgICAgICAgICAgIGljb246IG5ldyBMLkljb24uRGVmYXVsdCgpLAogICAgICAgICAgICAgICAgfQogICAgICAgICAgICApLmFkZFRvKGZlYXR1cmVfZ3JvdXBfNjEzOTJlMWEzMzkyNDg3Y2ExMDQwNzUwYTA4OTEzZmEpOwogICAgICAgIAogICAgCiAgICAgICAgICAgIHZhciBwb3B1cF9hYjRiYjAwZWU2NmU0NDQ1OGM4ZmU1M2M4NTRiODNiZSA9IEwucG9wdXAoe21heFdpZHRoOiAnMTAwJScKICAgICAgICAgICAgCiAgICAgICAgICAgIH0pOwoKICAgICAgICAgICAgCiAgICAgICAgICAgICAgICB2YXIgaHRtbF84NGJmZTgyMDk2NDA0ZTQxOWZkMGJkYzYxZTJmMGU0NCA9ICQoYDxkaXYgaWQ9Imh0bWxfODRiZmU4MjA5NjQwNGU0MTlmZDBiZGM2MWUyZjBlNDQiIHN0eWxlPSJ3aWR0aDogMTAwLjAlOyBoZWlnaHQ6IDEwMC4wJTsiPldlc3QgVG9yb250bzwvZGl2PmApWzBdOwogICAgICAgICAgICAgICAgcG9wdXBfYWI0YmIwMGVlNjZlNDQ0NThjOGZlNTNjODU0YjgzYmUuc2V0Q29udGVudChodG1sXzg0YmZlODIwOTY0MDRlNDE5ZmQwYmRjNjFlMmYwZTQ0KTsKICAgICAgICAgICAgCgogICAgICAgICAgICBtYXJrZXJfMDM4OWMxYjRhOWYxNGZiZjhhMWE2MGFmZmE5YjFmNjMuYmluZFBvcHVwKHBvcHVwX2FiNGJiMDBlZTY2ZTQ0NDU4YzhmZTUzYzg1NGI4M2JlKQogICAgICAgICAgICA7CgogICAgICAgICAgICAKICAgICAgICAKICAgIAogICAgICAgIHZhciBtYXJrZXJfMGU4MmVlN2NjMmI2NDRhZGE1MzE5OTkxNjA2ZjM3MmEgPSBMLm1hcmtlcigKICAgICAgICAgICAgWzQzLjcxMTExMTcwMDAwMDAwNCwgLTc5LjI4NDU3NzJdLAogICAgICAgICAgICB7CiAgICAgICAgICAgICAgICBpY29uOiBuZXcgTC5JY29uLkRlZmF1bHQoKSwKICAgICAgICAgICAgICAgIH0KICAgICAgICAgICAgKS5hZGRUbyhmZWF0dXJlX2dyb3VwXzYxMzkyZTFhMzM5MjQ4N2NhMTA0MDc1MGEwODkxM2ZhKTsKICAgICAgICAKICAgIAogICAgICAgICAgICB2YXIgcG9wdXBfOGU4OTViMzMxYjExNGNkNWFkZmQyZmMzM2NlMzcyMWQgPSBMLnBvcHVwKHttYXhXaWR0aDogJzEwMCUnCiAgICAgICAgICAgIAogICAgICAgICAgICB9KTsKCiAgICAgICAgICAgIAogICAgICAgICAgICAgICAgdmFyIGh0bWxfNTA1YmU3MDk2Njc5NDlkYmExM2JlYmMxNjk1NDE1ODkgPSAkKGA8ZGl2IGlkPSJodG1sXzUwNWJlNzA5NjY3OTQ5ZGJhMTNiZWJjMTY5NTQxNTg5IiBzdHlsZT0id2lkdGg6IDEwMC4wJTsgaGVpZ2h0OiAxMDAuMCU7Ij5TY2FyYm9yb3VnaDwvZGl2PmApWzBdOwogICAgICAgICAgICAgICAgcG9wdXBfOGU4OTViMzMxYjExNGNkNWFkZmQyZmMzM2NlMzcyMWQuc2V0Q29udGVudChodG1sXzUwNWJlNzA5NjY3OTQ5ZGJhMTNiZWJjMTY5NTQxNTg5KTsKICAgICAgICAgICAgCgogICAgICAgICAgICBtYXJrZXJfMGU4MmVlN2NjMmI2NDRhZGE1MzE5OTkxNjA2ZjM3MmEuYmluZFBvcHVwKHBvcHVwXzhlODk1YjMzMWIxMTRjZDVhZGZkMmZjMzNjZTM3MjFkKQogICAgICAgICAgICA7CgogICAgICAgICAgICAKICAgICAgICAKICAgIAogICAgICAgIHZhciBtYXJrZXJfZWU0MjYyOWY1OTQ5NDFhYTk1OTlmNGQ2NDM0NGYzOTIgPSBMLm1hcmtlcigKICAgICAgICAgICAgWzQzLjc1NzQ5MDIsIC03OS4zNzQ3MTQwOTk5OTk5OV0sCiAgICAgICAgICAgIHsKICAgICAgICAgICAgICAgIGljb246IG5ldyBMLkljb24uRGVmYXVsdCgpLAogICAgICAgICAgICAgICAgfQogICAgICAgICAgICApLmFkZFRvKGZlYXR1cmVfZ3JvdXBfNjEzOTJlMWEzMzkyNDg3Y2ExMDQwNzUwYTA4OTEzZmEpOwogICAgICAgIAogICAgCiAgICAgICAgICAgIHZhciBwb3B1cF8xNjdkMDhmZjU4NTY0MGRlODk4MzVhNGJiZWMyNGEyOSA9IEwucG9wdXAoe21heFdpZHRoOiAnMTAwJScKICAgICAgICAgICAgCiAgICAgICAgICAgIH0pOwoKICAgICAgICAgICAgCiAgICAgICAgICAgICAgICB2YXIgaHRtbF8wYTcwZDdiM2M2NjA0NzRjYjNiZjFiODI1NzY3YWEyMSA9ICQoYDxkaXYgaWQ9Imh0bWxfMGE3MGQ3YjNjNjYwNDc0Y2IzYmYxYjgyNTc2N2FhMjEiIHN0eWxlPSJ3aWR0aDogMTAwLjAlOyBoZWlnaHQ6IDEwMC4wJTsiPk5vcnRoIFlvcms8L2Rpdj5gKVswXTsKICAgICAgICAgICAgICAgIHBvcHVwXzE2N2QwOGZmNTg1NjQwZGU4OTgzNWE0YmJlYzI0YTI5LnNldENvbnRlbnQoaHRtbF8wYTcwZDdiM2M2NjA0NzRjYjNiZjFiODI1NzY3YWEyMSk7CiAgICAgICAgICAgIAoKICAgICAgICAgICAgbWFya2VyX2VlNDI2MjlmNTk0OTQxYWE5NTk5ZjRkNjQzNDRmMzkyLmJpbmRQb3B1cChwb3B1cF8xNjdkMDhmZjU4NTY0MGRlODk4MzVhNGJiZWMyNGEyOSkKICAgICAgICAgICAgOwoKICAgICAgICAgICAgCiAgICAgICAgCiAgICAKICAgICAgICB2YXIgbWFya2VyXzI3ZjU2NzI2MjYxYTQ1OTc5YmU4ZjQ2NjkxOTA0YjFjID0gTC5tYXJrZXIoCiAgICAgICAgICAgIFs0My43MzkwMTQ2LCAtNzkuNTA2OTQzNl0sCiAgICAgICAgICAgIHsKICAgICAgICAgICAgICAgIGljb246IG5ldyBMLkljb24uRGVmYXVsdCgpLAogICAgICAgICAgICAgICAgfQogICAgICAgICAgICApLmFkZFRvKGZlYXR1cmVfZ3JvdXBfNjEzOTJlMWEzMzkyNDg3Y2ExMDQwNzUwYTA4OTEzZmEpOwogICAgICAgIAogICAgCiAgICAgICAgICAgIHZhciBwb3B1cF8yNGRmNTcyNjUyMWE0YWYxODRmN2Q1MmMwMmFjNDExZiA9IEwucG9wdXAoe21heFdpZHRoOiAnMTAwJScKICAgICAgICAgICAgCiAgICAgICAgICAgIH0pOwoKICAgICAgICAgICAgCiAgICAgICAgICAgICAgICB2YXIgaHRtbF9hMDE3NjQ3ZmIwOWQ0MDQ5OGZiNTNiOGUwMjRmMjlmYyA9ICQoYDxkaXYgaWQ9Imh0bWxfYTAxNzY0N2ZiMDlkNDA0OThmYjUzYjhlMDI0ZjI5ZmMiIHN0eWxlPSJ3aWR0aDogMTAwLjAlOyBoZWlnaHQ6IDEwMC4wJTsiPk5vcnRoIFlvcms8L2Rpdj5gKVswXTsKICAgICAgICAgICAgICAgIHBvcHVwXzI0ZGY1NzI2NTIxYTRhZjE4NGY3ZDUyYzAyYWM0MTFmLnNldENvbnRlbnQoaHRtbF9hMDE3NjQ3ZmIwOWQ0MDQ5OGZiNTNiOGUwMjRmMjlmYyk7CiAgICAgICAgICAgIAoKICAgICAgICAgICAgbWFya2VyXzI3ZjU2NzI2MjYxYTQ1OTc5YmU4ZjQ2NjkxOTA0YjFjLmJpbmRQb3B1cChwb3B1cF8yNGRmNTcyNjUyMWE0YWYxODRmN2Q1MmMwMmFjNDExZikKICAgICAgICAgICAgOwoKICAgICAgICAgICAgCiAgICAgICAgCiAgICAKICAgICAgICB2YXIgbWFya2VyXzgwZjIwZmY3ZjQxZTQwZWM5MmRjMTRjOTU1NzY3MWRmID0gTC5tYXJrZXIoCiAgICAgICAgICAgIFs0My42Njg5OTg1LCAtNzkuMzE1NTcxNTk5OTk5OThdLAogICAgICAgICAgICB7CiAgICAgICAgICAgICAgICBpY29uOiBuZXcgTC5JY29uLkRlZmF1bHQoKSwKICAgICAgICAgICAgICAgIH0KICAgICAgICAgICAgKS5hZGRUbyhmZWF0dXJlX2dyb3VwXzYxMzkyZTFhMzM5MjQ4N2NhMTA0MDc1MGEwODkxM2ZhKTsKICAgICAgICAKICAgIAogICAgICAgICAgICB2YXIgcG9wdXBfNWFiZDNjNTFiNDdiNGJlZmJmMDUwZjNjMjg4MzhjZDkgPSBMLnBvcHVwKHttYXhXaWR0aDogJzEwMCUnCiAgICAgICAgICAgIAogICAgICAgICAgICB9KTsKCiAgICAgICAgICAgIAogICAgICAgICAgICAgICAgdmFyIGh0bWxfZmJlNTFhMjhmZTY2NDQ0OTlkNDI4MDBkM2I1MDYzZWQgPSAkKGA8ZGl2IGlkPSJodG1sX2ZiZTUxYTI4ZmU2NjQ0NDk5ZDQyODAwZDNiNTA2M2VkIiBzdHlsZT0id2lkdGg6IDEwMC4wJTsgaGVpZ2h0OiAxMDAuMCU7Ij5FYXN0IFRvcm9udG88L2Rpdj5gKVswXTsKICAgICAgICAgICAgICAgIHBvcHVwXzVhYmQzYzUxYjQ3YjRiZWZiZjA1MGYzYzI4ODM4Y2Q5LnNldENvbnRlbnQoaHRtbF9mYmU1MWEyOGZlNjY0NDQ5OWQ0MjgwMGQzYjUwNjNlZCk7CiAgICAgICAgICAgIAoKICAgICAgICAgICAgbWFya2VyXzgwZjIwZmY3ZjQxZTQwZWM5MmRjMTRjOTU1NzY3MWRmLmJpbmRQb3B1cChwb3B1cF81YWJkM2M1MWI0N2I0YmVmYmYwNTBmM2MyODgzOGNkOSkKICAgICAgICAgICAgOwoKICAgICAgICAgICAgCiAgICAgICAgCiAgICAKICAgICAgICB2YXIgbWFya2VyX2FkZGNlNGE4MGY4YzQxYWU4OGQ3MGI3MzFhOWRkZDZkID0gTC5tYXJrZXIoCiAgICAgICAgICAgIFs0My42NDgxOTg1LCAtNzkuMzc5ODE2OTAwMDAwMDFdLAogICAgICAgICAgICB7CiAgICAgICAgICAgICAgICBpY29uOiBuZXcgTC5JY29uLkRlZmF1bHQoKSwKICAgICAgICAgICAgICAgIH0KICAgICAgICAgICAgKS5hZGRUbyhmZWF0dXJlX2dyb3VwXzYxMzkyZTFhMzM5MjQ4N2NhMTA0MDc1MGEwODkxM2ZhKTsKICAgICAgICAKICAgIAogICAgICAgICAgICB2YXIgcG9wdXBfNWY5NWJhYzQ1MWI1NDI4N2E2OTY0MGFiNDg1ZTFjZjAgPSBMLnBvcHVwKHttYXhXaWR0aDogJzEwMCUnCiAgICAgICAgICAgIAogICAgICAgICAgICB9KTsKCiAgICAgICAgICAgIAogICAgICAgICAgICAgICAgdmFyIGh0bWxfN2NkMGJhZjgyMjI0NGU1NjhlNjg2NWUxYTdjZTFkMWMgPSAkKGA8ZGl2IGlkPSJodG1sXzdjZDBiYWY4MjIyNDRlNTY4ZTY4NjVlMWE3Y2UxZDFjIiBzdHlsZT0id2lkdGg6IDEwMC4wJTsgaGVpZ2h0OiAxMDAuMCU7Ij5Eb3dudG93biBUb3JvbnRvPC9kaXY+YClbMF07CiAgICAgICAgICAgICAgICBwb3B1cF81Zjk1YmFjNDUxYjU0Mjg3YTY5NjQwYWI0ODVlMWNmMC5zZXRDb250ZW50KGh0bWxfN2NkMGJhZjgyMjI0NGU1NjhlNjg2NWUxYTdjZTFkMWMpOwogICAgICAgICAgICAKCiAgICAgICAgICAgIG1hcmtlcl9hZGRjZTRhODBmOGM0MWFlODhkNzBiNzMxYTlkZGQ2ZC5iaW5kUG9wdXAocG9wdXBfNWY5NWJhYzQ1MWI1NDI4N2E2OTY0MGFiNDg1ZTFjZjApCiAgICAgICAgICAgIDsKCiAgICAgICAgICAgIAogICAgICAgIAogICAgCiAgICAgICAgdmFyIG1hcmtlcl9jMWI5MTdkYzIxOTY0MWRhYmVjYzc3ZWFkNmYwNjc0OCA9IEwubWFya2VyKAogICAgICAgICAgICBbNDMuNzEzNzU2MjAwMDAwMDA2LCAtNzkuNDkwMDczOF0sCiAgICAgICAgICAgIHsKICAgICAgICAgICAgICAgIGljb246IG5ldyBMLkljb24uRGVmYXVsdCgpLAogICAgICAgICAgICAgICAgfQogICAgICAgICAgICApLmFkZFRvKGZlYXR1cmVfZ3JvdXBfNjEzOTJlMWEzMzkyNDg3Y2ExMDQwNzUwYTA4OTEzZmEpOwogICAgICAgIAogICAgCiAgICAgICAgICAgIHZhciBwb3B1cF9hYmQzZWQ4Njg3MzI0MWE5YTQ3NzIyZmRjMzM0NmNmNCA9IEwucG9wdXAoe21heFdpZHRoOiAnMTAwJScKICAgICAgICAgICAgCiAgICAgICAgICAgIH0pOwoKICAgICAgICAgICAgCiAgICAgICAgICAgICAgICB2YXIgaHRtbF8xZTNlOTA0YTM0OWU0NTU1OGYyMTkxNmYxN2YyNzVhNyA9ICQoYDxkaXYgaWQ9Imh0bWxfMWUzZTkwNGEzNDllNDU1NThmMjE5MTZmMTdmMjc1YTciIHN0eWxlPSJ3aWR0aDogMTAwLjAlOyBoZWlnaHQ6IDEwMC4wJTsiPk5vcnRoIFlvcms8L2Rpdj5gKVswXTsKICAgICAgICAgICAgICAgIHBvcHVwX2FiZDNlZDg2ODczMjQxYTlhNDc3MjJmZGMzMzQ2Y2Y0LnNldENvbnRlbnQoaHRtbF8xZTNlOTA0YTM0OWU0NTU1OGYyMTkxNmYxN2YyNzVhNyk7CiAgICAgICAgICAgIAoKICAgICAgICAgICAgbWFya2VyX2MxYjkxN2RjMjE5NjQxZGFiZWNjNzdlYWQ2ZjA2NzQ4LmJpbmRQb3B1cChwb3B1cF9hYmQzZWQ4Njg3MzI0MWE5YTQ3NzIyZmRjMzM0NmNmNCkKICAgICAgICAgICAgOwoKICAgICAgICAgICAgCiAgICAgICAgCiAgICAKICAgICAgICB2YXIgbWFya2VyXzZjMmFiMDFkMDk5ZDQyM2VhN2YwNmFiZDQ1YmJhOTMxID0gTC5tYXJrZXIoCiAgICAgICAgICAgIFs0My43NTYzMDMzLCAtNzkuNTY1OTYzMjk5OTk5OTldLAogICAgICAgICAgICB7CiAgICAgICAgICAgICAgICBpY29uOiBuZXcgTC5JY29uLkRlZmF1bHQoKSwKICAgICAgICAgICAgICAgIH0KICAgICAgICAgICAgKS5hZGRUbyhmZWF0dXJlX2dyb3VwXzYxMzkyZTFhMzM5MjQ4N2NhMTA0MDc1MGEwODkxM2ZhKTsKICAgICAgICAKICAgIAogICAgICAgICAgICB2YXIgcG9wdXBfNjc0NDlmYTg3MjM4NGFmYjk4YTU1M2VjYmUzNmJhMDUgPSBMLnBvcHVwKHttYXhXaWR0aDogJzEwMCUnCiAgICAgICAgICAgIAogICAgICAgICAgICB9KTsKCiAgICAgICAgICAgIAogICAgICAgICAgICAgICAgdmFyIGh0bWxfYTJkZWJmNzE3ZTY5NDg5YmFmMjE5YmE0MDZhZDk2MjggPSAkKGA8ZGl2IGlkPSJodG1sX2EyZGViZjcxN2U2OTQ4OWJhZjIxOWJhNDA2YWQ5NjI4IiBzdHlsZT0id2lkdGg6IDEwMC4wJTsgaGVpZ2h0OiAxMDAuMCU7Ij5Ob3J0aCBZb3JrPC9kaXY+YClbMF07CiAgICAgICAgICAgICAgICBwb3B1cF82NzQ0OWZhODcyMzg0YWZiOThhNTUzZWNiZTM2YmEwNS5zZXRDb250ZW50KGh0bWxfYTJkZWJmNzE3ZTY5NDg5YmFmMjE5YmE0MDZhZDk2MjgpOwogICAgICAgICAgICAKCiAgICAgICAgICAgIG1hcmtlcl82YzJhYjAxZDA5OWQ0MjNlYTdmMDZhYmQ0NWJiYTkzMS5iaW5kUG9wdXAocG9wdXBfNjc0NDlmYTg3MjM4NGFmYjk4YTU1M2VjYmUzNmJhMDUpCiAgICAgICAgICAgIDsKCiAgICAgICAgICAgIAogICAgICAgIAogICAgCiAgICAgICAgdmFyIG1hcmtlcl8zOWM4MTRjMmQ2MWM0MjcwYjYxYjNiNzMzZTc3MGQxMSA9IEwubWFya2VyKAogICAgICAgICAgICBbNDMuNzE2MzE2LCAtNzkuMjM5NDc2MDk5OTk5OTldLAogICAgICAgICAgICB7CiAgICAgICAgICAgICAgICBpY29uOiBuZXcgTC5JY29uLkRlZmF1bHQoKSwKICAgICAgICAgICAgICAgIH0KICAgICAgICAgICAgKS5hZGRUbyhmZWF0dXJlX2dyb3VwXzYxMzkyZTFhMzM5MjQ4N2NhMTA0MDc1MGEwODkxM2ZhKTsKICAgICAgICAKICAgIAogICAgICAgICAgICB2YXIgcG9wdXBfYWQ4OTczNWJlM2YzNGI1N2JjMjRmNDQ0MjUyNjRhNWQgPSBMLnBvcHVwKHttYXhXaWR0aDogJzEwMCUnCiAgICAgICAgICAgIAogICAgICAgICAgICB9KTsKCiAgICAgICAgICAgIAogICAgICAgICAgICAgICAgdmFyIGh0bWxfMWQwNGM1ZWJmMDI2NGQ1YmJiOGViYjg3YmViZTMxYWEgPSAkKGA8ZGl2IGlkPSJodG1sXzFkMDRjNWViZjAyNjRkNWJiYjhlYmI4N2JlYmUzMWFhIiBzdHlsZT0id2lkdGg6IDEwMC4wJTsgaGVpZ2h0OiAxMDAuMCU7Ij5TY2FyYm9yb3VnaDwvZGl2PmApWzBdOwogICAgICAgICAgICAgICAgcG9wdXBfYWQ4OTczNWJlM2YzNGI1N2JjMjRmNDQ0MjUyNjRhNWQuc2V0Q29udGVudChodG1sXzFkMDRjNWViZjAyNjRkNWJiYjhlYmI4N2JlYmUzMWFhKTsKICAgICAgICAgICAgCgogICAgICAgICAgICBtYXJrZXJfMzljODE0YzJkNjFjNDI3MGI2MWIzYjczM2U3NzBkMTEuYmluZFBvcHVwKHBvcHVwX2FkODk3MzViZTNmMzRiNTdiYzI0ZjQ0NDI1MjY0YTVkKQogICAgICAgICAgICA7CgogICAgICAgICAgICAKICAgICAgICAKICAgIAogICAgICAgIHZhciBtYXJrZXJfMDI2NmI5MWI3YWUwNGYxYThmZTc1NzdmYjYwOTI1MDIgPSBMLm1hcmtlcigKICAgICAgICAgICAgWzQzLjc4OTA1MywgLTc5LjQwODQ5Mjc5OTk5OTk5XSwKICAgICAgICAgICAgewogICAgICAgICAgICAgICAgaWNvbjogbmV3IEwuSWNvbi5EZWZhdWx0KCksCiAgICAgICAgICAgICAgICB9CiAgICAgICAgICAgICkuYWRkVG8oZmVhdHVyZV9ncm91cF82MTM5MmUxYTMzOTI0ODdjYTEwNDA3NTBhMDg5MTNmYSk7CiAgICAgICAgCiAgICAKICAgICAgICAgICAgdmFyIHBvcHVwXzllZTkyM2ZkNjkzNTQ4YWNiMjllMTAzOGJlYjlmMDdkID0gTC5wb3B1cCh7bWF4V2lkdGg6ICcxMDAlJwogICAgICAgICAgICAKICAgICAgICAgICAgfSk7CgogICAgICAgICAgICAKICAgICAgICAgICAgICAgIHZhciBodG1sX2NjNDgyNjYwYmYwZDQ0NTNhMDRmMGMzYTRlN2U5NjkzID0gJChgPGRpdiBpZD0iaHRtbF9jYzQ4MjY2MGJmMGQ0NDUzYTA0ZjBjM2E0ZTdlOTY5MyIgc3R5bGU9IndpZHRoOiAxMDAuMCU7IGhlaWdodDogMTAwLjAlOyI+Tm9ydGggWW9yazwvZGl2PmApWzBdOwogICAgICAgICAgICAgICAgcG9wdXBfOWVlOTIzZmQ2OTM1NDhhY2IyOWUxMDM4YmViOWYwN2Quc2V0Q29udGVudChodG1sX2NjNDgyNjYwYmYwZDQ0NTNhMDRmMGMzYTRlN2U5NjkzKTsKICAgICAgICAgICAgCgogICAgICAgICAgICBtYXJrZXJfMDI2NmI5MWI3YWUwNGYxYThmZTc1NzdmYjYwOTI1MDIuYmluZFBvcHVwKHBvcHVwXzllZTkyM2ZkNjkzNTQ4YWNiMjllMTAzOGJlYjlmMDdkKQogICAgICAgICAgICA7CgogICAgICAgICAgICAKICAgICAgICAKICAgIAogICAgICAgIHZhciBtYXJrZXJfMDI4MzZiZWYwNjU5NGUwZTg0MTlkYmQ1YmI3MDg5YTggPSBMLm1hcmtlcigKICAgICAgICAgICAgWzQzLjcyODQ5NjQsIC03OS40OTU2OTc0MDAwMDAwMV0sCiAgICAgICAgICAgIHsKICAgICAgICAgICAgICAgIGljb246IG5ldyBMLkljb24uRGVmYXVsdCgpLAogICAgICAgICAgICAgICAgfQogICAgICAgICAgICApLmFkZFRvKGZlYXR1cmVfZ3JvdXBfNjEzOTJlMWEzMzkyNDg3Y2ExMDQwNzUwYTA4OTEzZmEpOwogICAgICAgIAogICAgCiAgICAgICAgICAgIHZhciBwb3B1cF8yMjQyY2M3NDcyZTQ0ZTlkOGY5N2ExNmI0YjQwNDhhOCA9IEwucG9wdXAoe21heFdpZHRoOiAnMTAwJScKICAgICAgICAgICAgCiAgICAgICAgICAgIH0pOwoKICAgICAgICAgICAgCiAgICAgICAgICAgICAgICB2YXIgaHRtbF80MTMxNzlhODdhMDU0YzYzYThhYWFjZDk3MGE5ODY4MCA9ICQoYDxkaXYgaWQ9Imh0bWxfNDEzMTc5YTg3YTA1NGM2M2E4YWFhY2Q5NzBhOTg2ODAiIHN0eWxlPSJ3aWR0aDogMTAwLjAlOyBoZWlnaHQ6IDEwMC4wJTsiPk5vcnRoIFlvcms8L2Rpdj5gKVswXTsKICAgICAgICAgICAgICAgIHBvcHVwXzIyNDJjYzc0NzJlNDRlOWQ4Zjk3YTE2YjRiNDA0OGE4LnNldENvbnRlbnQoaHRtbF80MTMxNzlhODdhMDU0YzYzYThhYWFjZDk3MGE5ODY4MCk7CiAgICAgICAgICAgIAoKICAgICAgICAgICAgbWFya2VyXzAyODM2YmVmMDY1OTRlMGU4NDE5ZGJkNWJiNzA4OWE4LmJpbmRQb3B1cChwb3B1cF8yMjQyY2M3NDcyZTQ0ZTlkOGY5N2ExNmI0YjQwNDhhOCkKICAgICAgICAgICAgOwoKICAgICAgICAgICAgCiAgICAgICAgCiAgICAKICAgICAgICB2YXIgbWFya2VyXzcxYjJmZTkyNjI4ODQ4NmU5YTFjNzYwNGFiYzIxOWZjID0gTC5tYXJrZXIoCiAgICAgICAgICAgIFs0My42NTk1MjU1LCAtNzkuMzQwOTIzXSwKICAgICAgICAgICAgewogICAgICAgICAgICAgICAgaWNvbjogbmV3IEwuSWNvbi5EZWZhdWx0KCksCiAgICAgICAgICAgICAgICB9CiAgICAgICAgICAgICkuYWRkVG8oZmVhdHVyZV9ncm91cF82MTM5MmUxYTMzOTI0ODdjYTEwNDA3NTBhMDg5MTNmYSk7CiAgICAgICAgCiAgICAKICAgICAgICAgICAgdmFyIHBvcHVwXzkzYzA0NmU0YTU1YzRmNDRiMDM4M2NlYWE1YzdhNjY5ID0gTC5wb3B1cCh7bWF4V2lkdGg6ICcxMDAlJwogICAgICAgICAgICAKICAgICAgICAgICAgfSk7CgogICAgICAgICAgICAKICAgICAgICAgICAgICAgIHZhciBodG1sXzk4ZjgzNjNmNTcxMjQwNzM4ZWUwNTA1MGZlM2M3M2U0ID0gJChgPGRpdiBpZD0iaHRtbF85OGY4MzYzZjU3MTI0MDczOGVlMDUwNTBmZTNjNzNlNCIgc3R5bGU9IndpZHRoOiAxMDAuMCU7IGhlaWdodDogMTAwLjAlOyI+RWFzdCBUb3JvbnRvPC9kaXY+YClbMF07CiAgICAgICAgICAgICAgICBwb3B1cF85M2MwNDZlNGE1NWM0ZjQ0YjAzODNjZWFhNWM3YTY2OS5zZXRDb250ZW50KGh0bWxfOThmODM2M2Y1NzEyNDA3MzhlZTA1MDUwZmUzYzczZTQpOwogICAgICAgICAgICAKCiAgICAgICAgICAgIG1hcmtlcl83MWIyZmU5MjYyODg0ODZlOWExYzc2MDRhYmMyMTlmYy5iaW5kUG9wdXAocG9wdXBfOTNjMDQ2ZTRhNTVjNGY0NGIwMzgzY2VhYTVjN2E2NjkpCiAgICAgICAgICAgIDsKCiAgICAgICAgICAgIAogICAgICAgIAogICAgCiAgICAgICAgdmFyIG1hcmtlcl8xNDUwZWJkODJjYzQ0YTNlYTY2Njg4MzAzZWUxM2VlYSA9IEwubWFya2VyKAogICAgICAgICAgICBbNDMuNzMzMjgyNSwgLTc5LjQxOTc0OTddLAogICAgICAgICAgICB7CiAgICAgICAgICAgICAgICBpY29uOiBuZXcgTC5JY29uLkRlZmF1bHQoKSwKICAgICAgICAgICAgICAgIH0KICAgICAgICAgICAgKS5hZGRUbyhmZWF0dXJlX2dyb3VwXzYxMzkyZTFhMzM5MjQ4N2NhMTA0MDc1MGEwODkxM2ZhKTsKICAgICAgICAKICAgIAogICAgICAgICAgICB2YXIgcG9wdXBfZDVlMjM2MzhmNDZhNGM4MDk2MzJmMDBiM2NkZmU5MmIgPSBMLnBvcHVwKHttYXhXaWR0aDogJzEwMCUnCiAgICAgICAgICAgIAogICAgICAgICAgICB9KTsKCiAgICAgICAgICAgIAogICAgICAgICAgICAgICAgdmFyIGh0bWxfNDJkZjljYzY3YzQwNDFhZTk1NmZmYTNkYzQ1YWJmYmMgPSAkKGA8ZGl2IGlkPSJodG1sXzQyZGY5Y2M2N2M0MDQxYWU5NTZmZmEzZGM0NWFiZmJjIiBzdHlsZT0id2lkdGg6IDEwMC4wJTsgaGVpZ2h0OiAxMDAuMCU7Ij5Ob3J0aCBZb3JrPC9kaXY+YClbMF07CiAgICAgICAgICAgICAgICBwb3B1cF9kNWUyMzYzOGY0NmE0YzgwOTYzMmYwMGIzY2RmZTkyYi5zZXRDb250ZW50KGh0bWxfNDJkZjljYzY3YzQwNDFhZTk1NmZmYTNkYzQ1YWJmYmMpOwogICAgICAgICAgICAKCiAgICAgICAgICAgIG1hcmtlcl8xNDUwZWJkODJjYzQ0YTNlYTY2Njg4MzAzZWUxM2VlYS5iaW5kUG9wdXAocG9wdXBfZDVlMjM2MzhmNDZhNGM4MDk2MzJmMDBiM2NkZmU5MmIpCiAgICAgICAgICAgIDsKCiAgICAgICAgICAgIAogICAgICAgIAogICAgCiAgICAgICAgdmFyIG1hcmtlcl80Zjc3MzUxMzg3NDk0Y2RkOGEwZDVmYmI4ZTQwMzZiNyA9IEwubWFya2VyKAogICAgICAgICAgICBbNDMuNjkxMTE1OCwgLTc5LjQ3NjAxMzI5OTk5OTk5XSwKICAgICAgICAgICAgewogICAgICAgICAgICAgICAgaWNvbjogbmV3IEwuSWNvbi5EZWZhdWx0KCksCiAgICAgICAgICAgICAgICB9CiAgICAgICAgICAgICkuYWRkVG8oZmVhdHVyZV9ncm91cF82MTM5MmUxYTMzOTI0ODdjYTEwNDA3NTBhMDg5MTNmYSk7CiAgICAgICAgCiAgICAKICAgICAgICAgICAgdmFyIHBvcHVwX2FlNGJjYTJlMjE1NTQzYzg4MjE4ODNjMDU4YjNjYzAyID0gTC5wb3B1cCh7bWF4V2lkdGg6ICcxMDAlJwogICAgICAgICAgICAKICAgICAgICAgICAgfSk7CgogICAgICAgICAgICAKICAgICAgICAgICAgICAgIHZhciBodG1sX2ZjMGM0OTM5MTYwNzQ4ODM5YWY2OWFiZGI4NWY3MWQ3ID0gJChgPGRpdiBpZD0iaHRtbF9mYzBjNDkzOTE2MDc0ODgzOWFmNjlhYmRiODVmNzFkNyIgc3R5bGU9IndpZHRoOiAxMDAuMCU7IGhlaWdodDogMTAwLjAlOyI+WW9yazwvZGl2PmApWzBdOwogICAgICAgICAgICAgICAgcG9wdXBfYWU0YmNhMmUyMTU1NDNjODgyMTg4M2MwNThiM2NjMDIuc2V0Q29udGVudChodG1sX2ZjMGM0OTM5MTYwNzQ4ODM5YWY2OWFiZGI4NWY3MWQ3KTsKICAgICAgICAgICAgCgogICAgICAgICAgICBtYXJrZXJfNGY3NzM1MTM4NzQ5NGNkZDhhMGQ1ZmJiOGU0MDM2YjcuYmluZFBvcHVwKHBvcHVwX2FlNGJjYTJlMjE1NTQzYzg4MjE4ODNjMDU4YjNjYzAyKQogICAgICAgICAgICA7CgogICAgICAgICAgICAKICAgICAgICAKICAgIAogICAgICAgIHZhciBtYXJrZXJfYTJjYmEyNTAzY2I1NGRkNjg3NGY1ZmE1NmY2MDVkYjEgPSBMLm1hcmtlcigKICAgICAgICAgICAgWzQzLjcyNDc2NTksIC03OS41MzIyNDI0MDAwMDAwMl0sCiAgICAgICAgICAgIHsKICAgICAgICAgICAgICAgIGljb246IG5ldyBMLkljb24uRGVmYXVsdCgpLAogICAgICAgICAgICAgICAgfQogICAgICAgICAgICApLmFkZFRvKGZlYXR1cmVfZ3JvdXBfNjEzOTJlMWEzMzkyNDg3Y2ExMDQwNzUwYTA4OTEzZmEpOwogICAgICAgIAogICAgCiAgICAgICAgICAgIHZhciBwb3B1cF83MWFhOWViYmY5YTA0MWExODEzMzBjMzg4MzNkNTNmNCA9IEwucG9wdXAoe21heFdpZHRoOiAnMTAwJScKICAgICAgICAgICAgCiAgICAgICAgICAgIH0pOwoKICAgICAgICAgICAgCiAgICAgICAgICAgICAgICB2YXIgaHRtbF8yZDZkYTE1NDgzNDA0YTMwOTNmZWRiOTBjYjc3OWVmYyA9ICQoYDxkaXYgaWQ9Imh0bWxfMmQ2ZGExNTQ4MzQwNGEzMDkzZmVkYjkwY2I3NzllZmMiIHN0eWxlPSJ3aWR0aDogMTAwLjAlOyBoZWlnaHQ6IDEwMC4wJTsiPk5vcnRoIFlvcms8L2Rpdj5gKVswXTsKICAgICAgICAgICAgICAgIHBvcHVwXzcxYWE5ZWJiZjlhMDQxYTE4MTMzMGMzODgzM2Q1M2Y0LnNldENvbnRlbnQoaHRtbF8yZDZkYTE1NDgzNDA0YTMwOTNmZWRiOTBjYjc3OWVmYyk7CiAgICAgICAgICAgIAoKICAgICAgICAgICAgbWFya2VyX2EyY2JhMjUwM2NiNTRkZDY4NzRmNWZhNTZmNjA1ZGIxLmJpbmRQb3B1cChwb3B1cF83MWFhOWViYmY5YTA0MWExODEzMzBjMzg4MzNkNTNmNCkKICAgICAgICAgICAgOwoKICAgICAgICAgICAgCiAgICAgICAgCiAgICAKICAgICAgICB2YXIgbWFya2VyXzMwNmMzYmQxYjQ4MTQ3ODY5NzQwZmFiNzc1N2RjM2NiID0gTC5tYXJrZXIoCiAgICAgICAgICAgIFs0My42OTI2NTcwMDAwMDAwMDQsIC03OS4yNjQ4NDgxXSwKICAgICAgICAgICAgewogICAgICAgICAgICAgICAgaWNvbjogbmV3IEwuSWNvbi5EZWZhdWx0KCksCiAgICAgICAgICAgICAgICB9CiAgICAgICAgICAgICkuYWRkVG8oZmVhdHVyZV9ncm91cF82MTM5MmUxYTMzOTI0ODdjYTEwNDA3NTBhMDg5MTNmYSk7CiAgICAgICAgCiAgICAKICAgICAgICAgICAgdmFyIHBvcHVwX2NjNWNlYTk5ODgwYzQxNGVhY2Y3NjVlYWE1MTVlODg1ID0gTC5wb3B1cCh7bWF4V2lkdGg6ICcxMDAlJwogICAgICAgICAgICAKICAgICAgICAgICAgfSk7CgogICAgICAgICAgICAKICAgICAgICAgICAgICAgIHZhciBodG1sXzkyNmFkYTE3NDE5MzRlYjFiYzViYzVlODczNjdkYzRhID0gJChgPGRpdiBpZD0iaHRtbF85MjZhZGExNzQxOTM0ZWIxYmM1YmM1ZTg3MzY3ZGM0YSIgc3R5bGU9IndpZHRoOiAxMDAuMCU7IGhlaWdodDogMTAwLjAlOyI+U2NhcmJvcm91Z2g8L2Rpdj5gKVswXTsKICAgICAgICAgICAgICAgIHBvcHVwX2NjNWNlYTk5ODgwYzQxNGVhY2Y3NjVlYWE1MTVlODg1LnNldENvbnRlbnQoaHRtbF85MjZhZGExNzQxOTM0ZWIxYmM1YmM1ZTg3MzY3ZGM0YSk7CiAgICAgICAgICAgIAoKICAgICAgICAgICAgbWFya2VyXzMwNmMzYmQxYjQ4MTQ3ODY5NzQwZmFiNzc1N2RjM2NiLmJpbmRQb3B1cChwb3B1cF9jYzVjZWE5OTg4MGM0MTRlYWNmNzY1ZWFhNTE1ZTg4NSkKICAgICAgICAgICAgOwoKICAgICAgICAgICAgCiAgICAgICAgCiAgICAKICAgICAgICB2YXIgbWFya2VyXzQ2MjM2OGMxNDM2NTRiNWY4ZGIyMTg5YjEwZTU4OWE4ID0gTC5tYXJrZXIoCiAgICAgICAgICAgIFs0My43NzAxMTk5LCAtNzkuNDA4NDkyNzk5OTk5OTldLAogICAgICAgICAgICB7CiAgICAgICAgICAgICAgICBpY29uOiBuZXcgTC5JY29uLkRlZmF1bHQoKSwKICAgICAgICAgICAgICAgIH0KICAgICAgICAgICAgKS5hZGRUbyhmZWF0dXJlX2dyb3VwXzYxMzkyZTFhMzM5MjQ4N2NhMTA0MDc1MGEwODkxM2ZhKTsKICAgICAgICAKICAgIAogICAgICAgICAgICB2YXIgcG9wdXBfMzI4NGRmYWEyNDNmNDk4ZmI1YmU4Y2JiMzY1NTQ3M2UgPSBMLnBvcHVwKHttYXhXaWR0aDogJzEwMCUnCiAgICAgICAgICAgIAogICAgICAgICAgICB9KTsKCiAgICAgICAgICAgIAogICAgICAgICAgICAgICAgdmFyIGh0bWxfNGI4YTY3ZmFmMjI1NDdhN2I3NGFjZGI0NmY0MGE3NTkgPSAkKGA8ZGl2IGlkPSJodG1sXzRiOGE2N2ZhZjIyNTQ3YTdiNzRhY2RiNDZmNDBhNzU5IiBzdHlsZT0id2lkdGg6IDEwMC4wJTsgaGVpZ2h0OiAxMDAuMCU7Ij5Ob3J0aCBZb3JrPC9kaXY+YClbMF07CiAgICAgICAgICAgICAgICBwb3B1cF8zMjg0ZGZhYTI0M2Y0OThmYjViZThjYmIzNjU1NDczZS5zZXRDb250ZW50KGh0bWxfNGI4YTY3ZmFmMjI1NDdhN2I3NGFjZGI0NmY0MGE3NTkpOwogICAgICAgICAgICAKCiAgICAgICAgICAgIG1hcmtlcl80NjIzNjhjMTQzNjU0YjVmOGRiMjE4OWIxMGU1ODlhOC5iaW5kUG9wdXAocG9wdXBfMzI4NGRmYWEyNDNmNDk4ZmI1YmU4Y2JiMzY1NTQ3M2UpCiAgICAgICAgICAgIDsKCiAgICAgICAgICAgIAogICAgICAgIAogICAgCiAgICAgICAgdmFyIG1hcmtlcl85ZDc0MTZmMTRmZjc0ZWE4OTMyOGMwNjAzYWFjNTk3OSA9IEwubWFya2VyKAogICAgICAgICAgICBbNDMuNzYxNjMxMywgLTc5LjUyMDk5OTQwMDAwMDAxXSwKICAgICAgICAgICAgewogICAgICAgICAgICAgICAgaWNvbjogbmV3IEwuSWNvbi5EZWZhdWx0KCksCiAgICAgICAgICAgICAgICB9CiAgICAgICAgICAgICkuYWRkVG8oZmVhdHVyZV9ncm91cF82MTM5MmUxYTMzOTI0ODdjYTEwNDA3NTBhMDg5MTNmYSk7CiAgICAgICAgCiAgICAKICAgICAgICAgICAgdmFyIHBvcHVwXzc0OTg0OWFhN2RkMTQwOTFhNjlhMjNmMjFmYzNkNTdjID0gTC5wb3B1cCh7bWF4V2lkdGg6ICcxMDAlJwogICAgICAgICAgICAKICAgICAgICAgICAgfSk7CgogICAgICAgICAgICAKICAgICAgICAgICAgICAgIHZhciBodG1sXzE4MDdhZDZhNjk0NzRiYjU4NjlhZjA0MTYyYjQ5NjRiID0gJChgPGRpdiBpZD0iaHRtbF8xODA3YWQ2YTY5NDc0YmI1ODY5YWYwNDE2MmI0OTY0YiIgc3R5bGU9IndpZHRoOiAxMDAuMCU7IGhlaWdodDogMTAwLjAlOyI+Tm9ydGggWW9yazwvZGl2PmApWzBdOwogICAgICAgICAgICAgICAgcG9wdXBfNzQ5ODQ5YWE3ZGQxNDA5MWE2OWEyM2YyMWZjM2Q1N2Muc2V0Q29udGVudChodG1sXzE4MDdhZDZhNjk0NzRiYjU4NjlhZjA0MTYyYjQ5NjRiKTsKICAgICAgICAgICAgCgogICAgICAgICAgICBtYXJrZXJfOWQ3NDE2ZjE0ZmY3NGVhODkzMjhjMDYwM2FhYzU5NzkuYmluZFBvcHVwKHBvcHVwXzc0OTg0OWFhN2RkMTQwOTFhNjlhMjNmMjFmYzNkNTdjKQogICAgICAgICAgICA7CgogICAgICAgICAgICAKICAgICAgICAKICAgIAogICAgICAgIHZhciBtYXJrZXJfMjIyMWU4YzgzYWM4NDBmMTllOTY1MDE3MWFjM2JhMzEgPSBMLm1hcmtlcigKICAgICAgICAgICAgWzQzLjcyODAyMDUsIC03OS4zODg3OTAxXSwKICAgICAgICAgICAgewogICAgICAgICAgICAgICAgaWNvbjogbmV3IEwuSWNvbi5EZWZhdWx0KCksCiAgICAgICAgICAgICAgICB9CiAgICAgICAgICAgICkuYWRkVG8oZmVhdHVyZV9ncm91cF82MTM5MmUxYTMzOTI0ODdjYTEwNDA3NTBhMDg5MTNmYSk7CiAgICAgICAgCiAgICAKICAgICAgICAgICAgdmFyIHBvcHVwX2NlN2RiNTM3YTYyMDRkNDA4ZjM1ZmNjYzMxYmQwZGVlID0gTC5wb3B1cCh7bWF4V2lkdGg6ICcxMDAlJwogICAgICAgICAgICAKICAgICAgICAgICAgfSk7CgogICAgICAgICAgICAKICAgICAgICAgICAgICAgIHZhciBodG1sXzliMzc3NGRhZjNkODQ2ZTg4MDA0OTY0YjY5MDkyYzQ3ID0gJChgPGRpdiBpZD0iaHRtbF85YjM3NzRkYWYzZDg0NmU4ODAwNDk2NGI2OTA5MmM0NyIgc3R5bGU9IndpZHRoOiAxMDAuMCU7IGhlaWdodDogMTAwLjAlOyI+Q2VudHJhbCBUb3JvbnRvPC9kaXY+YClbMF07CiAgICAgICAgICAgICAgICBwb3B1cF9jZTdkYjUzN2E2MjA0ZDQwOGYzNWZjY2MzMWJkMGRlZS5zZXRDb250ZW50KGh0bWxfOWIzNzc0ZGFmM2Q4NDZlODgwMDQ5NjRiNjkwOTJjNDcpOwogICAgICAgICAgICAKCiAgICAgICAgICAgIG1hcmtlcl8yMjIxZThjODNhYzg0MGYxOWU5NjUwMTcxYWMzYmEzMS5iaW5kUG9wdXAocG9wdXBfY2U3ZGI1MzdhNjIwNGQ0MDhmMzVmY2NjMzFiZDBkZWUpCiAgICAgICAgICAgIDsKCiAgICAgICAgICAgIAogICAgICAgIAogICAgCiAgICAgICAgdmFyIG1hcmtlcl8zMTVlODkzMGI0Mzk0Yjk3OTlmZDQyMmU1ZDA5NWIzYiA9IEwubWFya2VyKAogICAgICAgICAgICBbNDMuNzExNjk0OCwgLTc5LjQxNjkzNTU5OTk5OTk5XSwKICAgICAgICAgICAgewogICAgICAgICAgICAgICAgaWNvbjogbmV3IEwuSWNvbi5EZWZhdWx0KCksCiAgICAgICAgICAgICAgICB9CiAgICAgICAgICAgICkuYWRkVG8oZmVhdHVyZV9ncm91cF82MTM5MmUxYTMzOTI0ODdjYTEwNDA3NTBhMDg5MTNmYSk7CiAgICAgICAgCiAgICAKICAgICAgICAgICAgdmFyIHBvcHVwXzNhZTJjNTY1YzUxYzQ5M2E4NzkyMTljYmJlZTcyMWM1ID0gTC5wb3B1cCh7bWF4V2lkdGg6ICcxMDAlJwogICAgICAgICAgICAKICAgICAgICAgICAgfSk7CgogICAgICAgICAgICAKICAgICAgICAgICAgICAgIHZhciBodG1sX2IwN2MxNTRiNDA1ZjRkNTNhMTlkNjMwMmM0MjQzMzczID0gJChgPGRpdiBpZD0iaHRtbF9iMDdjMTU0YjQwNWY0ZDUzYTE5ZDYzMDJjNDI0MzM3MyIgc3R5bGU9IndpZHRoOiAxMDAuMCU7IGhlaWdodDogMTAwLjAlOyI+Q2VudHJhbCBUb3JvbnRvPC9kaXY+YClbMF07CiAgICAgICAgICAgICAgICBwb3B1cF8zYWUyYzU2NWM1MWM0OTNhODc5MjE5Y2JiZWU3MjFjNS5zZXRDb250ZW50KGh0bWxfYjA3YzE1NGI0MDVmNGQ1M2ExOWQ2MzAyYzQyNDMzNzMpOwogICAgICAgICAgICAKCiAgICAgICAgICAgIG1hcmtlcl8zMTVlODkzMGI0Mzk0Yjk3OTlmZDQyMmU1ZDA5NWIzYi5iaW5kUG9wdXAocG9wdXBfM2FlMmM1NjVjNTFjNDkzYTg3OTIxOWNiYmVlNzIxYzUpCiAgICAgICAgICAgIDsKCiAgICAgICAgICAgIAogICAgICAgIAogICAgCiAgICAgICAgdmFyIG1hcmtlcl8xYzg5ZGYzMzY2ZjY0OTQzOWFiYmM1YWM0NTdlMzVmZiA9IEwubWFya2VyKAogICAgICAgICAgICBbNDMuNjczMTg1Mjk5OTk5OTksIC03OS40ODcyNjE5MDAwMDAwMV0sCiAgICAgICAgICAgIHsKICAgICAgICAgICAgICAgIGljb246IG5ldyBMLkljb24uRGVmYXVsdCgpLAogICAgICAgICAgICAgICAgfQogICAgICAgICAgICApLmFkZFRvKGZlYXR1cmVfZ3JvdXBfNjEzOTJlMWEzMzkyNDg3Y2ExMDQwNzUwYTA4OTEzZmEpOwogICAgICAgIAogICAgCiAgICAgICAgICAgIHZhciBwb3B1cF8zYzBlM2FiNmIwNWM0OGRiOTFlN2QzNTdjYzBmZTY3ZiA9IEwucG9wdXAoe21heFdpZHRoOiAnMTAwJScKICAgICAgICAgICAgCiAgICAgICAgICAgIH0pOwoKICAgICAgICAgICAgCiAgICAgICAgICAgICAgICB2YXIgaHRtbF84NDBjMWJlZjRkMzA0ZWE5YTgyZTg2NGVlZjE2NTYxMSA9ICQoYDxkaXYgaWQ9Imh0bWxfODQwYzFiZWY0ZDMwNGVhOWE4MmU4NjRlZWYxNjU2MTEiIHN0eWxlPSJ3aWR0aDogMTAwLjAlOyBoZWlnaHQ6IDEwMC4wJTsiPllvcms8L2Rpdj5gKVswXTsKICAgICAgICAgICAgICAgIHBvcHVwXzNjMGUzYWI2YjA1YzQ4ZGI5MWU3ZDM1N2NjMGZlNjdmLnNldENvbnRlbnQoaHRtbF84NDBjMWJlZjRkMzA0ZWE5YTgyZTg2NGVlZjE2NTYxMSk7CiAgICAgICAgICAgIAoKICAgICAgICAgICAgbWFya2VyXzFjODlkZjMzNjZmNjQ5NDM5YWJiYzVhYzQ1N2UzNWZmLmJpbmRQb3B1cChwb3B1cF8zYzBlM2FiNmIwNWM0OGRiOTFlN2QzNTdjYzBmZTY3ZikKICAgICAgICAgICAgOwoKICAgICAgICAgICAgCiAgICAgICAgCiAgICAKICAgICAgICB2YXIgbWFya2VyXzM5NGQ4ZWM0NWViMzRmNmM5MGU0NDFiZjVkMGM4OTkxID0gTC5tYXJrZXIoCiAgICAgICAgICAgIFs0My43MDY4NzYsIC03OS41MTgxODg0MDAwMDAwMV0sCiAgICAgICAgICAgIHsKICAgICAgICAgICAgICAgIGljb246IG5ldyBMLkljb24uRGVmYXVsdCgpLAogICAgICAgICAgICAgICAgfQogICAgICAgICAgICApLmFkZFRvKGZlYXR1cmVfZ3JvdXBfNjEzOTJlMWEzMzkyNDg3Y2ExMDQwNzUwYTA4OTEzZmEpOwogICAgICAgIAogICAgCiAgICAgICAgICAgIHZhciBwb3B1cF82ODJhYjQ1YmI3NWI0YTAwYjFlNWZiNTJkNDI0MTdlMyA9IEwucG9wdXAoe21heFdpZHRoOiAnMTAwJScKICAgICAgICAgICAgCiAgICAgICAgICAgIH0pOwoKICAgICAgICAgICAgCiAgICAgICAgICAgICAgICB2YXIgaHRtbF9jMTk4N2QyNTU4ZmI0NWU3YWY1ZWY1NTRmNzUzNDFjYSA9ICQoYDxkaXYgaWQ9Imh0bWxfYzE5ODdkMjU1OGZiNDVlN2FmNWVmNTU0Zjc1MzQxY2EiIHN0eWxlPSJ3aWR0aDogMTAwLjAlOyBoZWlnaHQ6IDEwMC4wJTsiPllvcms8L2Rpdj5gKVswXTsKICAgICAgICAgICAgICAgIHBvcHVwXzY4MmFiNDViYjc1YjRhMDBiMWU1ZmI1MmQ0MjQxN2UzLnNldENvbnRlbnQoaHRtbF9jMTk4N2QyNTU4ZmI0NWU3YWY1ZWY1NTRmNzUzNDFjYSk7CiAgICAgICAgICAgIAoKICAgICAgICAgICAgbWFya2VyXzM5NGQ4ZWM0NWViMzRmNmM5MGU0NDFiZjVkMGM4OTkxLmJpbmRQb3B1cChwb3B1cF82ODJhYjQ1YmI3NWI0YTAwYjFlNWZiNTJkNDI0MTdlMykKICAgICAgICAgICAgOwoKICAgICAgICAgICAgCiAgICAgICAgCiAgICAKICAgICAgICB2YXIgbWFya2VyXzJkNzE1YWYwNDY1NTRhMTNiNDE5NTk3MmJmODUyN2MzID0gTC5tYXJrZXIoCiAgICAgICAgICAgIFs0My43NTc0MDk2LCAtNzkuMjczMzA0MDAwMDAwMDFdLAogICAgICAgICAgICB7CiAgICAgICAgICAgICAgICBpY29uOiBuZXcgTC5JY29uLkRlZmF1bHQoKSwKICAgICAgICAgICAgICAgIH0KICAgICAgICAgICAgKS5hZGRUbyhmZWF0dXJlX2dyb3VwXzYxMzkyZTFhMzM5MjQ4N2NhMTA0MDc1MGEwODkxM2ZhKTsKICAgICAgICAKICAgIAogICAgICAgICAgICB2YXIgcG9wdXBfZGY2ZTA4NGJlNGJkNDZjYmFkZTkzY2Y2ODBhY2VjNTkgPSBMLnBvcHVwKHttYXhXaWR0aDogJzEwMCUnCiAgICAgICAgICAgIAogICAgICAgICAgICB9KTsKCiAgICAgICAgICAgIAogICAgICAgICAgICAgICAgdmFyIGh0bWxfZTIzMmIzMmM1MDAyNDYwYjg1MTU1MmNhZWZhMGNlYmEgPSAkKGA8ZGl2IGlkPSJodG1sX2UyMzJiMzJjNTAwMjQ2MGI4NTE1NTJjYWVmYTBjZWJhIiBzdHlsZT0id2lkdGg6IDEwMC4wJTsgaGVpZ2h0OiAxMDAuMCU7Ij5TY2FyYm9yb3VnaDwvZGl2PmApWzBdOwogICAgICAgICAgICAgICAgcG9wdXBfZGY2ZTA4NGJlNGJkNDZjYmFkZTkzY2Y2ODBhY2VjNTkuc2V0Q29udGVudChodG1sX2UyMzJiMzJjNTAwMjQ2MGI4NTE1NTJjYWVmYTBjZWJhKTsKICAgICAgICAgICAgCgogICAgICAgICAgICBtYXJrZXJfMmQ3MTVhZjA0NjU1NGExM2I0MTk1OTcyYmY4NTI3YzMuYmluZFBvcHVwKHBvcHVwX2RmNmUwODRiZTRiZDQ2Y2JhZGU5M2NmNjgwYWNlYzU5KQogICAgICAgICAgICA7CgogICAgICAgICAgICAKICAgICAgICAKICAgIAogICAgICAgIHZhciBtYXJrZXJfMmZhNGY3NDMxOGYwNDY5ZGExMzJjNDI3NmFhNjQ0NmIgPSBMLm1hcmtlcigKICAgICAgICAgICAgWzQzLjc1Mjc1ODI5OTk5OTk5NiwgLTc5LjQwMDA0OTNdLAogICAgICAgICAgICB7CiAgICAgICAgICAgICAgICBpY29uOiBuZXcgTC5JY29uLkRlZmF1bHQoKSwKICAgICAgICAgICAgICAgIH0KICAgICAgICAgICAgKS5hZGRUbyhmZWF0dXJlX2dyb3VwXzYxMzkyZTFhMzM5MjQ4N2NhMTA0MDc1MGEwODkxM2ZhKTsKICAgICAgICAKICAgIAogICAgICAgICAgICB2YXIgcG9wdXBfMTZjYWFkYzc0Y2EyNGM3ZjhlYzBiNjcxMzVlYjIzNmEgPSBMLnBvcHVwKHttYXhXaWR0aDogJzEwMCUnCiAgICAgICAgICAgIAogICAgICAgICAgICB9KTsKCiAgICAgICAgICAgIAogICAgICAgICAgICAgICAgdmFyIGh0bWxfM2I3ODI3ODVlMTBkNDVjMzhjZDQzYmU2ODMxMjkzYzAgPSAkKGA8ZGl2IGlkPSJodG1sXzNiNzgyNzg1ZTEwZDQ1YzM4Y2Q0M2JlNjgzMTI5M2MwIiBzdHlsZT0id2lkdGg6IDEwMC4wJTsgaGVpZ2h0OiAxMDAuMCU7Ij5Ob3J0aCBZb3JrPC9kaXY+YClbMF07CiAgICAgICAgICAgICAgICBwb3B1cF8xNmNhYWRjNzRjYTI0YzdmOGVjMGI2NzEzNWViMjM2YS5zZXRDb250ZW50KGh0bWxfM2I3ODI3ODVlMTBkNDVjMzhjZDQzYmU2ODMxMjkzYzApOwogICAgICAgICAgICAKCiAgICAgICAgICAgIG1hcmtlcl8yZmE0Zjc0MzE4ZjA0NjlkYTEzMmM0Mjc2YWE2NDQ2Yi5iaW5kUG9wdXAocG9wdXBfMTZjYWFkYzc0Y2EyNGM3ZjhlYzBiNjcxMzVlYjIzNmEpCiAgICAgICAgICAgIDsKCiAgICAgICAgICAgIAogICAgICAgIAogICAgCiAgICAgICAgdmFyIG1hcmtlcl85ZTc3NTE4OTQ3MDE0MTMzYTc3YmNlOGYyNGM4ZjA5NiA9IEwubWFya2VyKAogICAgICAgICAgICBbNDMuNzEyNzUxMSwgLTc5LjM5MDE5NzVdLAogICAgICAgICAgICB7CiAgICAgICAgICAgICAgICBpY29uOiBuZXcgTC5JY29uLkRlZmF1bHQoKSwKICAgICAgICAgICAgICAgIH0KICAgICAgICAgICAgKS5hZGRUbyhmZWF0dXJlX2dyb3VwXzYxMzkyZTFhMzM5MjQ4N2NhMTA0MDc1MGEwODkxM2ZhKTsKICAgICAgICAKICAgIAogICAgICAgICAgICB2YXIgcG9wdXBfN2EwODNlZmRlYTg2NDcxNWI0ZTgwYmE2MjA0NjFhZDggPSBMLnBvcHVwKHttYXhXaWR0aDogJzEwMCUnCiAgICAgICAgICAgIAogICAgICAgICAgICB9KTsKCiAgICAgICAgICAgIAogICAgICAgICAgICAgICAgdmFyIGh0bWxfODQxMzQ5ZDIxYmEyNGQwMGFkMGU3OTgxZTcyNDRkODAgPSAkKGA8ZGl2IGlkPSJodG1sXzg0MTM0OWQyMWJhMjRkMDBhZDBlNzk4MWU3MjQ0ZDgwIiBzdHlsZT0id2lkdGg6IDEwMC4wJTsgaGVpZ2h0OiAxMDAuMCU7Ij5DZW50cmFsIFRvcm9udG88L2Rpdj5gKVswXTsKICAgICAgICAgICAgICAgIHBvcHVwXzdhMDgzZWZkZWE4NjQ3MTViNGU4MGJhNjIwNDYxYWQ4LnNldENvbnRlbnQoaHRtbF84NDEzNDlkMjFiYTI0ZDAwYWQwZTc5ODFlNzI0NGQ4MCk7CiAgICAgICAgICAgIAoKICAgICAgICAgICAgbWFya2VyXzllNzc1MTg5NDcwMTQxMzNhNzdiY2U4ZjI0YzhmMDk2LmJpbmRQb3B1cChwb3B1cF83YTA4M2VmZGVhODY0NzE1YjRlODBiYTYyMDQ2MWFkOCkKICAgICAgICAgICAgOwoKICAgICAgICAgICAgCiAgICAgICAgCiAgICAKICAgICAgICB2YXIgbWFya2VyXzkyOTQ4MTViOThhYzQ3MjE5YjgzYjQ4M2VkMGI5MTI0ID0gTC5tYXJrZXIoCiAgICAgICAgICAgIFs0My42OTY5NDc2LCAtNzkuNDExMzA3MjAwMDAwMDFdLAogICAgICAgICAgICB7CiAgICAgICAgICAgICAgICBpY29uOiBuZXcgTC5JY29uLkRlZmF1bHQoKSwKICAgICAgICAgICAgICAgIH0KICAgICAgICAgICAgKS5hZGRUbyhmZWF0dXJlX2dyb3VwXzYxMzkyZTFhMzM5MjQ4N2NhMTA0MDc1MGEwODkxM2ZhKTsKICAgICAgICAKICAgIAogICAgICAgICAgICB2YXIgcG9wdXBfNTBmMTE4ZDg2YmM1NDdlZTk5YzRkY2VjNzk0ZmY2ZmYgPSBMLnBvcHVwKHttYXhXaWR0aDogJzEwMCUnCiAgICAgICAgICAgIAogICAgICAgICAgICB9KTsKCiAgICAgICAgICAgIAogICAgICAgICAgICAgICAgdmFyIGh0bWxfZmUzZjAzY2RlMmViNDEzMmIzODkyYzgzZWUyODI3MzggPSAkKGA8ZGl2IGlkPSJodG1sX2ZlM2YwM2NkZTJlYjQxMzJiMzg5MmM4M2VlMjgyNzM4IiBzdHlsZT0id2lkdGg6IDEwMC4wJTsgaGVpZ2h0OiAxMDAuMCU7Ij5DZW50cmFsIFRvcm9udG88L2Rpdj5gKVswXTsKICAgICAgICAgICAgICAgIHBvcHVwXzUwZjExOGQ4NmJjNTQ3ZWU5OWM0ZGNlYzc5NGZmNmZmLnNldENvbnRlbnQoaHRtbF9mZTNmMDNjZGUyZWI0MTMyYjM4OTJjODNlZTI4MjczOCk7CiAgICAgICAgICAgIAoKICAgICAgICAgICAgbWFya2VyXzkyOTQ4MTViOThhYzQ3MjE5YjgzYjQ4M2VkMGI5MTI0LmJpbmRQb3B1cChwb3B1cF81MGYxMThkODZiYzU0N2VlOTljNGRjZWM3OTRmZjZmZikKICAgICAgICAgICAgOwoKICAgICAgICAgICAgCiAgICAgICAgCiAgICAKICAgICAgICB2YXIgbWFya2VyXzk0YTU0MTIzNzRkOTQ0YmE4N2QxOTUxZDk1YzEwZjg3ID0gTC5tYXJrZXIoCiAgICAgICAgICAgIFs0My42NjE2MDgzLCAtNzkuNDY0NzYzMjk5OTk5OTldLAogICAgICAgICAgICB7CiAgICAgICAgICAgICAgICBpY29uOiBuZXcgTC5JY29uLkRlZmF1bHQoKSwKICAgICAgICAgICAgICAgIH0KICAgICAgICAgICAgKS5hZGRUbyhmZWF0dXJlX2dyb3VwXzYxMzkyZTFhMzM5MjQ4N2NhMTA0MDc1MGEwODkxM2ZhKTsKICAgICAgICAKICAgIAogICAgICAgICAgICB2YXIgcG9wdXBfNjk5Mzc5OTUyNGJiNDJmYWE0ZDRiOWYzMGZjYTY1YjAgPSBMLnBvcHVwKHttYXhXaWR0aDogJzEwMCUnCiAgICAgICAgICAgIAogICAgICAgICAgICB9KTsKCiAgICAgICAgICAgIAogICAgICAgICAgICAgICAgdmFyIGh0bWxfNDdjZWYzZjczZjc4NDg4NTgxMDI0MGRlZmMwZTdjZmIgPSAkKGA8ZGl2IGlkPSJodG1sXzQ3Y2VmM2Y3M2Y3ODQ4ODU4MTAyNDBkZWZjMGU3Y2ZiIiBzdHlsZT0id2lkdGg6IDEwMC4wJTsgaGVpZ2h0OiAxMDAuMCU7Ij5XZXN0IFRvcm9udG88L2Rpdj5gKVswXTsKICAgICAgICAgICAgICAgIHBvcHVwXzY5OTM3OTk1MjRiYjQyZmFhNGQ0YjlmMzBmY2E2NWIwLnNldENvbnRlbnQoaHRtbF80N2NlZjNmNzNmNzg0ODg1ODEwMjQwZGVmYzBlN2NmYik7CiAgICAgICAgICAgIAoKICAgICAgICAgICAgbWFya2VyXzk0YTU0MTIzNzRkOTQ0YmE4N2QxOTUxZDk1YzEwZjg3LmJpbmRQb3B1cChwb3B1cF82OTkzNzk5NTI0YmI0MmZhYTRkNGI5ZjMwZmNhNjViMCkKICAgICAgICAgICAgOwoKICAgICAgICAgICAgCiAgICAgICAgCiAgICAKICAgICAgICB2YXIgbWFya2VyX2FjM2Q5NDEzZTA0ZjRiYWM4ODllZWUwNWIyZTNkZjY3ID0gTC5tYXJrZXIoCiAgICAgICAgICAgIFs0My42OTYzMTksIC03OS41MzIyNDI0MDAwMDAwMl0sCiAgICAgICAgICAgIHsKICAgICAgICAgICAgICAgIGljb246IG5ldyBMLkljb24uRGVmYXVsdCgpLAogICAgICAgICAgICAgICAgfQogICAgICAgICAgICApLmFkZFRvKGZlYXR1cmVfZ3JvdXBfNjEzOTJlMWEzMzkyNDg3Y2ExMDQwNzUwYTA4OTEzZmEpOwogICAgICAgIAogICAgCiAgICAgICAgICAgIHZhciBwb3B1cF85ODE1ZGMxYTU0Yjk0NWJjOWY0Mjc5NzRkMWEzY2EzMCA9IEwucG9wdXAoe21heFdpZHRoOiAnMTAwJScKICAgICAgICAgICAgCiAgICAgICAgICAgIH0pOwoKICAgICAgICAgICAgCiAgICAgICAgICAgICAgICB2YXIgaHRtbF81MDgzMjM1MWMwMjg0NjJiOGQ3YjViZWEwYmE4OTZlYiA9ICQoYDxkaXYgaWQ9Imh0bWxfNTA4MzIzNTFjMDI4NDYyYjhkN2I1YmVhMGJhODk2ZWIiIHN0eWxlPSJ3aWR0aDogMTAwLjAlOyBoZWlnaHQ6IDEwMC4wJTsiPkV0b2JpY29rZTwvZGl2PmApWzBdOwogICAgICAgICAgICAgICAgcG9wdXBfOTgxNWRjMWE1NGI5NDViYzlmNDI3OTc0ZDFhM2NhMzAuc2V0Q29udGVudChodG1sXzUwODMyMzUxYzAyODQ2MmI4ZDdiNWJlYTBiYTg5NmViKTsKICAgICAgICAgICAgCgogICAgICAgICAgICBtYXJrZXJfYWMzZDk0MTNlMDRmNGJhYzg4OWVlZTA1YjJlM2RmNjcuYmluZFBvcHVwKHBvcHVwXzk4MTVkYzFhNTRiOTQ1YmM5ZjQyNzk3NGQxYTNjYTMwKQogICAgICAgICAgICA7CgogICAgICAgICAgICAKICAgICAgICAKICAgIAogICAgICAgIHZhciBtYXJrZXJfNGMyNzQ5ZDJiZDUzNDI0NmJiYzA1NzQwNjgyZmQ5NDcgPSBMLm1hcmtlcigKICAgICAgICAgICAgWzQzLjc1MDA3MTUwMDAwMDAwNCwgLTc5LjI5NTg0OTFdLAogICAgICAgICAgICB7CiAgICAgICAgICAgICAgICBpY29uOiBuZXcgTC5JY29uLkRlZmF1bHQoKSwKICAgICAgICAgICAgICAgIH0KICAgICAgICAgICAgKS5hZGRUbyhmZWF0dXJlX2dyb3VwXzYxMzkyZTFhMzM5MjQ4N2NhMTA0MDc1MGEwODkxM2ZhKTsKICAgICAgICAKICAgIAogICAgICAgICAgICB2YXIgcG9wdXBfMTE5OTlkNTVkNzU4NDEyZGEwOTY4NDcwZjFmMDdjMDcgPSBMLnBvcHVwKHttYXhXaWR0aDogJzEwMCUnCiAgICAgICAgICAgIAogICAgICAgICAgICB9KTsKCiAgICAgICAgICAgIAogICAgICAgICAgICAgICAgdmFyIGh0bWxfNDgzOGQ4MWFjZDdiNDk1ZmFmMjk4NWIwYjMwYzhiMTggPSAkKGA8ZGl2IGlkPSJodG1sXzQ4MzhkODFhY2Q3YjQ5NWZhZjI5ODViMGIzMGM4YjE4IiBzdHlsZT0id2lkdGg6IDEwMC4wJTsgaGVpZ2h0OiAxMDAuMCU7Ij5TY2FyYm9yb3VnaDwvZGl2PmApWzBdOwogICAgICAgICAgICAgICAgcG9wdXBfMTE5OTlkNTVkNzU4NDEyZGEwOTY4NDcwZjFmMDdjMDcuc2V0Q29udGVudChodG1sXzQ4MzhkODFhY2Q3YjQ5NWZhZjI5ODViMGIzMGM4YjE4KTsKICAgICAgICAgICAgCgogICAgICAgICAgICBtYXJrZXJfNGMyNzQ5ZDJiZDUzNDI0NmJiYzA1NzQwNjgyZmQ5NDcuYmluZFBvcHVwKHBvcHVwXzExOTk5ZDU1ZDc1ODQxMmRhMDk2ODQ3MGYxZjA3YzA3KQogICAgICAgICAgICA7CgogICAgICAgICAgICAKICAgICAgICAKICAgIAogICAgICAgIHZhciBtYXJrZXJfMDNjNTBlYzgwMTEzNDZjNTgxYjU1OGNjNjdjZTJlODUgPSBMLm1hcmtlcigKICAgICAgICAgICAgWzQzLjc4MjczNjQsIC03OS40NDIyNTkzXSwKICAgICAgICAgICAgewogICAgICAgICAgICAgICAgaWNvbjogbmV3IEwuSWNvbi5EZWZhdWx0KCksCiAgICAgICAgICAgICAgICB9CiAgICAgICAgICAgICkuYWRkVG8oZmVhdHVyZV9ncm91cF82MTM5MmUxYTMzOTI0ODdjYTEwNDA3NTBhMDg5MTNmYSk7CiAgICAgICAgCiAgICAKICAgICAgICAgICAgdmFyIHBvcHVwXzA3NDY1YjI4NzNlNTQ3MWU5MDMxYjZhNmYyZWFhODRhID0gTC5wb3B1cCh7bWF4V2lkdGg6ICcxMDAlJwogICAgICAgICAgICAKICAgICAgICAgICAgfSk7CgogICAgICAgICAgICAKICAgICAgICAgICAgICAgIHZhciBodG1sXzE3MTg1NTdiNGQxMzQ0ZGNhMjdjMWM1MDZlZDg0YjdiID0gJChgPGRpdiBpZD0iaHRtbF8xNzE4NTU3YjRkMTM0NGRjYTI3YzFjNTA2ZWQ4NGI3YiIgc3R5bGU9IndpZHRoOiAxMDAuMCU7IGhlaWdodDogMTAwLjAlOyI+Tm9ydGggWW9yazwvZGl2PmApWzBdOwogICAgICAgICAgICAgICAgcG9wdXBfMDc0NjViMjg3M2U1NDcxZTkwMzFiNmE2ZjJlYWE4NGEuc2V0Q29udGVudChodG1sXzE3MTg1NTdiNGQxMzQ0ZGNhMjdjMWM1MDZlZDg0YjdiKTsKICAgICAgICAgICAgCgogICAgICAgICAgICBtYXJrZXJfMDNjNTBlYzgwMTEzNDZjNTgxYjU1OGNjNjdjZTJlODUuYmluZFBvcHVwKHBvcHVwXzA3NDY1YjI4NzNlNTQ3MWU5MDMxYjZhNmYyZWFhODRhKQogICAgICAgICAgICA7CgogICAgICAgICAgICAKICAgICAgICAKICAgIAogICAgICAgIHZhciBtYXJrZXJfMGY2Yjk1YWUzMjNhNGFkZWE0N2RjYTI2ZWQ3ZDQ4MGIgPSBMLm1hcmtlcigKICAgICAgICAgICAgWzQzLjcxNTM4MzQsIC03OS40MDU2Nzg0MDAwMDAwMV0sCiAgICAgICAgICAgIHsKICAgICAgICAgICAgICAgIGljb246IG5ldyBMLkljb24uRGVmYXVsdCgpLAogICAgICAgICAgICAgICAgfQogICAgICAgICAgICApLmFkZFRvKGZlYXR1cmVfZ3JvdXBfNjEzOTJlMWEzMzkyNDg3Y2ExMDQwNzUwYTA4OTEzZmEpOwogICAgICAgIAogICAgCiAgICAgICAgICAgIHZhciBwb3B1cF83ODFkY2Q4ZGI0YTk0MzM3YmZhYTFiZjUzZWE5NzQyNyA9IEwucG9wdXAoe21heFdpZHRoOiAnMTAwJScKICAgICAgICAgICAgCiAgICAgICAgICAgIH0pOwoKICAgICAgICAgICAgCiAgICAgICAgICAgICAgICB2YXIgaHRtbF8yNmRmODEwODU5N2Q0NmU1OWJkN2FhOTc0ODVmMzE5MiA9ICQoYDxkaXYgaWQ9Imh0bWxfMjZkZjgxMDg1OTdkNDZlNTliZDdhYTk3NDg1ZjMxOTIiIHN0eWxlPSJ3aWR0aDogMTAwLjAlOyBoZWlnaHQ6IDEwMC4wJTsiPkNlbnRyYWwgVG9yb250bzwvZGl2PmApWzBdOwogICAgICAgICAgICAgICAgcG9wdXBfNzgxZGNkOGRiNGE5NDMzN2JmYWExYmY1M2VhOTc0Mjcuc2V0Q29udGVudChodG1sXzI2ZGY4MTA4NTk3ZDQ2ZTU5YmQ3YWE5NzQ4NWYzMTkyKTsKICAgICAgICAgICAgCgogICAgICAgICAgICBtYXJrZXJfMGY2Yjk1YWUzMjNhNGFkZWE0N2RjYTI2ZWQ3ZDQ4MGIuYmluZFBvcHVwKHBvcHVwXzc4MWRjZDhkYjRhOTQzMzdiZmFhMWJmNTNlYTk3NDI3KQogICAgICAgICAgICA7CgogICAgICAgICAgICAKICAgICAgICAKICAgIAogICAgICAgIHZhciBtYXJrZXJfZmM1YTAwYmJmN2RmNGE1M2I5ZWMwYjFhYjcxNDYyZjMgPSBMLm1hcmtlcigKICAgICAgICAgICAgWzQzLjY3MjcwOTcsIC03OS40MDU2Nzg0MDAwMDAwMV0sCiAgICAgICAgICAgIHsKICAgICAgICAgICAgICAgIGljb246IG5ldyBMLkljb24uRGVmYXVsdCgpLAogICAgICAgICAgICAgICAgfQogICAgICAgICAgICApLmFkZFRvKGZlYXR1cmVfZ3JvdXBfNjEzOTJlMWEzMzkyNDg3Y2ExMDQwNzUwYTA4OTEzZmEpOwogICAgICAgIAogICAgCiAgICAgICAgICAgIHZhciBwb3B1cF84MmIyZjhmNzM0YmE0Y2M4OGY3OGU0OTI0ZDRhYjA3YyA9IEwucG9wdXAoe21heFdpZHRoOiAnMTAwJScKICAgICAgICAgICAgCiAgICAgICAgICAgIH0pOwoKICAgICAgICAgICAgCiAgICAgICAgICAgICAgICB2YXIgaHRtbF82NzVhYTU1OTkzY2Y0OWE3OGM2M2IyM2RlMTNhNjFjYiA9ICQoYDxkaXYgaWQ9Imh0bWxfNjc1YWE1NTk5M2NmNDlhNzhjNjNiMjNkZTEzYTYxY2IiIHN0eWxlPSJ3aWR0aDogMTAwLjAlOyBoZWlnaHQ6IDEwMC4wJTsiPkNlbnRyYWwgVG9yb250bzwvZGl2PmApWzBdOwogICAgICAgICAgICAgICAgcG9wdXBfODJiMmY4ZjczNGJhNGNjODhmNzhlNDkyNGQ0YWIwN2Muc2V0Q29udGVudChodG1sXzY3NWFhNTU5OTNjZjQ5YTc4YzYzYjIzZGUxM2E2MWNiKTsKICAgICAgICAgICAgCgogICAgICAgICAgICBtYXJrZXJfZmM1YTAwYmJmN2RmNGE1M2I5ZWMwYjFhYjcxNDYyZjMuYmluZFBvcHVwKHBvcHVwXzgyYjJmOGY3MzRiYTRjYzg4Zjc4ZTQ5MjRkNGFiMDdjKQogICAgICAgICAgICA7CgogICAgICAgICAgICAKICAgICAgICAKICAgIAogICAgICAgIHZhciBtYXJrZXJfNzMyZjgxMTVkMjU5NDJmNGJjOTZmMmY5YjU1NjZkYTggPSBMLm1hcmtlcigKICAgICAgICAgICAgWzQzLjY0ODk1OTcsIC03OS40NTYzMjVdLAogICAgICAgICAgICB7CiAgICAgICAgICAgICAgICBpY29uOiBuZXcgTC5JY29uLkRlZmF1bHQoKSwKICAgICAgICAgICAgICAgIH0KICAgICAgICAgICAgKS5hZGRUbyhmZWF0dXJlX2dyb3VwXzYxMzkyZTFhMzM5MjQ4N2NhMTA0MDc1MGEwODkxM2ZhKTsKICAgICAgICAKICAgIAogICAgICAgICAgICB2YXIgcG9wdXBfZGNiZmE5NzhhZWUzNGNmZWFjZTM5M2I2NjEwZWVlNWMgPSBMLnBvcHVwKHttYXhXaWR0aDogJzEwMCUnCiAgICAgICAgICAgIAogICAgICAgICAgICB9KTsKCiAgICAgICAgICAgIAogICAgICAgICAgICAgICAgdmFyIGh0bWxfYzZhOWYwNzdkYTBkNGYzNGJjMjg5MGRmNWJhNGVkMTAgPSAkKGA8ZGl2IGlkPSJodG1sX2M2YTlmMDc3ZGEwZDRmMzRiYzI4OTBkZjViYTRlZDEwIiBzdHlsZT0id2lkdGg6IDEwMC4wJTsgaGVpZ2h0OiAxMDAuMCU7Ij5XZXN0IFRvcm9udG88L2Rpdj5gKVswXTsKICAgICAgICAgICAgICAgIHBvcHVwX2RjYmZhOTc4YWVlMzRjZmVhY2UzOTNiNjYxMGVlZTVjLnNldENvbnRlbnQoaHRtbF9jNmE5ZjA3N2RhMGQ0ZjM0YmMyODkwZGY1YmE0ZWQxMCk7CiAgICAgICAgICAgIAoKICAgICAgICAgICAgbWFya2VyXzczMmY4MTE1ZDI1OTQyZjRiYzk2ZjJmOWI1NTY2ZGE4LmJpbmRQb3B1cChwb3B1cF9kY2JmYTk3OGFlZTM0Y2ZlYWNlMzkzYjY2MTBlZWU1YykKICAgICAgICAgICAgOwoKICAgICAgICAgICAgCiAgICAgICAgCiAgICAKICAgICAgICB2YXIgbWFya2VyXzNlNzJlY2QxMTNlNjRjYjk4ZDAxY2VmMTU2MTlkMzJiID0gTC5tYXJrZXIoCiAgICAgICAgICAgIFs0My42MzY5NjU2LCAtNzkuNjE1ODE4OTk5OTk5OTldLAogICAgICAgICAgICB7CiAgICAgICAgICAgICAgICBpY29uOiBuZXcgTC5JY29uLkRlZmF1bHQoKSwKICAgICAgICAgICAgICAgIH0KICAgICAgICAgICAgKS5hZGRUbyhmZWF0dXJlX2dyb3VwXzYxMzkyZTFhMzM5MjQ4N2NhMTA0MDc1MGEwODkxM2ZhKTsKICAgICAgICAKICAgIAogICAgICAgICAgICB2YXIgcG9wdXBfNjVkZWE0ZmY1MDE4NGIxNjhkMzE4Mjg2OWJlMzBjNGEgPSBMLnBvcHVwKHttYXhXaWR0aDogJzEwMCUnCiAgICAgICAgICAgIAogICAgICAgICAgICB9KTsKCiAgICAgICAgICAgIAogICAgICAgICAgICAgICAgdmFyIGh0bWxfYjE4MDNlYjY3YWFiNGIxNTllMjFkOTJhNWY2ZWJmYWMgPSAkKGA8ZGl2IGlkPSJodG1sX2IxODAzZWI2N2FhYjRiMTU5ZTIxZDkyYTVmNmViZmFjIiBzdHlsZT0id2lkdGg6IDEwMC4wJTsgaGVpZ2h0OiAxMDAuMCU7Ij5NaXNzaXNzYXVnYTwvZGl2PmApWzBdOwogICAgICAgICAgICAgICAgcG9wdXBfNjVkZWE0ZmY1MDE4NGIxNjhkMzE4Mjg2OWJlMzBjNGEuc2V0Q29udGVudChodG1sX2IxODAzZWI2N2FhYjRiMTU5ZTIxZDkyYTVmNmViZmFjKTsKICAgICAgICAgICAgCgogICAgICAgICAgICBtYXJrZXJfM2U3MmVjZDExM2U2NGNiOThkMDFjZWYxNTYxOWQzMmIuYmluZFBvcHVwKHBvcHVwXzY1ZGVhNGZmNTAxODRiMTY4ZDMxODI4NjliZTMwYzRhKQogICAgICAgICAgICA7CgogICAgICAgICAgICAKICAgICAgICAKICAgIAogICAgICAgIHZhciBtYXJrZXJfMTg4ZThmMDZiZWNhNDc3Yzk1ZTM4ODkyZjYzNzRiZGUgPSBMLm1hcmtlcigKICAgICAgICAgICAgWzQzLjY4ODkwNTQsIC03OS41NTQ3MjQ0MDAwMDAwMV0sCiAgICAgICAgICAgIHsKICAgICAgICAgICAgICAgIGljb246IG5ldyBMLkljb24uRGVmYXVsdCgpLAogICAgICAgICAgICAgICAgfQogICAgICAgICAgICApLmFkZFRvKGZlYXR1cmVfZ3JvdXBfNjEzOTJlMWEzMzkyNDg3Y2ExMDQwNzUwYTA4OTEzZmEpOwogICAgICAgIAogICAgCiAgICAgICAgICAgIHZhciBwb3B1cF8yZTAwYzk2YzdjNzA0ZWUyYjdiM2NlZjI2NjY5ODViOCA9IEwucG9wdXAoe21heFdpZHRoOiAnMTAwJScKICAgICAgICAgICAgCiAgICAgICAgICAgIH0pOwoKICAgICAgICAgICAgCiAgICAgICAgICAgICAgICB2YXIgaHRtbF8xMmQ4ODFmN2ZkZTY0ZTUxODkzMTFiMTRiOWI2ZDA1NiA9ICQoYDxkaXYgaWQ9Imh0bWxfMTJkODgxZjdmZGU2NGU1MTg5MzExYjE0YjliNmQwNTYiIHN0eWxlPSJ3aWR0aDogMTAwLjAlOyBoZWlnaHQ6IDEwMC4wJTsiPkV0b2JpY29rZTwvZGl2PmApWzBdOwogICAgICAgICAgICAgICAgcG9wdXBfMmUwMGM5NmM3YzcwNGVlMmI3YjNjZWYyNjY2OTg1Yjguc2V0Q29udGVudChodG1sXzEyZDg4MWY3ZmRlNjRlNTE4OTMxMWIxNGI5YjZkMDU2KTsKICAgICAgICAgICAgCgogICAgICAgICAgICBtYXJrZXJfMTg4ZThmMDZiZWNhNDc3Yzk1ZTM4ODkyZjYzNzRiZGUuYmluZFBvcHVwKHBvcHVwXzJlMDBjOTZjN2M3MDRlZTJiN2IzY2VmMjY2Njk4NWI4KQogICAgICAgICAgICA7CgogICAgICAgICAgICAKICAgICAgICAKICAgIAogICAgICAgIHZhciBtYXJrZXJfY2EzYjE2ZTAyOTk2NGY5Mzg0ZDRkNjhmNGY2ZmEwMjIgPSBMLm1hcmtlcigKICAgICAgICAgICAgWzQzLjc5NDIwMDMsIC03OS4yNjIwMjk0MDAwMDAwMl0sCiAgICAgICAgICAgIHsKICAgICAgICAgICAgICAgIGljb246IG5ldyBMLkljb24uRGVmYXVsdCgpLAogICAgICAgICAgICAgICAgfQogICAgICAgICAgICApLmFkZFRvKGZlYXR1cmVfZ3JvdXBfNjEzOTJlMWEzMzkyNDg3Y2ExMDQwNzUwYTA4OTEzZmEpOwogICAgICAgIAogICAgCiAgICAgICAgICAgIHZhciBwb3B1cF8zMDI2YWMyMjExODA0MWQ0YWQ3YWU3MDk3NjdkMWM2OSA9IEwucG9wdXAoe21heFdpZHRoOiAnMTAwJScKICAgICAgICAgICAgCiAgICAgICAgICAgIH0pOwoKICAgICAgICAgICAgCiAgICAgICAgICAgICAgICB2YXIgaHRtbF8zZTRjN2RhODA5ODk0MTcxODYwZjI3OThjODg4MmI0OSA9ICQoYDxkaXYgaWQ9Imh0bWxfM2U0YzdkYTgwOTg5NDE3MTg2MGYyNzk4Yzg4ODJiNDkiIHN0eWxlPSJ3aWR0aDogMTAwLjAlOyBoZWlnaHQ6IDEwMC4wJTsiPlNjYXJib3JvdWdoPC9kaXY+YClbMF07CiAgICAgICAgICAgICAgICBwb3B1cF8zMDI2YWMyMjExODA0MWQ0YWQ3YWU3MDk3NjdkMWM2OS5zZXRDb250ZW50KGh0bWxfM2U0YzdkYTgwOTg5NDE3MTg2MGYyNzk4Yzg4ODJiNDkpOwogICAgICAgICAgICAKCiAgICAgICAgICAgIG1hcmtlcl9jYTNiMTZlMDI5OTY0ZjkzODRkNGQ2OGY0ZjZmYTAyMi5iaW5kUG9wdXAocG9wdXBfMzAyNmFjMjIxMTgwNDFkNGFkN2FlNzA5NzY3ZDFjNjkpCiAgICAgICAgICAgIDsKCiAgICAgICAgICAgIAogICAgICAgIAogICAgCiAgICAgICAgdmFyIG1hcmtlcl8wY2ZlNjEzNmIzMWM0NzgyOTcwNzVmYzQ0OTU3ZjgyYSA9IEwubWFya2VyKAogICAgICAgICAgICBbNDMuNzA0MzI0NCwgLTc5LjM4ODc5MDFdLAogICAgICAgICAgICB7CiAgICAgICAgICAgICAgICBpY29uOiBuZXcgTC5JY29uLkRlZmF1bHQoKSwKICAgICAgICAgICAgICAgIH0KICAgICAgICAgICAgKS5hZGRUbyhmZWF0dXJlX2dyb3VwXzYxMzkyZTFhMzM5MjQ4N2NhMTA0MDc1MGEwODkxM2ZhKTsKICAgICAgICAKICAgIAogICAgICAgICAgICB2YXIgcG9wdXBfODE0N2U2ODM4ZDhkNDBjMzg5ZjBiZGJlZDkxMmIxZmMgPSBMLnBvcHVwKHttYXhXaWR0aDogJzEwMCUnCiAgICAgICAgICAgIAogICAgICAgICAgICB9KTsKCiAgICAgICAgICAgIAogICAgICAgICAgICAgICAgdmFyIGh0bWxfY2MwMDdlMzU2NjEzNDU0NWI2NDE3OTIyN2NjZDZhZWUgPSAkKGA8ZGl2IGlkPSJodG1sX2NjMDA3ZTM1NjYxMzQ1NDViNjQxNzkyMjdjY2Q2YWVlIiBzdHlsZT0id2lkdGg6IDEwMC4wJTsgaGVpZ2h0OiAxMDAuMCU7Ij5DZW50cmFsIFRvcm9udG88L2Rpdj5gKVswXTsKICAgICAgICAgICAgICAgIHBvcHVwXzgxNDdlNjgzOGQ4ZDQwYzM4OWYwYmRiZWQ5MTJiMWZjLnNldENvbnRlbnQoaHRtbF9jYzAwN2UzNTY2MTM0NTQ1YjY0MTc5MjI3Y2NkNmFlZSk7CiAgICAgICAgICAgIAoKICAgICAgICAgICAgbWFya2VyXzBjZmU2MTM2YjMxYzQ3ODI5NzA3NWZjNDQ5NTdmODJhLmJpbmRQb3B1cChwb3B1cF84MTQ3ZTY4MzhkOGQ0MGMzODlmMGJkYmVkOTEyYjFmYykKICAgICAgICAgICAgOwoKICAgICAgICAgICAgCiAgICAgICAgCiAgICAKICAgICAgICB2YXIgbWFya2VyXzdiYTA5YTM2M2NhOTQyYjliMDJjNTQwZGRjMGM0YWE4ID0gTC5tYXJrZXIoCiAgICAgICAgICAgIFs0My42NjI2OTU2LCAtNzkuNDAwMDQ5M10sCiAgICAgICAgICAgIHsKICAgICAgICAgICAgICAgIGljb246IG5ldyBMLkljb24uRGVmYXVsdCgpLAogICAgICAgICAgICAgICAgfQogICAgICAgICAgICApLmFkZFRvKGZlYXR1cmVfZ3JvdXBfNjEzOTJlMWEzMzkyNDg3Y2ExMDQwNzUwYTA4OTEzZmEpOwogICAgICAgIAogICAgCiAgICAgICAgICAgIHZhciBwb3B1cF9kZTVmNTcyNzg0ZjA0MDQyYmE4ZjI2YmJmYjY5MTExOSA9IEwucG9wdXAoe21heFdpZHRoOiAnMTAwJScKICAgICAgICAgICAgCiAgICAgICAgICAgIH0pOwoKICAgICAgICAgICAgCiAgICAgICAgICAgICAgICB2YXIgaHRtbF80MGE4M2M3NWIxMTk0ODk5YjcyOTEzNzdmOWQ3Y2YzOSA9ICQoYDxkaXYgaWQ9Imh0bWxfNDBhODNjNzViMTE5NDg5OWI3MjkxMzc3ZjlkN2NmMzkiIHN0eWxlPSJ3aWR0aDogMTAwLjAlOyBoZWlnaHQ6IDEwMC4wJTsiPkRvd250b3duIFRvcm9udG88L2Rpdj5gKVswXTsKICAgICAgICAgICAgICAgIHBvcHVwX2RlNWY1NzI3ODRmMDQwNDJiYThmMjZiYmZiNjkxMTE5LnNldENvbnRlbnQoaHRtbF80MGE4M2M3NWIxMTk0ODk5YjcyOTEzNzdmOWQ3Y2YzOSk7CiAgICAgICAgICAgIAoKICAgICAgICAgICAgbWFya2VyXzdiYTA5YTM2M2NhOTQyYjliMDJjNTQwZGRjMGM0YWE4LmJpbmRQb3B1cChwb3B1cF9kZTVmNTcyNzg0ZjA0MDQyYmE4ZjI2YmJmYjY5MTExOSkKICAgICAgICAgICAgOwoKICAgICAgICAgICAgCiAgICAgICAgCiAgICAKICAgICAgICB2YXIgbWFya2VyX2Y2YzYxYmQ0YTIyNDRjOThiMGE4MWViODlmYjIxMzRmID0gTC5tYXJrZXIoCiAgICAgICAgICAgIFs0My42NTE1NzA2LCAtNzkuNDg0NDQ5OV0sCiAgICAgICAgICAgIHsKICAgICAgICAgICAgICAgIGljb246IG5ldyBMLkljb24uRGVmYXVsdCgpLAogICAgICAgICAgICAgICAgfQogICAgICAgICAgICApLmFkZFRvKGZlYXR1cmVfZ3JvdXBfNjEzOTJlMWEzMzkyNDg3Y2ExMDQwNzUwYTA4OTEzZmEpOwogICAgICAgIAogICAgCiAgICAgICAgICAgIHZhciBwb3B1cF80ZTY4Y2NmNGZmNzU0NTcyOTgzZTczNGZjMzgzYjA0MCA9IEwucG9wdXAoe21heFdpZHRoOiAnMTAwJScKICAgICAgICAgICAgCiAgICAgICAgICAgIH0pOwoKICAgICAgICAgICAgCiAgICAgICAgICAgICAgICB2YXIgaHRtbF8zMDY2Mzg1MDU3OGM0YTk5YTIyOTYyZjY1YjQyZTA3MyA9ICQoYDxkaXYgaWQ9Imh0bWxfMzA2NjM4NTA1NzhjNGE5OWEyMjk2MmY2NWI0MmUwNzMiIHN0eWxlPSJ3aWR0aDogMTAwLjAlOyBoZWlnaHQ6IDEwMC4wJTsiPldlc3QgVG9yb250bzwvZGl2PmApWzBdOwogICAgICAgICAgICAgICAgcG9wdXBfNGU2OGNjZjRmZjc1NDU3Mjk4M2U3MzRmYzM4M2IwNDAuc2V0Q29udGVudChodG1sXzMwNjYzODUwNTc4YzRhOTlhMjI5NjJmNjViNDJlMDczKTsKICAgICAgICAgICAgCgogICAgICAgICAgICBtYXJrZXJfZjZjNjFiZDRhMjI0NGM5OGIwYTgxZWI4OWZiMjEzNGYuYmluZFBvcHVwKHBvcHVwXzRlNjhjY2Y0ZmY3NTQ1NzI5ODNlNzM0ZmMzODNiMDQwKQogICAgICAgICAgICA7CgogICAgICAgICAgICAKICAgICAgICAKICAgIAogICAgICAgIHZhciBtYXJrZXJfYjY0NDBhZjY2MWE3NGQ3MThlN2JhYjFiN2FlZDViZTMgPSBMLm1hcmtlcigKICAgICAgICAgICAgWzQzLjc4MTYzNzUsIC03OS4zMDQzMDIxXSwKICAgICAgICAgICAgewogICAgICAgICAgICAgICAgaWNvbjogbmV3IEwuSWNvbi5EZWZhdWx0KCksCiAgICAgICAgICAgICAgICB9CiAgICAgICAgICAgICkuYWRkVG8oZmVhdHVyZV9ncm91cF82MTM5MmUxYTMzOTI0ODdjYTEwNDA3NTBhMDg5MTNmYSk7CiAgICAgICAgCiAgICAKICAgICAgICAgICAgdmFyIHBvcHVwX2Y4MGJjMjk3ZGQyMTQ1ZDM4YzA0YmI2ZjFlMjRhZDIxID0gTC5wb3B1cCh7bWF4V2lkdGg6ICcxMDAlJwogICAgICAgICAgICAKICAgICAgICAgICAgfSk7CgogICAgICAgICAgICAKICAgICAgICAgICAgICAgIHZhciBodG1sXzg4Y2VkOGY3NzY3MjRjNDNiYWQ1ZTZiODE4NmNkNWE1ID0gJChgPGRpdiBpZD0iaHRtbF84OGNlZDhmNzc2NzI0YzQzYmFkNWU2YjgxODZjZDVhNSIgc3R5bGU9IndpZHRoOiAxMDAuMCU7IGhlaWdodDogMTAwLjAlOyI+U2NhcmJvcm91Z2g8L2Rpdj5gKVswXTsKICAgICAgICAgICAgICAgIHBvcHVwX2Y4MGJjMjk3ZGQyMTQ1ZDM4YzA0YmI2ZjFlMjRhZDIxLnNldENvbnRlbnQoaHRtbF84OGNlZDhmNzc2NzI0YzQzYmFkNWU2YjgxODZjZDVhNSk7CiAgICAgICAgICAgIAoKICAgICAgICAgICAgbWFya2VyX2I2NDQwYWY2NjFhNzRkNzE4ZTdiYWIxYjdhZWQ1YmUzLmJpbmRQb3B1cChwb3B1cF9mODBiYzI5N2RkMjE0NWQzOGMwNGJiNmYxZTI0YWQyMSkKICAgICAgICAgICAgOwoKICAgICAgICAgICAgCiAgICAgICAgCiAgICAKICAgICAgICB2YXIgbWFya2VyX2M2MTJlNTdmMWFmNTQ3OGFhNjk2OGNiMjZhNzUyNTI5ID0gTC5tYXJrZXIoCiAgICAgICAgICAgIFs0My42ODk1NzQzLCAtNzkuMzgzMTU5OTAwMDAwMDFdLAogICAgICAgICAgICB7CiAgICAgICAgICAgICAgICBpY29uOiBuZXcgTC5JY29uLkRlZmF1bHQoKSwKICAgICAgICAgICAgICAgIH0KICAgICAgICAgICAgKS5hZGRUbyhmZWF0dXJlX2dyb3VwXzYxMzkyZTFhMzM5MjQ4N2NhMTA0MDc1MGEwODkxM2ZhKTsKICAgICAgICAKICAgIAogICAgICAgICAgICB2YXIgcG9wdXBfZDY5MGIzZjQ5OTM2NDIyMDg5YmRiMGZhMGMyNWY4YzAgPSBMLnBvcHVwKHttYXhXaWR0aDogJzEwMCUnCiAgICAgICAgICAgIAogICAgICAgICAgICB9KTsKCiAgICAgICAgICAgIAogICAgICAgICAgICAgICAgdmFyIGh0bWxfMDUxMTgwZTUwMGIzNDIzYWFkY2M3MDE2YTBiNDljNTkgPSAkKGA8ZGl2IGlkPSJodG1sXzA1MTE4MGU1MDBiMzQyM2FhZGNjNzAxNmEwYjQ5YzU5IiBzdHlsZT0id2lkdGg6IDEwMC4wJTsgaGVpZ2h0OiAxMDAuMCU7Ij5DZW50cmFsIFRvcm9udG88L2Rpdj5gKVswXTsKICAgICAgICAgICAgICAgIHBvcHVwX2Q2OTBiM2Y0OTkzNjQyMjA4OWJkYjBmYTBjMjVmOGMwLnNldENvbnRlbnQoaHRtbF8wNTExODBlNTAwYjM0MjNhYWRjYzcwMTZhMGI0OWM1OSk7CiAgICAgICAgICAgIAoKICAgICAgICAgICAgbWFya2VyX2M2MTJlNTdmMWFmNTQ3OGFhNjk2OGNiMjZhNzUyNTI5LmJpbmRQb3B1cChwb3B1cF9kNjkwYjNmNDk5MzY0MjIwODliZGIwZmEwYzI1ZjhjMCkKICAgICAgICAgICAgOwoKICAgICAgICAgICAgCiAgICAgICAgCiAgICAKICAgICAgICB2YXIgbWFya2VyX2JiODBlYTcxNGZlNTQ3YmU4MmJiN2JiOWQ4MTM1NGYwID0gTC5tYXJrZXIoCiAgICAgICAgICAgIFs0My42NTMyMDU3LCAtNzkuNDAwMDQ5M10sCiAgICAgICAgICAgIHsKICAgICAgICAgICAgICAgIGljb246IG5ldyBMLkljb24uRGVmYXVsdCgpLAogICAgICAgICAgICAgICAgfQogICAgICAgICAgICApLmFkZFRvKGZlYXR1cmVfZ3JvdXBfNjEzOTJlMWEzMzkyNDg3Y2ExMDQwNzUwYTA4OTEzZmEpOwogICAgICAgIAogICAgCiAgICAgICAgICAgIHZhciBwb3B1cF8wZDczYTFhNzdkMGE0MWRkOTE5OTIxYjYyYjczMzg2YiA9IEwucG9wdXAoe21heFdpZHRoOiAnMTAwJScKICAgICAgICAgICAgCiAgICAgICAgICAgIH0pOwoKICAgICAgICAgICAgCiAgICAgICAgICAgICAgICB2YXIgaHRtbF9kNTA3N2FjOWJhMGU0NWQwYjgyMzMyNzA2N2Q5MTVlZiA9ICQoYDxkaXYgaWQ9Imh0bWxfZDUwNzdhYzliYTBlNDVkMGI4MjMzMjcwNjdkOTE1ZWYiIHN0eWxlPSJ3aWR0aDogMTAwLjAlOyBoZWlnaHQ6IDEwMC4wJTsiPkRvd250b3duIFRvcm9udG88L2Rpdj5gKVswXTsKICAgICAgICAgICAgICAgIHBvcHVwXzBkNzNhMWE3N2QwYTQxZGQ5MTk5MjFiNjJiNzMzODZiLnNldENvbnRlbnQoaHRtbF9kNTA3N2FjOWJhMGU0NWQwYjgyMzMyNzA2N2Q5MTVlZik7CiAgICAgICAgICAgIAoKICAgICAgICAgICAgbWFya2VyX2JiODBlYTcxNGZlNTQ3YmU4MmJiN2JiOWQ4MTM1NGYwLmJpbmRQb3B1cChwb3B1cF8wZDczYTFhNzdkMGE0MWRkOTE5OTIxYjYyYjczMzg2YikKICAgICAgICAgICAgOwoKICAgICAgICAgICAgCiAgICAgICAgCiAgICAKICAgICAgICB2YXIgbWFya2VyXzE3NmY2OTFhZGI3NjRlMTQ4YWQ0MGNiYjU1YjcyOGVjID0gTC5tYXJrZXIoCiAgICAgICAgICAgIFs0My44MTUyNTIyLCAtNzkuMjg0NTc3Ml0sCiAgICAgICAgICAgIHsKICAgICAgICAgICAgICAgIGljb246IG5ldyBMLkljb24uRGVmYXVsdCgpLAogICAgICAgICAgICAgICAgfQogICAgICAgICAgICApLmFkZFRvKGZlYXR1cmVfZ3JvdXBfNjEzOTJlMWEzMzkyNDg3Y2ExMDQwNzUwYTA4OTEzZmEpOwogICAgICAgIAogICAgCiAgICAgICAgICAgIHZhciBwb3B1cF9kMGU5ZmQzNzIxZTY0ODU5YWQ0OTk0ODI3MDgwYjI3MSA9IEwucG9wdXAoe21heFdpZHRoOiAnMTAwJScKICAgICAgICAgICAgCiAgICAgICAgICAgIH0pOwoKICAgICAgICAgICAgCiAgICAgICAgICAgICAgICB2YXIgaHRtbF84YzY0ODQyMDEwNTI0NTk0YWUwZWM2YmY4YTA0NDdmOSA9ICQoYDxkaXYgaWQ9Imh0bWxfOGM2NDg0MjAxMDUyNDU5NGFlMGVjNmJmOGEwNDQ3ZjkiIHN0eWxlPSJ3aWR0aDogMTAwLjAlOyBoZWlnaHQ6IDEwMC4wJTsiPlNjYXJib3JvdWdoPC9kaXY+YClbMF07CiAgICAgICAgICAgICAgICBwb3B1cF9kMGU5ZmQzNzIxZTY0ODU5YWQ0OTk0ODI3MDgwYjI3MS5zZXRDb250ZW50KGh0bWxfOGM2NDg0MjAxMDUyNDU5NGFlMGVjNmJmOGEwNDQ3ZjkpOwogICAgICAgICAgICAKCiAgICAgICAgICAgIG1hcmtlcl8xNzZmNjkxYWRiNzY0ZTE0OGFkNDBjYmI1NWI3MjhlYy5iaW5kUG9wdXAocG9wdXBfZDBlOWZkMzcyMWU2NDg1OWFkNDk5NDgyNzA4MGIyNzEpCiAgICAgICAgICAgIDsKCiAgICAgICAgICAgIAogICAgICAgIAogICAgCiAgICAgICAgdmFyIG1hcmtlcl9kM2UxZWNjZWMyZjg0ZjgwYWI4MTcxY2M1OWNkMjBjZiA9IEwubWFya2VyKAogICAgICAgICAgICBbNDMuNjg2NDEyMjk5OTk5OTksIC03OS40MDAwNDkzXSwKICAgICAgICAgICAgewogICAgICAgICAgICAgICAgaWNvbjogbmV3IEwuSWNvbi5EZWZhdWx0KCksCiAgICAgICAgICAgICAgICB9CiAgICAgICAgICAgICkuYWRkVG8oZmVhdHVyZV9ncm91cF82MTM5MmUxYTMzOTI0ODdjYTEwNDA3NTBhMDg5MTNmYSk7CiAgICAgICAgCiAgICAKICAgICAgICAgICAgdmFyIHBvcHVwX2M4NjQyY2I5YTEzMjRhMTc5ZmNiZjdkZjkzODRkYjY3ID0gTC5wb3B1cCh7bWF4V2lkdGg6ICcxMDAlJwogICAgICAgICAgICAKICAgICAgICAgICAgfSk7CgogICAgICAgICAgICAKICAgICAgICAgICAgICAgIHZhciBodG1sXzAxYjlmMGE3YTM0NTQyNGI4MDU0OTg0ZWVlYTAzNGZkID0gJChgPGRpdiBpZD0iaHRtbF8wMWI5ZjBhN2EzNDU0MjRiODA1NDk4NGVlZWEwMzRmZCIgc3R5bGU9IndpZHRoOiAxMDAuMCU7IGhlaWdodDogMTAwLjAlOyI+Q2VudHJhbCBUb3JvbnRvPC9kaXY+YClbMF07CiAgICAgICAgICAgICAgICBwb3B1cF9jODY0MmNiOWExMzI0YTE3OWZjYmY3ZGY5Mzg0ZGI2Ny5zZXRDb250ZW50KGh0bWxfMDFiOWYwYTdhMzQ1NDI0YjgwNTQ5ODRlZWVhMDM0ZmQpOwogICAgICAgICAgICAKCiAgICAgICAgICAgIG1hcmtlcl9kM2UxZWNjZWMyZjg0ZjgwYWI4MTcxY2M1OWNkMjBjZi5iaW5kUG9wdXAocG9wdXBfYzg2NDJjYjlhMTMyNGExNzlmY2JmN2RmOTM4NGRiNjcpCiAgICAgICAgICAgIDsKCiAgICAgICAgICAgIAogICAgICAgIAogICAgCiAgICAgICAgdmFyIG1hcmtlcl8xNDJjMzY1MDVlNTk0MTY2YTFjYzM0ZDIxMmVhZWEwNiA9IEwubWFya2VyKAogICAgICAgICAgICBbNDMuNjI4OTQ2NywgLTc5LjM5NDQxOTldLAogICAgICAgICAgICB7CiAgICAgICAgICAgICAgICBpY29uOiBuZXcgTC5JY29uLkRlZmF1bHQoKSwKICAgICAgICAgICAgICAgIH0KICAgICAgICAgICAgKS5hZGRUbyhmZWF0dXJlX2dyb3VwXzYxMzkyZTFhMzM5MjQ4N2NhMTA0MDc1MGEwODkxM2ZhKTsKICAgICAgICAKICAgIAogICAgICAgICAgICB2YXIgcG9wdXBfMmNkOGE4MGQ4YmQxNDIwOWI1ZmE0MDQ1MjkyZjE4MDkgPSBMLnBvcHVwKHttYXhXaWR0aDogJzEwMCUnCiAgICAgICAgICAgIAogICAgICAgICAgICB9KTsKCiAgICAgICAgICAgIAogICAgICAgICAgICAgICAgdmFyIGh0bWxfNzcyMjJjZWZjYjAzNGUxOGI4NzM5ODNkMmRjZDA3NTQgPSAkKGA8ZGl2IGlkPSJodG1sXzc3MjIyY2VmY2IwMzRlMThiODczOTgzZDJkY2QwNzU0IiBzdHlsZT0id2lkdGg6IDEwMC4wJTsgaGVpZ2h0OiAxMDAuMCU7Ij5Eb3dudG93biBUb3JvbnRvPC9kaXY+YClbMF07CiAgICAgICAgICAgICAgICBwb3B1cF8yY2Q4YTgwZDhiZDE0MjA5YjVmYTQwNDUyOTJmMTgwOS5zZXRDb250ZW50KGh0bWxfNzcyMjJjZWZjYjAzNGUxOGI4NzM5ODNkMmRjZDA3NTQpOwogICAgICAgICAgICAKCiAgICAgICAgICAgIG1hcmtlcl8xNDJjMzY1MDVlNTk0MTY2YTFjYzM0ZDIxMmVhZWEwNi5iaW5kUG9wdXAocG9wdXBfMmNkOGE4MGQ4YmQxNDIwOWI1ZmE0MDQ1MjkyZjE4MDkpCiAgICAgICAgICAgIDsKCiAgICAgICAgICAgIAogICAgICAgIAogICAgCiAgICAgICAgdmFyIG1hcmtlcl80Yzg2ZWJjMjI0ZTM0NzQwYWE2ZTg2ZWJlMzVkYmVjMyA9IEwubWFya2VyKAogICAgICAgICAgICBbNDMuNjA1NjQ2NiwgLTc5LjUwMTMyMDcwMDAwMDAxXSwKICAgICAgICAgICAgewogICAgICAgICAgICAgICAgaWNvbjogbmV3IEwuSWNvbi5EZWZhdWx0KCksCiAgICAgICAgICAgICAgICB9CiAgICAgICAgICAgICkuYWRkVG8oZmVhdHVyZV9ncm91cF82MTM5MmUxYTMzOTI0ODdjYTEwNDA3NTBhMDg5MTNmYSk7CiAgICAgICAgCiAgICAKICAgICAgICAgICAgdmFyIHBvcHVwX2Q2YzlkNWFjZDE4ODRlZjdhYjRmOTBhMjFlNTNjODM2ID0gTC5wb3B1cCh7bWF4V2lkdGg6ICcxMDAlJwogICAgICAgICAgICAKICAgICAgICAgICAgfSk7CgogICAgICAgICAgICAKICAgICAgICAgICAgICAgIHZhciBodG1sXzkwNjVhYTJhNTdhMTRlMmE5NTBkOGRlNTFhZGM2NmEzID0gJChgPGRpdiBpZD0iaHRtbF85MDY1YWEyYTU3YTE0ZTJhOTUwZDhkZTUxYWRjNjZhMyIgc3R5bGU9IndpZHRoOiAxMDAuMCU7IGhlaWdodDogMTAwLjAlOyI+RXRvYmljb2tlPC9kaXY+YClbMF07CiAgICAgICAgICAgICAgICBwb3B1cF9kNmM5ZDVhY2QxODg0ZWY3YWI0ZjkwYTIxZTUzYzgzNi5zZXRDb250ZW50KGh0bWxfOTA2NWFhMmE1N2ExNGUyYTk1MGQ4ZGU1MWFkYzY2YTMpOwogICAgICAgICAgICAKCiAgICAgICAgICAgIG1hcmtlcl80Yzg2ZWJjMjI0ZTM0NzQwYWE2ZTg2ZWJlMzVkYmVjMy5iaW5kUG9wdXAocG9wdXBfZDZjOWQ1YWNkMTg4NGVmN2FiNGY5MGEyMWU1M2M4MzYpCiAgICAgICAgICAgIDsKCiAgICAgICAgICAgIAogICAgICAgIAogICAgCiAgICAgICAgdmFyIG1hcmtlcl83MzI1ZGViMzM3ZWY0MjIwYWMzNDUyMjdkMDFhNDk1NSA9IEwubWFya2VyKAogICAgICAgICAgICBbNDMuNzM5NDE2Mzk5OTk5OTk2LCAtNzkuNTg4NDM2OV0sCiAgICAgICAgICAgIHsKICAgICAgICAgICAgICAgIGljb246IG5ldyBMLkljb24uRGVmYXVsdCgpLAogICAgICAgICAgICAgICAgfQogICAgICAgICAgICApLmFkZFRvKGZlYXR1cmVfZ3JvdXBfNjEzOTJlMWEzMzkyNDg3Y2ExMDQwNzUwYTA4OTEzZmEpOwogICAgICAgIAogICAgCiAgICAgICAgICAgIHZhciBwb3B1cF9jODBlMGUzZWNjMGE0ZTE4YWMwYzE4MDFkMDJkZjViYyA9IEwucG9wdXAoe21heFdpZHRoOiAnMTAwJScKICAgICAgICAgICAgCiAgICAgICAgICAgIH0pOwoKICAgICAgICAgICAgCiAgICAgICAgICAgICAgICB2YXIgaHRtbF81MjYzMmIyMGIzYWQ0ZDU4YWYzZmUwMTg4MGZmYTFhZCA9ICQoYDxkaXYgaWQ9Imh0bWxfNTI2MzJiMjBiM2FkNGQ1OGFmM2ZlMDE4ODBmZmExYWQiIHN0eWxlPSJ3aWR0aDogMTAwLjAlOyBoZWlnaHQ6IDEwMC4wJTsiPkV0b2JpY29rZTwvZGl2PmApWzBdOwogICAgICAgICAgICAgICAgcG9wdXBfYzgwZTBlM2VjYzBhNGUxOGFjMGMxODAxZDAyZGY1YmMuc2V0Q29udGVudChodG1sXzUyNjMyYjIwYjNhZDRkNThhZjNmZTAxODgwZmZhMWFkKTsKICAgICAgICAgICAgCgogICAgICAgICAgICBtYXJrZXJfNzMyNWRlYjMzN2VmNDIyMGFjMzQ1MjI3ZDAxYTQ5NTUuYmluZFBvcHVwKHBvcHVwX2M4MGUwZTNlY2MwYTRlMThhYzBjMTgwMWQwMmRmNWJjKQogICAgICAgICAgICA7CgogICAgICAgICAgICAKICAgICAgICAKICAgIAogICAgICAgIHZhciBtYXJrZXJfYzc1ZWIwM2RkZDBmNGYwZWJmMTlmZmI5ODhiMzczNTYgPSBMLm1hcmtlcigKICAgICAgICAgICAgWzQzLjc5OTUyNTIwMDAwMDAwNSwgLTc5LjMxODM4ODddLAogICAgICAgICAgICB7CiAgICAgICAgICAgICAgICBpY29uOiBuZXcgTC5JY29uLkRlZmF1bHQoKSwKICAgICAgICAgICAgICAgIH0KICAgICAgICAgICAgKS5hZGRUbyhmZWF0dXJlX2dyb3VwXzYxMzkyZTFhMzM5MjQ4N2NhMTA0MDc1MGEwODkxM2ZhKTsKICAgICAgICAKICAgIAogICAgICAgICAgICB2YXIgcG9wdXBfZGM5MDA3NTY2MjgxNGJkZjliNDk4MzViNzczM2RkMjYgPSBMLnBvcHVwKHttYXhXaWR0aDogJzEwMCUnCiAgICAgICAgICAgIAogICAgICAgICAgICB9KTsKCiAgICAgICAgICAgIAogICAgICAgICAgICAgICAgdmFyIGh0bWxfOGY4ZWZhYTZiMWZkNGFkN2JmMmFlYTA5Mjk5MDk4MTEgPSAkKGA8ZGl2IGlkPSJodG1sXzhmOGVmYWE2YjFmZDRhZDdiZjJhZWEwOTI5OTA5ODExIiBzdHlsZT0id2lkdGg6IDEwMC4wJTsgaGVpZ2h0OiAxMDAuMCU7Ij5TY2FyYm9yb3VnaDwvZGl2PmApWzBdOwogICAgICAgICAgICAgICAgcG9wdXBfZGM5MDA3NTY2MjgxNGJkZjliNDk4MzViNzczM2RkMjYuc2V0Q29udGVudChodG1sXzhmOGVmYWE2YjFmZDRhZDdiZjJhZWEwOTI5OTA5ODExKTsKICAgICAgICAgICAgCgogICAgICAgICAgICBtYXJrZXJfYzc1ZWIwM2RkZDBmNGYwZWJmMTlmZmI5ODhiMzczNTYuYmluZFBvcHVwKHBvcHVwX2RjOTAwNzU2NjI4MTRiZGY5YjQ5ODM1Yjc3MzNkZDI2KQogICAgICAgICAgICA7CgogICAgICAgICAgICAKICAgICAgICAKICAgIAogICAgICAgIHZhciBtYXJrZXJfYjMwNGUxNjA3MzlhNGRhZWIxN2FjNTA3NzQ0ZTNjMTggPSBMLm1hcmtlcigKICAgICAgICAgICAgWzQzLjY3OTU2MjYsIC03OS4zNzc1Mjk0MDAwMDAwMV0sCiAgICAgICAgICAgIHsKICAgICAgICAgICAgICAgIGljb246IG5ldyBMLkljb24uRGVmYXVsdCgpLAogICAgICAgICAgICAgICAgfQogICAgICAgICAgICApLmFkZFRvKGZlYXR1cmVfZ3JvdXBfNjEzOTJlMWEzMzkyNDg3Y2ExMDQwNzUwYTA4OTEzZmEpOwogICAgICAgIAogICAgCiAgICAgICAgICAgIHZhciBwb3B1cF85MTllNjIxOWJmZDc0YzI3YjY1ZTExZmE3YzY5MWFiZSA9IEwucG9wdXAoe21heFdpZHRoOiAnMTAwJScKICAgICAgICAgICAgCiAgICAgICAgICAgIH0pOwoKICAgICAgICAgICAgCiAgICAgICAgICAgICAgICB2YXIgaHRtbF9kNjc5NjM5ODQyODU0OGRmYTE1YTVkNzRiNGU4N2U3NCA9ICQoYDxkaXYgaWQ9Imh0bWxfZDY3OTYzOTg0Mjg1NDhkZmExNWE1ZDc0YjRlODdlNzQiIHN0eWxlPSJ3aWR0aDogMTAwLjAlOyBoZWlnaHQ6IDEwMC4wJTsiPkRvd250b3duIFRvcm9udG88L2Rpdj5gKVswXTsKICAgICAgICAgICAgICAgIHBvcHVwXzkxOWU2MjE5YmZkNzRjMjdiNjVlMTFmYTdjNjkxYWJlLnNldENvbnRlbnQoaHRtbF9kNjc5NjM5ODQyODU0OGRmYTE1YTVkNzRiNGU4N2U3NCk7CiAgICAgICAgICAgIAoKICAgICAgICAgICAgbWFya2VyX2IzMDRlMTYwNzM5YTRkYWViMTdhYzUwNzc0NGUzYzE4LmJpbmRQb3B1cChwb3B1cF85MTllNjIxOWJmZDc0YzI3YjY1ZTExZmE3YzY5MWFiZSkKICAgICAgICAgICAgOwoKICAgICAgICAgICAgCiAgICAgICAgCiAgICAKICAgICAgICB2YXIgbWFya2VyXzU1MjhlY2Y2ODU5YTQ5NmM4MDFlMTNlMzAxODQ3NzZjID0gTC5tYXJrZXIoCiAgICAgICAgICAgIFs0My42NDY0MzUyLCAtNzkuMzc0ODQ1OTk5OTk5OTldLAogICAgICAgICAgICB7CiAgICAgICAgICAgICAgICBpY29uOiBuZXcgTC5JY29uLkRlZmF1bHQoKSwKICAgICAgICAgICAgICAgIH0KICAgICAgICAgICAgKS5hZGRUbyhmZWF0dXJlX2dyb3VwXzYxMzkyZTFhMzM5MjQ4N2NhMTA0MDc1MGEwODkxM2ZhKTsKICAgICAgICAKICAgIAogICAgICAgICAgICB2YXIgcG9wdXBfNDM2MjgyNmQzNTE3NGIzMjliMmZmMGEwNTE4MzU3ZDMgPSBMLnBvcHVwKHttYXhXaWR0aDogJzEwMCUnCiAgICAgICAgICAgIAogICAgICAgICAgICB9KTsKCiAgICAgICAgICAgIAogICAgICAgICAgICAgICAgdmFyIGh0bWxfMmM4YjU4OTRhZDhjNGI4MWI5YjgwZmI4MDc5YWU3YTcgPSAkKGA8ZGl2IGlkPSJodG1sXzJjOGI1ODk0YWQ4YzRiODFiOWI4MGZiODA3OWFlN2E3IiBzdHlsZT0id2lkdGg6IDEwMC4wJTsgaGVpZ2h0OiAxMDAuMCU7Ij5Eb3dudG93biBUb3JvbnRvPC9kaXY+YClbMF07CiAgICAgICAgICAgICAgICBwb3B1cF80MzYyODI2ZDM1MTc0YjMyOWIyZmYwYTA1MTgzNTdkMy5zZXRDb250ZW50KGh0bWxfMmM4YjU4OTRhZDhjNGI4MWI5YjgwZmI4MDc5YWU3YTcpOwogICAgICAgICAgICAKCiAgICAgICAgICAgIG1hcmtlcl81NTI4ZWNmNjg1OWE0OTZjODAxZTEzZTMwMTg0Nzc2Yy5iaW5kUG9wdXAocG9wdXBfNDM2MjgyNmQzNTE3NGIzMjliMmZmMGEwNTE4MzU3ZDMpCiAgICAgICAgICAgIDsKCiAgICAgICAgICAgIAogICAgICAgIAogICAgCiAgICAgICAgdmFyIG1hcmtlcl83MDBiYTk5OTE1ODQ0OGIzYmZmYjJjYjQ1ODllOTAzYyA9IEwubWFya2VyKAogICAgICAgICAgICBbNDMuNjAyNDEzNzAwMDAwMDEsIC03OS41NDM0ODQwOTk5OTk5OV0sCiAgICAgICAgICAgIHsKICAgICAgICAgICAgICAgIGljb246IG5ldyBMLkljb24uRGVmYXVsdCgpLAogICAgICAgICAgICAgICAgfQogICAgICAgICAgICApLmFkZFRvKGZlYXR1cmVfZ3JvdXBfNjEzOTJlMWEzMzkyNDg3Y2ExMDQwNzUwYTA4OTEzZmEpOwogICAgICAgIAogICAgCiAgICAgICAgICAgIHZhciBwb3B1cF9kZTM3Yzc4ZGM5Mzk0ZGMyOGYyOTNkY2NkZDY3NzcyMyA9IEwucG9wdXAoe21heFdpZHRoOiAnMTAwJScKICAgICAgICAgICAgCiAgICAgICAgICAgIH0pOwoKICAgICAgICAgICAgCiAgICAgICAgICAgICAgICB2YXIgaHRtbF80YWUwZTU1N2U2NWI0OGUyODExN2IxOWUwYTA2NGI2MiA9ICQoYDxkaXYgaWQ9Imh0bWxfNGFlMGU1NTdlNjViNDhlMjgxMTdiMTllMGEwNjRiNjIiIHN0eWxlPSJ3aWR0aDogMTAwLjAlOyBoZWlnaHQ6IDEwMC4wJTsiPkV0b2JpY29rZTwvZGl2PmApWzBdOwogICAgICAgICAgICAgICAgcG9wdXBfZGUzN2M3OGRjOTM5NGRjMjhmMjkzZGNjZGQ2Nzc3MjMuc2V0Q29udGVudChodG1sXzRhZTBlNTU3ZTY1YjQ4ZTI4MTE3YjE5ZTBhMDY0YjYyKTsKICAgICAgICAgICAgCgogICAgICAgICAgICBtYXJrZXJfNzAwYmE5OTkxNTg0NDhiM2JmZmIyY2I0NTg5ZTkwM2MuYmluZFBvcHVwKHBvcHVwX2RlMzdjNzhkYzkzOTRkYzI4ZjI5M2RjY2RkNjc3NzIzKQogICAgICAgICAgICA7CgogICAgICAgICAgICAKICAgICAgICAKICAgIAogICAgICAgIHZhciBtYXJrZXJfNjA1OGI1ZjNlNzVhNDI5NDg2MDIzOGQxMzc0NTNiMzQgPSBMLm1hcmtlcigKICAgICAgICAgICAgWzQzLjcwNjc0ODI5OTk5OTk5NCwgLTc5LjU5NDA1NDRdLAogICAgICAgICAgICB7CiAgICAgICAgICAgICAgICBpY29uOiBuZXcgTC5JY29uLkRlZmF1bHQoKSwKICAgICAgICAgICAgICAgIH0KICAgICAgICAgICAgKS5hZGRUbyhmZWF0dXJlX2dyb3VwXzYxMzkyZTFhMzM5MjQ4N2NhMTA0MDc1MGEwODkxM2ZhKTsKICAgICAgICAKICAgIAogICAgICAgICAgICB2YXIgcG9wdXBfOTI1NTY2ZGVkMjZjNGQxZWJlN2EzOWRmNTI4ZWQ2ZTggPSBMLnBvcHVwKHttYXhXaWR0aDogJzEwMCUnCiAgICAgICAgICAgIAogICAgICAgICAgICB9KTsKCiAgICAgICAgICAgIAogICAgICAgICAgICAgICAgdmFyIGh0bWxfZmFmOGUwZGZiNGFjNGU2ODliN2ExNTgwMmNmN2RjODIgPSAkKGA8ZGl2IGlkPSJodG1sX2ZhZjhlMGRmYjRhYzRlNjg5YjdhMTU4MDJjZjdkYzgyIiBzdHlsZT0id2lkdGg6IDEwMC4wJTsgaGVpZ2h0OiAxMDAuMCU7Ij5FdG9iaWNva2U8L2Rpdj5gKVswXTsKICAgICAgICAgICAgICAgIHBvcHVwXzkyNTU2NmRlZDI2YzRkMWViZTdhMzlkZjUyOGVkNmU4LnNldENvbnRlbnQoaHRtbF9mYWY4ZTBkZmI0YWM0ZTY4OWI3YTE1ODAyY2Y3ZGM4Mik7CiAgICAgICAgICAgIAoKICAgICAgICAgICAgbWFya2VyXzYwNThiNWYzZTc1YTQyOTQ4NjAyMzhkMTM3NDUzYjM0LmJpbmRQb3B1cChwb3B1cF85MjU1NjZkZWQyNmM0ZDFlYmU3YTM5ZGY1MjhlZDZlOCkKICAgICAgICAgICAgOwoKICAgICAgICAgICAgCiAgICAgICAgCiAgICAKICAgICAgICB2YXIgbWFya2VyXzExZjg2YTZiNDg2MjQyMTU4MDk4MzYyZjc0YTc2ZTE3ID0gTC5tYXJrZXIoCiAgICAgICAgICAgIFs0My44MzYxMjQ3MDAwMDAwMDYsIC03OS4yMDU2MzYwOTk5OTk5OV0sCiAgICAgICAgICAgIHsKICAgICAgICAgICAgICAgIGljb246IG5ldyBMLkljb24uRGVmYXVsdCgpLAogICAgICAgICAgICAgICAgfQogICAgICAgICAgICApLmFkZFRvKGZlYXR1cmVfZ3JvdXBfNjEzOTJlMWEzMzkyNDg3Y2ExMDQwNzUwYTA4OTEzZmEpOwogICAgICAgIAogICAgCiAgICAgICAgICAgIHZhciBwb3B1cF9jMzYzNDhlNmYyNjQ0ZGYzODhkNTdiMTc1NWJiYzQ5OSA9IEwucG9wdXAoe21heFdpZHRoOiAnMTAwJScKICAgICAgICAgICAgCiAgICAgICAgICAgIH0pOwoKICAgICAgICAgICAgCiAgICAgICAgICAgICAgICB2YXIgaHRtbF82Nzg0NmNkOTE1NzY0MDU2OTA4NzkzZDY3ZGJlNDdjYSA9ICQoYDxkaXYgaWQ9Imh0bWxfNjc4NDZjZDkxNTc2NDA1NjkwODc5M2Q2N2RiZTQ3Y2EiIHN0eWxlPSJ3aWR0aDogMTAwLjAlOyBoZWlnaHQ6IDEwMC4wJTsiPlNjYXJib3JvdWdoPC9kaXY+YClbMF07CiAgICAgICAgICAgICAgICBwb3B1cF9jMzYzNDhlNmYyNjQ0ZGYzODhkNTdiMTc1NWJiYzQ5OS5zZXRDb250ZW50KGh0bWxfNjc4NDZjZDkxNTc2NDA1NjkwODc5M2Q2N2RiZTQ3Y2EpOwogICAgICAgICAgICAKCiAgICAgICAgICAgIG1hcmtlcl8xMWY4NmE2YjQ4NjI0MjE1ODA5ODM2MmY3NGE3NmUxNy5iaW5kUG9wdXAocG9wdXBfYzM2MzQ4ZTZmMjY0NGRmMzg4ZDU3YjE3NTViYmM0OTkpCiAgICAgICAgICAgIDsKCiAgICAgICAgICAgIAogICAgICAgIAogICAgCiAgICAgICAgdmFyIG1hcmtlcl81ODRiZTYxZGY1ZDA0MWY4YTU1MjM1Y2U5OGNmODY5MiA9IEwubWFya2VyKAogICAgICAgICAgICBbNDMuNjY3OTY3LCAtNzkuMzY3Njc1M10sCiAgICAgICAgICAgIHsKICAgICAgICAgICAgICAgIGljb246IG5ldyBMLkljb24uRGVmYXVsdCgpLAogICAgICAgICAgICAgICAgfQogICAgICAgICAgICApLmFkZFRvKGZlYXR1cmVfZ3JvdXBfNjEzOTJlMWEzMzkyNDg3Y2ExMDQwNzUwYTA4OTEzZmEpOwogICAgICAgIAogICAgCiAgICAgICAgICAgIHZhciBwb3B1cF9jNjMzNTEwNDZjNmY0NmYxODM3ZjA1MWI4YThiZjNhZiA9IEwucG9wdXAoe21heFdpZHRoOiAnMTAwJScKICAgICAgICAgICAgCiAgICAgICAgICAgIH0pOwoKICAgICAgICAgICAgCiAgICAgICAgICAgICAgICB2YXIgaHRtbF8xNTEyNGRiMDI5MDk0OTlmOWZiY2Y0NDQ2YTc3OTNmNCA9ICQoYDxkaXYgaWQ9Imh0bWxfMTUxMjRkYjAyOTA5NDk5ZjlmYmNmNDQ0NmE3NzkzZjQiIHN0eWxlPSJ3aWR0aDogMTAwLjAlOyBoZWlnaHQ6IDEwMC4wJTsiPkRvd250b3duIFRvcm9udG88L2Rpdj5gKVswXTsKICAgICAgICAgICAgICAgIHBvcHVwX2M2MzM1MTA0NmM2ZjQ2ZjE4MzdmMDUxYjhhOGJmM2FmLnNldENvbnRlbnQoaHRtbF8xNTEyNGRiMDI5MDk0OTlmOWZiY2Y0NDQ2YTc3OTNmNCk7CiAgICAgICAgICAgIAoKICAgICAgICAgICAgbWFya2VyXzU4NGJlNjFkZjVkMDQxZjhhNTUyMzVjZTk4Y2Y4NjkyLmJpbmRQb3B1cChwb3B1cF9jNjMzNTEwNDZjNmY0NmYxODM3ZjA1MWI4YThiZjNhZikKICAgICAgICAgICAgOwoKICAgICAgICAgICAgCiAgICAgICAgCiAgICAKICAgICAgICB2YXIgbWFya2VyXzZiMjc2MWY4ZWFjZjRiZjJhOTY1ZDk5YzA1YzliMjc0ID0gTC5tYXJrZXIoCiAgICAgICAgICAgIFs0My42NDg0MjkyLCAtNzkuMzgyMjgwMl0sCiAgICAgICAgICAgIHsKICAgICAgICAgICAgICAgIGljb246IG5ldyBMLkljb24uRGVmYXVsdCgpLAogICAgICAgICAgICAgICAgfQogICAgICAgICAgICApLmFkZFRvKGZlYXR1cmVfZ3JvdXBfNjEzOTJlMWEzMzkyNDg3Y2ExMDQwNzUwYTA4OTEzZmEpOwogICAgICAgIAogICAgCiAgICAgICAgICAgIHZhciBwb3B1cF9iY2U0NzkzNzFhYzI0YTE3YTk5MmFhNWNmNTg1MjgxMiA9IEwucG9wdXAoe21heFdpZHRoOiAnMTAwJScKICAgICAgICAgICAgCiAgICAgICAgICAgIH0pOwoKICAgICAgICAgICAgCiAgICAgICAgICAgICAgICB2YXIgaHRtbF80NDU5M2NjYzM1NzQ0OGU2YjgyNjYwNjU1NDgyZmY0MSA9ICQoYDxkaXYgaWQ9Imh0bWxfNDQ1OTNjY2MzNTc0NDhlNmI4MjY2MDY1NTQ4MmZmNDEiIHN0eWxlPSJ3aWR0aDogMTAwLjAlOyBoZWlnaHQ6IDEwMC4wJTsiPkRvd250b3duIFRvcm9udG88L2Rpdj5gKVswXTsKICAgICAgICAgICAgICAgIHBvcHVwX2JjZTQ3OTM3MWFjMjRhMTdhOTkyYWE1Y2Y1ODUyODEyLnNldENvbnRlbnQoaHRtbF80NDU5M2NjYzM1NzQ0OGU2YjgyNjYwNjU1NDgyZmY0MSk7CiAgICAgICAgICAgIAoKICAgICAgICAgICAgbWFya2VyXzZiMjc2MWY4ZWFjZjRiZjJhOTY1ZDk5YzA1YzliMjc0LmJpbmRQb3B1cChwb3B1cF9iY2U0NzkzNzFhYzI0YTE3YTk5MmFhNWNmNTg1MjgxMikKICAgICAgICAgICAgOwoKICAgICAgICAgICAgCiAgICAgICAgCiAgICAKICAgICAgICB2YXIgbWFya2VyX2Y5NzRkMjcxZDk4MzQ0ODBhNGEwMTk4OGQxZGM0ODdmID0gTC5tYXJrZXIoCiAgICAgICAgICAgIFs0My42NTM2NTM2MDAwMDAwMDUsIC03OS41MDY5NDM2XSwKICAgICAgICAgICAgewogICAgICAgICAgICAgICAgaWNvbjogbmV3IEwuSWNvbi5EZWZhdWx0KCksCiAgICAgICAgICAgICAgICB9CiAgICAgICAgICAgICkuYWRkVG8oZmVhdHVyZV9ncm91cF82MTM5MmUxYTMzOTI0ODdjYTEwNDA3NTBhMDg5MTNmYSk7CiAgICAgICAgCiAgICAKICAgICAgICAgICAgdmFyIHBvcHVwXzgyMTJmZDQzMjg3MTQyNzRiYzVlMmU0N2Y4MTUwMTA4ID0gTC5wb3B1cCh7bWF4V2lkdGg6ICcxMDAlJwogICAgICAgICAgICAKICAgICAgICAgICAgfSk7CgogICAgICAgICAgICAKICAgICAgICAgICAgICAgIHZhciBodG1sXzYxOWZjNjBlMzA1NzRhOGE4MjJhYjBhYjNhMTJjNDI3ID0gJChgPGRpdiBpZD0iaHRtbF82MTlmYzYwZTMwNTc0YThhODIyYWIwYWIzYTEyYzQyNyIgc3R5bGU9IndpZHRoOiAxMDAuMCU7IGhlaWdodDogMTAwLjAlOyI+RXRvYmljb2tlPC9kaXY+YClbMF07CiAgICAgICAgICAgICAgICBwb3B1cF84MjEyZmQ0MzI4NzE0Mjc0YmM1ZTJlNDdmODE1MDEwOC5zZXRDb250ZW50KGh0bWxfNjE5ZmM2MGUzMDU3NGE4YTgyMmFiMGFiM2ExMmM0MjcpOwogICAgICAgICAgICAKCiAgICAgICAgICAgIG1hcmtlcl9mOTc0ZDI3MWQ5ODM0NDgwYTRhMDE5ODhkMWRjNDg3Zi5iaW5kUG9wdXAocG9wdXBfODIxMmZkNDMyODcxNDI3NGJjNWUyZTQ3ZjgxNTAxMDgpCiAgICAgICAgICAgIDsKCiAgICAgICAgICAgIAogICAgICAgIAogICAgCiAgICAgICAgdmFyIG1hcmtlcl9lZDdiM2RmZGRlOGY0NmU4ODlhOGU4MWNjYjllOTdiYSA9IEwubWFya2VyKAogICAgICAgICAgICBbNDMuNjY1ODU5OSwgLTc5LjM4MzE1OTkwMDAwMDAxXSwKICAgICAgICAgICAgewogICAgICAgICAgICAgICAgaWNvbjogbmV3IEwuSWNvbi5EZWZhdWx0KCksCiAgICAgICAgICAgICAgICB9CiAgICAgICAgICAgICkuYWRkVG8oZmVhdHVyZV9ncm91cF82MTM5MmUxYTMzOTI0ODdjYTEwNDA3NTBhMDg5MTNmYSk7CiAgICAgICAgCiAgICAKICAgICAgICAgICAgdmFyIHBvcHVwXzJhMjA4ODIwNDhhMzRlZWJhYmZlNWU1ZjAwYTM2ODEwID0gTC5wb3B1cCh7bWF4V2lkdGg6ICcxMDAlJwogICAgICAgICAgICAKICAgICAgICAgICAgfSk7CgogICAgICAgICAgICAKICAgICAgICAgICAgICAgIHZhciBodG1sX2VjMzY0MWJiMzFlZjQxZTI4Y2ExN2VjZGZmNTFlNWJiID0gJChgPGRpdiBpZD0iaHRtbF9lYzM2NDFiYjMxZWY0MWUyOGNhMTdlY2RmZjUxZTViYiIgc3R5bGU9IndpZHRoOiAxMDAuMCU7IGhlaWdodDogMTAwLjAlOyI+RG93bnRvd24gVG9yb250bzwvZGl2PmApWzBdOwogICAgICAgICAgICAgICAgcG9wdXBfMmEyMDg4MjA0OGEzNGVlYmFiZmU1ZTVmMDBhMzY4MTAuc2V0Q29udGVudChodG1sX2VjMzY0MWJiMzFlZjQxZTI4Y2ExN2VjZGZmNTFlNWJiKTsKICAgICAgICAgICAgCgogICAgICAgICAgICBtYXJrZXJfZWQ3YjNkZmRkZThmNDZlODg5YThlODFjY2I5ZTk3YmEuYmluZFBvcHVwKHBvcHVwXzJhMjA4ODIwNDhhMzRlZWJhYmZlNWU1ZjAwYTM2ODEwKQogICAgICAgICAgICA7CgogICAgICAgICAgICAKICAgICAgICAKICAgIAogICAgICAgIHZhciBtYXJrZXJfOGUzNWFkYjA3ODc4NDIxYzlhNTVjYmIxZTE1ZmQ1ZjkgPSBMLm1hcmtlcigKICAgICAgICAgICAgWzQzLjY2Mjc0MzksIC03OS4zMjE1NThdLAogICAgICAgICAgICB7CiAgICAgICAgICAgICAgICBpY29uOiBuZXcgTC5JY29uLkRlZmF1bHQoKSwKICAgICAgICAgICAgICAgIH0KICAgICAgICAgICAgKS5hZGRUbyhmZWF0dXJlX2dyb3VwXzYxMzkyZTFhMzM5MjQ4N2NhMTA0MDc1MGEwODkxM2ZhKTsKICAgICAgICAKICAgIAogICAgICAgICAgICB2YXIgcG9wdXBfMmIyZDgxMDZhNDYyNGFhNmFlNmM5MWFiZTc5NmQwMTQgPSBMLnBvcHVwKHttYXhXaWR0aDogJzEwMCUnCiAgICAgICAgICAgIAogICAgICAgICAgICB9KTsKCiAgICAgICAgICAgIAogICAgICAgICAgICAgICAgdmFyIGh0bWxfZjhmY2Y0MTQ3NzUyNDk5M2JiNTkzZGY0MTFhNWE5N2IgPSAkKGA8ZGl2IGlkPSJodG1sX2Y4ZmNmNDE0Nzc1MjQ5OTNiYjU5M2RmNDExYTVhOTdiIiBzdHlsZT0id2lkdGg6IDEwMC4wJTsgaGVpZ2h0OiAxMDAuMCU7Ij5FYXN0IFRvcm9udG88L2Rpdj5gKVswXTsKICAgICAgICAgICAgICAgIHBvcHVwXzJiMmQ4MTA2YTQ2MjRhYTZhZTZjOTFhYmU3OTZkMDE0LnNldENvbnRlbnQoaHRtbF9mOGZjZjQxNDc3NTI0OTkzYmI1OTNkZjQxMWE1YTk3Yik7CiAgICAgICAgICAgIAoKICAgICAgICAgICAgbWFya2VyXzhlMzVhZGIwNzg3ODQyMWM5YTU1Y2JiMWUxNWZkNWY5LmJpbmRQb3B1cChwb3B1cF8yYjJkODEwNmE0NjI0YWE2YWU2YzkxYWJlNzk2ZDAxNCkKICAgICAgICAgICAgOwoKICAgICAgICAgICAgCiAgICAgICAgCiAgICAKICAgICAgICB2YXIgbWFya2VyXzU0YWUyMTUzMmVjODQ3ZTRhY2Y1YTFkNDIzMjBkNzNlID0gTC5tYXJrZXIoCiAgICAgICAgICAgIFs0My42MzYyNTc5LCAtNzkuNDk4NTA5MDk5OTk5OTldLAogICAgICAgICAgICB7CiAgICAgICAgICAgICAgICBpY29uOiBuZXcgTC5JY29uLkRlZmF1bHQoKSwKICAgICAgICAgICAgICAgIH0KICAgICAgICAgICAgKS5hZGRUbyhmZWF0dXJlX2dyb3VwXzYxMzkyZTFhMzM5MjQ4N2NhMTA0MDc1MGEwODkxM2ZhKTsKICAgICAgICAKICAgIAogICAgICAgICAgICB2YXIgcG9wdXBfNjE1MzVkMGNiMDEzNDJkMTgzMGJjMDk1MzkyMzdhZWUgPSBMLnBvcHVwKHttYXhXaWR0aDogJzEwMCUnCiAgICAgICAgICAgIAogICAgICAgICAgICB9KTsKCiAgICAgICAgICAgIAogICAgICAgICAgICAgICAgdmFyIGh0bWxfYzAwOTJiOGM3YTc3NGM0ODk1NmUxNDJiMDMxZmY5NDcgPSAkKGA8ZGl2IGlkPSJodG1sX2MwMDkyYjhjN2E3NzRjNDg5NTZlMTQyYjAzMWZmOTQ3IiBzdHlsZT0id2lkdGg6IDEwMC4wJTsgaGVpZ2h0OiAxMDAuMCU7Ij5FdG9iaWNva2U8L2Rpdj5gKVswXTsKICAgICAgICAgICAgICAgIHBvcHVwXzYxNTM1ZDBjYjAxMzQyZDE4MzBiYzA5NTM5MjM3YWVlLnNldENvbnRlbnQoaHRtbF9jMDA5MmI4YzdhNzc0YzQ4OTU2ZTE0MmIwMzFmZjk0Nyk7CiAgICAgICAgICAgIAoKICAgICAgICAgICAgbWFya2VyXzU0YWUyMTUzMmVjODQ3ZTRhY2Y1YTFkNDIzMjBkNzNlLmJpbmRQb3B1cChwb3B1cF82MTUzNWQwY2IwMTM0MmQxODMwYmMwOTUzOTIzN2FlZSkKICAgICAgICAgICAgOwoKICAgICAgICAgICAgCiAgICAgICAgCiAgICAKICAgICAgICB2YXIgbWFya2VyX2ZjZjVhZjZlNzY3ZjQ0OWM5YTA2Mjk3NWI3NGQ2NzA4ID0gTC5tYXJrZXIoCiAgICAgICAgICAgIFs0My42Mjg4NDA4LCAtNzkuNTIwOTk5NDAwMDAwMDFdLAogICAgICAgICAgICB7CiAgICAgICAgICAgICAgICBpY29uOiBuZXcgTC5JY29uLkRlZmF1bHQoKSwKICAgICAgICAgICAgICAgIH0KICAgICAgICAgICAgKS5hZGRUbyhmZWF0dXJlX2dyb3VwXzYxMzkyZTFhMzM5MjQ4N2NhMTA0MDc1MGEwODkxM2ZhKTsKICAgICAgICAKICAgIAogICAgICAgICAgICB2YXIgcG9wdXBfYzM3YWUwYjVmNGExNDg3OGE2N2FkNTJjNTY1ZDZlZmYgPSBMLnBvcHVwKHttYXhXaWR0aDogJzEwMCUnCiAgICAgICAgICAgIAogICAgICAgICAgICB9KTsKCiAgICAgICAgICAgIAogICAgICAgICAgICAgICAgdmFyIGh0bWxfMzMxMTAwYTc2NjhkNDA0Yzk0OTNjY2I1MDBiOTlmMmEgPSAkKGA8ZGl2IGlkPSJodG1sXzMzMTEwMGE3NjY4ZDQwNGM5NDkzY2NiNTAwYjk5ZjJhIiBzdHlsZT0id2lkdGg6IDEwMC4wJTsgaGVpZ2h0OiAxMDAuMCU7Ij5FdG9iaWNva2U8L2Rpdj5gKVswXTsKICAgICAgICAgICAgICAgIHBvcHVwX2MzN2FlMGI1ZjRhMTQ4NzhhNjdhZDUyYzU2NWQ2ZWZmLnNldENvbnRlbnQoaHRtbF8zMzExMDBhNzY2OGQ0MDRjOTQ5M2NjYjUwMGI5OWYyYSk7CiAgICAgICAgICAgIAoKICAgICAgICAgICAgbWFya2VyX2ZjZjVhZjZlNzY3ZjQ0OWM5YTA2Mjk3NWI3NGQ2NzA4LmJpbmRQb3B1cChwb3B1cF9jMzdhZTBiNWY0YTE0ODc4YTY3YWQ1MmM1NjVkNmVmZikKICAgICAgICAgICAgOwoKICAgICAgICAgICAgCiAgICAgICAgCjwvc2NyaXB0Pg==\" style=\"position:absolute;width:100%;height:100%;left:0;top:0;border:none !important;\" allowfullscreen webkitallowfullscreen mozallowfullscreen></iframe></div></div>"
      ],
      "text/plain": [
       "<folium.folium.Map at 0x232fb0d56a0>"
      ]
     },
     "execution_count": 29,
     "metadata": {},
     "output_type": "execute_result"
    }
   ],
   "source": [
    "import folium\n",
    "map=folium.Map(location=[43.6532,-79.3832],zoom_start=10,tiles='Mapbox bright')\n",
    "\n",
    "fg=folium.FeatureGroup(name=\"tornoto clusters\")\n",
    "for lat,lon,name in zip(df['Latitude'],df['Longitude'],df['borough']):\n",
    "    fg.add_child(folium.Marker(location=[lat,lon],popup=(folium.Popup(name))))\n",
    "\n",
    "map.add_child(fg)\n",
    "map"
   ]
  },
  {
   "cell_type": "code",
   "execution_count": null,
   "metadata": {},
   "outputs": [],
   "source": []
  }
 ],
 "metadata": {
  "kernelspec": {
   "display_name": "Python 3",
   "language": "python",
   "name": "python3"
  },
  "language_info": {
   "codemirror_mode": {
    "name": "ipython",
    "version": 3
   },
   "file_extension": ".py",
   "mimetype": "text/x-python",
   "name": "python",
   "nbconvert_exporter": "python",
   "pygments_lexer": "ipython3",
   "version": "3.7.3"
  }
 },
 "nbformat": 4,
 "nbformat_minor": 2
}
